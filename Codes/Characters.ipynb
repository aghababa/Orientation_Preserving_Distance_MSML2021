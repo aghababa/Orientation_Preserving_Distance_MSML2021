{
  "nbformat": 4,
  "nbformat_minor": 0,
  "metadata": {
    "kernelspec": {
      "display_name": "Python 3",
      "language": "python",
      "name": "python3"
    },
    "language_info": {
      "codemirror_mode": {
        "name": "ipython",
        "version": 3
      },
      "file_extension": ".py",
      "mimetype": "text/x-python",
      "name": "python",
      "nbconvert_exporter": "python",
      "pygments_lexer": "ipython3",
      "version": "3.7.4"
    },
    "colab": {
      "name": "Characters.ipynb",
      "provenance": [],
      "collapsed_sections": []
    }
  },
  "cells": [
    {
      "cell_type": "code",
      "metadata": {
        "scrolled": true,
        "id": "khy8eWtZbB0G",
        "colab": {
          "base_uri": "https://localhost:8080/"
        },
        "outputId": "5c8322e1-6f20-4bbe-deae-07c90d0e5463"
      },
      "source": [
        "import glob\n",
        "import numpy as np \n",
        "import time\n",
        "import math\n",
        "import random\n",
        "from scipy import linalg as LA\n",
        "import pandas as pd\n",
        "from sklearn.pipeline import make_pipeline\n",
        "from sklearn.preprocessing import StandardScaler\n",
        "from sklearn import svm\n",
        "from sklearn.svm import NuSVC\n",
        "from sklearn.model_selection import train_test_split\n",
        "from sklearn import metrics\n",
        "from sklearn.svm import SVC\n",
        "from sklearn.ensemble import RandomForestClassifier\n",
        "from sklearn.tree import DecisionTreeClassifier\n",
        "from sklearn.neighbors import KNeighborsClassifier\n",
        "import statsmodels.api as sm\n",
        "import matplotlib as mpl\n",
        "import matplotlib.pyplot as plt\n",
        "from termcolor import colored\n",
        "import ast\n",
        "import csv\n",
        "import json \n",
        "import scipy.io"
      ],
      "execution_count": 2,
      "outputs": [
        {
          "output_type": "stream",
          "text": [
            "/usr/local/lib/python3.7/dist-packages/statsmodels/tools/_testing.py:19: FutureWarning: pandas.util.testing is deprecated. Use the functions in the public API at pandas.testing instead.\n",
            "  import pandas.util.testing as tm\n"
          ],
          "name": "stderr"
        }
      ]
    },
    {
      "cell_type": "code",
      "metadata": {
        "colab": {
          "base_uri": "https://localhost:8080/"
        },
        "id": "SS_bnF7fcFww",
        "outputId": "61b37204-92ee-4355-d4a2-86556b14af1f"
      },
      "source": [
        "from google.colab import drive\n",
        "drive.mount(\"/content/gdrive\")"
      ],
      "execution_count": 3,
      "outputs": [
        {
          "output_type": "stream",
          "text": [
            "Mounted at /content/gdrive\n"
          ],
          "name": "stdout"
        }
      ]
    },
    {
      "cell_type": "code",
      "metadata": {
        "id": "bQQAXAh2bB0T"
      },
      "source": [
        "mat = scipy.io.loadmat('/content/gdrive/My Drive/Research/Characters/mixoutALL_shifted.mat')"
      ],
      "execution_count": 4,
      "outputs": []
    },
    {
      "cell_type": "code",
      "metadata": {
        "scrolled": true,
        "colab": {
          "base_uri": "https://localhost:8080/"
        },
        "id": "bQHU-CFXbB0U",
        "outputId": "7b9d75ff-67c0-4048-aabb-51d610c2f952"
      },
      "source": [
        "mat['consts']"
      ],
      "execution_count": 5,
      "outputs": [
        {
          "output_type": "execute_result",
          "data": {
            "text/plain": [
              "array([[(array([[1]], dtype=uint8), array(['outfileABCDEGHLMNOPQRSUVWYZ.csv'], dtype='<U31'), array([[250]], dtype=uint8), array([[array(['a'], dtype='<U1'), array(['b'], dtype='<U1'),\n",
              "        array(['c'], dtype='<U1'), array(['d'], dtype='<U1'),\n",
              "        array(['e'], dtype='<U1'), array(['g'], dtype='<U1'),\n",
              "        array(['h'], dtype='<U1'), array(['l'], dtype='<U1'),\n",
              "        array(['m'], dtype='<U1'), array(['n'], dtype='<U1'),\n",
              "        array(['o'], dtype='<U1'), array(['p'], dtype='<U1'),\n",
              "        array(['q'], dtype='<U1'), array(['r'], dtype='<U1'),\n",
              "        array(['s'], dtype='<U1'), array(['u'], dtype='<U1'),\n",
              "        array(['v'], dtype='<U1'), array(['w'], dtype='<U1'),\n",
              "        array(['y'], dtype='<U1'), array(['z'], dtype='<U1')]],\n",
              "      dtype=object), array([[ 1,  1,  1, ..., 20, 20, 20]], dtype=uint8), array([[0.005]]), array([[20]], dtype=uint8), array([[2]], dtype=uint8), array([[3]], dtype=uint8), array(['yes'], dtype='<U3'), array([[0.005     ],\n",
              "       [0.005     ],\n",
              "       [0.00353052],\n",
              "       [1.        ],\n",
              "       [1.        ]]), array([[48.86664003],\n",
              "       [74.18672757],\n",
              "       [22.67458465]]), array([[2858]], dtype=uint16), array([[10]], dtype=uint8))]],\n",
              "      dtype=[('i', 'O'), ('filename', 'O'), ('penup', 'O'), ('key', 'O'), ('charlabels', 'O'), ('dt', 'O'), ('xtraplen', 'O'), ('sigma', 'O'), ('D', 'O'), ('datarescaled', 'O'), ('units', 'O'), ('datanorm', 'O'), ('N', 'O'), ('maxshift', 'O')])"
            ]
          },
          "metadata": {
            "tags": []
          },
          "execution_count": 5
        }
      ]
    },
    {
      "cell_type": "code",
      "metadata": {
        "colab": {
          "base_uri": "https://localhost:8080/"
        },
        "id": "BBX1aE5jbB0V",
        "outputId": "c1e685ed-03e9-4934-b291-8890afcac4fd"
      },
      "source": [
        "labels = mat['consts'][0][0][4][0]\n",
        "labels"
      ],
      "execution_count": 6,
      "outputs": [
        {
          "output_type": "execute_result",
          "data": {
            "text/plain": [
              "array([ 1,  1,  1, ..., 20, 20, 20], dtype=uint8)"
            ]
          },
          "metadata": {
            "tags": []
          },
          "execution_count": 6
        }
      ]
    },
    {
      "cell_type": "code",
      "metadata": {
        "colab": {
          "base_uri": "https://localhost:8080/"
        },
        "id": "ug4COUsSbB0V",
        "outputId": "2e54923e-8141-42fe-89bb-fda62dfc172a"
      },
      "source": [
        "Data = [0] * len(mat['mixout'][0])\n",
        "for j in range(len(Data)):\n",
        "    Data[j] = [0] * len(mat['mixout'][0][j][0])\n",
        "    Data[j][0] = np.zeros(2)\n",
        "    for i in range(1, len(mat['mixout'][0][j][0])):\n",
        "        Data[j][i] = Data[j][i-1] + mat['mixout'][0][j][:2, i]\n",
        "    Data[j] = np.array(Data[j])\n",
        "        \n",
        "Data = np.array(Data)\n",
        "Data.shape"
      ],
      "execution_count": 7,
      "outputs": [
        {
          "output_type": "stream",
          "text": [
            "/usr/local/lib/python3.7/dist-packages/ipykernel_launcher.py:9: VisibleDeprecationWarning: Creating an ndarray from ragged nested sequences (which is a list-or-tuple of lists-or-tuples-or ndarrays with different lengths or shapes) is deprecated. If you meant to do this, you must specify 'dtype=object' when creating the ndarray\n",
            "  if __name__ == '__main__':\n"
          ],
          "name": "stderr"
        },
        {
          "output_type": "execute_result",
          "data": {
            "text/plain": [
              "(2858,)"
            ]
          },
          "metadata": {
            "tags": []
          },
          "execution_count": 7
        }
      ]
    },
    {
      "cell_type": "markdown",
      "metadata": {
        "id": "2MoP_jp_et8Y"
      },
      "source": [
        "# ${\\rm d}_Q^{\\sigma}$ distance"
      ]
    },
    {
      "cell_type": "code",
      "metadata": {
        "id": "4k7b6ODTbB0d"
      },
      "source": [
        "def dist_signed_point_closed(Q, gamma, sigma): \n",
        "    \n",
        "    p1 = gamma[:-1]\n",
        "    p2 = gamma[1:]\n",
        "    L = np.sqrt(((p2-p1)*(p2-p1)).sum(axis =1))\n",
        "    II = np.where(L > 10e-6)[0]\n",
        "    p1 = p1[II]\n",
        "    p2 = p2[II]\n",
        "    gamma = np.array(list(p1) + [p2[-1]])\n",
        "    L = np.sqrt(((p2-p1)*(p2-p1)).sum(axis =1)) + 10e-6\n",
        "    \n",
        "    w = (p1-p2)*(-1,1)/(L * np.ones((2,1))).T\n",
        "    w[:,[0, 1]] = w[:,[1, 0]]\n",
        "    \n",
        "# signed distance to the extended lines of segments\n",
        "    dist_signed = np.sum(w * (Q.reshape(len(Q),1,2) - p1), axis=2)\n",
        "    x = abs(dist_signed.copy())\n",
        "    R = (L**2).reshape(-1,1)\n",
        "# u = argmin points on the extended lines of segments\n",
        "    u = p1 + ((((np.sum(((Q.reshape(len(Q),1,2) - p1) * (p2 - p1)),axis=2).reshape(len(Q)\n",
        "                ,-1,1,1) * (p2-p1).reshape(len(p2-p1),1,2))).reshape(len(Q),len(p1),2))/R)\n",
        "\n",
        "    G = np.sqrt(np.sum((u-p1)*(u-p1), axis=2))\n",
        "    H = np.sqrt(np.sum((u-p2)*(u-p2), axis=2))\n",
        "# d1 = distance to start points\n",
        "    d1 = np.sqrt(np.sum((Q.reshape(len(Q),1,2)-p1)*(Q.reshape(len(Q),1,2)-p1), axis=2))\n",
        "# d2 = distance to end points\n",
        "    d2 = np.sqrt(np.sum((Q.reshape(len(Q),1,2)-p2)*(Q.reshape(len(Q),1,2)-p2), axis=2))\n",
        "    d = np.where(d1 < d2, d1, d2)\n",
        "    dist_segment = np.where(abs(G + H - L) < np.ones(len(L)) * (10e-6), dist_signed, d)\n",
        "    \n",
        "    J2 = [0] * len(Q)\n",
        "    for i in range(len(Q)): \n",
        "        J2[i] = np.where(abs(G + H - L)[i] > 10e-6)[0]\n",
        "    J2 = np.array(J2)\n",
        "\n",
        "    dist_segment_copy = dist_segment.copy()\n",
        "    dist = abs(dist_segment_copy)\n",
        "\n",
        "\n",
        "    j = np.argmin(dist, axis =1)\n",
        "\n",
        "    sign = np.ones(len(Q))\n",
        "    for k in range(len(Q)): \n",
        "        if j[k] in J2[k]:\n",
        "            if j[k] == 0 and LA.norm(Q[k] - gamma[0]) < LA.norm(Q[k] - gamma[1]):\n",
        "                \n",
        "                y = LA.norm(gamma[0]-gamma[1]) - LA.norm(gamma[-1] - gamma[-2])\n",
        "                if y < 0:\n",
        "                    x = gamma[0] + 0.1 * LA.norm(gamma[0]-gamma[1])*(gamma[-2]-gamma[-1])/LA.norm(gamma[-2]-gamma[-1])\n",
        "                    z = gamma[0] + 0.1 * LA.norm(gamma[0]-gamma[1])*(gamma[1]-gamma[0])/LA.norm(gamma[1]-gamma[0])\n",
        "                    q = 2 * gamma[0] - (x + z)/2\n",
        "                else: \n",
        "                    x = gamma[0] + 0.1 * LA.norm(gamma[-1]-gamma[-2])*(gamma[1]-gamma[0])\n",
        "                    z = gamma[0] + 0.1 * LA.norm(gamma[-1]-gamma[-2])*(gamma[-2]-gamma[-1])\n",
        "                    q = 2 * gamma[0] - (x + z)/2\n",
        "                sign[k] = np.sign((q-gamma[-1]).dot(w[-1] + w[0]))\n",
        "                \n",
        "            elif j[k] == len(gamma)-2 and LA.norm(Q[k] - gamma[-1]) < LA.norm(Q[k] - gamma[-2]):\n",
        "                s = w[-1].dot((Q[k] - gamma[-1])/ LA.norm(Q[k] - gamma[-1]) + 10e-6)\n",
        "                sign[k] = np.sign(s)\n",
        "            \n",
        "            elif LA.norm(Q[k] - gamma[j[k]]) < LA.norm(Q[k] - gamma[j[k]+1]):  \n",
        "                q = 2 * gamma[j[k]] - (gamma[j[k]-1] + gamma[j[k]+1])/2\n",
        "                sign[k] = np.sign((q-gamma[j[k]]).dot(w[j[k]-1] + w[j[k]]))\n",
        "                    \n",
        "            elif LA.norm(Q[k] - gamma[j[k]+1]) <= LA.norm(Q[k] - gamma[j[k]]):\n",
        "                q = 2 * gamma[j[k]+1] - (gamma[j[k]] + gamma[j[k]+2])/2\n",
        "                sign[k] = np.sign((q-gamma[j[k]+1]).dot(w[j[k]] + w[j[k]+1]))\n",
        "\n",
        "    E = dist_segment[np.arange(len(dist_segment)),j] \n",
        "    F = dist[np.arange(len(dist)),j] \n",
        "    dist_weighted = sign * (1/sigma) * (E.reshape(-1,1) * np.exp(-(F/sigma)**2).reshape(-1,1)).reshape(1,-1)\n",
        "  \n",
        "    return dist_weighted.reshape(len(Q))"
      ],
      "execution_count": 8,
      "outputs": []
    },
    {
      "cell_type": "code",
      "metadata": {
        "id": "9jGBg9sEbB0g"
      },
      "source": [
        "def dist_signed_point_unclosed(Q, gamma, sigma): \n",
        "    \n",
        "    h = 10e-8\n",
        "    p1 = gamma[:-1]\n",
        "    p2 = gamma[1:]\n",
        "    L = np.sqrt(((p2-p1)*(p2-p1)).sum(axis =1))\n",
        "    II = np.where(L > h)[0]\n",
        "    p1 = p1[II]\n",
        "    p2 = p2[II]\n",
        "    gamma = np.array(list(p1) + [p2[-1]]) \n",
        "    L = np.sqrt(((p2-p1)*(p2-p1)).sum(axis =1)) \n",
        "    w = (p1-p2)*(-1,1)/(L * np.ones((2,1))).T\n",
        "    w[:,[0, 1]] = w[:,[1, 0]]\n",
        "    \n",
        "# signed distance to the extended lines of segments\n",
        "    dist_signed = np.sum(w * (Q.reshape(len(Q),1,2) - p1), axis=2)\n",
        "    b = dist_signed + 0\n",
        "    x = abs(b)\n",
        "    R = (L**2).reshape(-1,1)\n",
        "\n",
        "# u = argmin points on the extended lines of segments\n",
        "    u = p1 + ((((np.sum(((Q.reshape(len(Q),1,2) - p1) * (p2 - p1)),axis=2).reshape(len(Q)\n",
        "                ,-1,1,1) * (p2-p1).reshape(len(p2-p1),1,2))).reshape(len(Q),len(p1),2))/R)\n",
        "\n",
        "    G = np.sqrt(np.sum((u-p1)*(u-p1), axis=2))\n",
        "    H = np.sqrt(np.sum((u-p2)*(u-p2), axis=2))\n",
        "# d1 = distance to start points\n",
        "    d1 = np.sqrt(np.sum((Q.reshape(len(Q),1,2)-p1)*(Q.reshape(len(Q),1,2)-p1), axis=2))\n",
        "# d2 = distance to end points\n",
        "    d2 = np.sqrt(np.sum((Q.reshape(len(Q),1,2)-p2)*(Q.reshape(len(Q),1,2)-p2), axis=2))\n",
        "    d = np.where(d1 < d2, d1, d2)\n",
        "\n",
        "    dist_segment = np.where(abs(G + H - L) < np.ones(len(L)) * 2*h, dist_signed, d)\n",
        "\n",
        "    J2 = [0] * len(Q)\n",
        "    for i in range(len(Q)): \n",
        "        J2[i] = np.where(abs(G + H - L)[i] > 2 * h)[0]\n",
        "    J2 = np.array(J2, dtype = 'object')\n",
        "    \n",
        "    dist_segment_copy = dist_segment + 0\n",
        "    dist = abs(dist_segment_copy)\n",
        "    \n",
        "    dist_from_start_1 = np.sqrt(((Q -p1[0])*(Q -p1[0])).sum(axis =1))\n",
        "    ds_1 = ((Q -p1[0])*w[0]).sum(axis =1)\n",
        "    dist_from_start = ds_1 * np.maximum(abs(ds_1), np.sqrt(dist_from_start_1**2 - ds_1**2 + \n",
        "                                                        h))/ (dist_from_start_1 + h)\n",
        "\n",
        "    dist_from_end_1 = np.sqrt(((Q -p2[-1])*(Q -p2[-1])).sum(axis =1))\n",
        "    de_1 = ((Q -p2[-1])* w[-1]).sum(axis =1)\n",
        "    dist_from_end = de_1 * np.maximum(abs(de_1), np.sqrt(dist_from_end_1**2 - \n",
        "                                                de_1**2 + h))/ (dist_from_end_1+ h)\n",
        "    \n",
        "    dist_segment[:,0] = np.where(abs(dist[:,0]- dist_from_start_1)< h**2, \n",
        "                                 dist_from_start, dist_segment[:,0]) \n",
        "    \n",
        "    dist_segment[:,-1] = np.where(abs(dist[:,-1]- dist_from_end_1)< h**2, \n",
        "                                  dist_from_end, dist_segment[:,-1]) \n",
        "\n",
        "    j = np.argmin(dist, axis =1)\n",
        "    sign = np.ones(len(Q))\n",
        "    for k in range(len(Q)): \n",
        "        if j[k] in J2[k]: \n",
        "            if j[k] == 0 and LA.norm(Q[k] - gamma[0]) < LA.norm(Q[k] - gamma[1]):\n",
        "                sign[k] = 1\n",
        "                \n",
        "            elif j[k] == len(gamma)-2 and LA.norm(Q[k] - gamma[j[k]+1]) < LA.norm(Q[k] - \n",
        "                                                                            gamma[j[k]]):\n",
        "                sign[k] = 1\n",
        "            elif LA.norm(Q[k] - gamma[j[k]]) < LA.norm(Q[k] - gamma[j[k]+1]):  \n",
        "                q = 2 * gamma[j[k]] - (gamma[j[k]-1] + gamma[j[k]+1])/2\n",
        "                sign[k] = np.sign((q-gamma[j[k]]).dot(w[j[k]-1] + w[j[k]]))\n",
        "            elif LA.norm(Q[k] - gamma[j[k]+1]) <= LA.norm(Q[k] - gamma[j[k]]):\n",
        "                q = 2 * gamma[j[k]+1] - (gamma[j[k]] + gamma[j[k]+2])/2\n",
        "                sign[k] = np.sign((q-gamma[j[k]+1]).dot(w[j[k]] + w[j[k]+1]))\n",
        "    E = dist_segment[np.arange(len(dist_segment)),j] \n",
        "    F = dist[np.arange(len(dist)),j] \n",
        "    dist_weighted = (1/sigma) * sign * (E.reshape(-1,1) *\n",
        "                        np.exp(-(F/sigma)**2).reshape(-1,1)).reshape(1,-1)\n",
        "\n",
        "    return dist_weighted.reshape(len(Q))"
      ],
      "execution_count": 9,
      "outputs": []
    },
    {
      "cell_type": "code",
      "metadata": {
        "id": "xXd3r9UxbB0l"
      },
      "source": [
        "def dist_signed_point(Q, gamma, sigma):\n",
        "    \n",
        "    if LA.norm(gamma[0]-gamma[-1]) > 10e-6:\n",
        "        A = dist_signed_point_unclosed(Q, gamma, sigma)\n",
        "    else: \n",
        "        A = dist_signed_point_closed(Q, gamma, sigma)\n",
        "        \n",
        "    return A"
      ],
      "execution_count": 10,
      "outputs": []
    },
    {
      "cell_type": "markdown",
      "metadata": {
        "id": "qPJ7mXthbB0o"
      },
      "source": [
        "# ${\\rm d}_Q^{\\rm mD}$ distance"
      ]
    },
    {
      "cell_type": "code",
      "metadata": {
        "id": "YfSbhhcVbB0o"
      },
      "source": [
        "def old_dist(Q, gamma):\n",
        "    \n",
        "    p2 = gamma[1:]\n",
        "    p1 = gamma[:-1]\n",
        "    L = np.sqrt(((p2-p1)*(p2-p1)).sum(axis =1))\n",
        "    II = np.where(L>10e-8)[0]\n",
        "    L = L[II]\n",
        "    p1 = p1[II]\n",
        "    p2 = p2[II]\n",
        "    w = (p1-p2)*(-1,1)/(L*np.ones((2,1))).T\n",
        "    w[:,[0, 1]] = w[:,[1, 0]]\n",
        "    \n",
        "    dist_dot = np.sum(w * (Q.reshape(len(Q),1,2) - p1), axis=2)\n",
        "    \n",
        "    x = abs(dist_dot.copy())\n",
        "    R = (L**2).reshape(-1,1)\n",
        "    u = p1 + ((((np.sum(((Q.reshape(len(Q),1,2) - p1) * (p2 - p1)),axis=2).reshape(len(Q)\n",
        "                ,-1,1,1) * (p2-p1).reshape(len(p2-p1),1,2))).reshape(len(Q),len(p1),2))/R)\n",
        "    \n",
        "    G = np.sqrt(np.sum((u-p1)*(u-p1), axis=2))\n",
        "    H = np.sqrt(np.sum((u-p2)*(u-p2), axis=2))\n",
        "    d1 = np.sqrt(np.sum((Q.reshape(len(Q),1,2)-p1)*(Q.reshape(len(Q),1,2)-p1), axis=2))\n",
        "    d2 = np.sqrt(np.sum((Q.reshape(len(Q),1,2)-p2)*(Q.reshape(len(Q),1,2)-p2), axis=2))\n",
        "\n",
        "    dist = np.where(abs(G + H - L) < np.ones(len(L)) * (10e-8), x, np.minimum(d1, d2))\n",
        "\n",
        "    j = np.argmin(dist, axis =1)\n",
        "    dist_weighted = dist[np.arange(len(dist)),j] \n",
        "    \n",
        "    return dist_weighted.reshape(len(Q)) "
      ],
      "execution_count": 11,
      "outputs": []
    },
    {
      "cell_type": "markdown",
      "metadata": {
        "id": "4C5rjI_medS4"
      },
      "source": [
        "# Classifiers"
      ]
    },
    {
      "cell_type": "code",
      "metadata": {
        "id": "TBxwRNZwecMm"
      },
      "source": [
        "clf0 = svm.SVC(C=1000, kernel='linear') \n",
        "clf1 = make_pipeline(StandardScaler(), svm.SVC(C= 1, kernel = 'rbf', gamma= 'auto', max_iter = 200000))\n",
        "clf2 = make_pipeline(StandardScaler(), svm.SVC(C= 10, kernel = 'poly', max_iter = 400000))\n",
        "clf3 = DecisionTreeClassifier() \n",
        "clf4 = RandomForestClassifier(n_estimators=100) \n",
        "\n",
        "clf = [clf0,clf1,clf2,clf3,clf4]"
      ],
      "execution_count": 97,
      "outputs": []
    },
    {
      "cell_type": "markdown",
      "metadata": {
        "id": "lO5Ruy4HbB0p"
      },
      "source": [
        "## Classification of 20 choose 2 data sets"
      ]
    },
    {
      "cell_type": "code",
      "metadata": {
        "id": "yJtrhxw9bB0p"
      },
      "source": [
        "def classify(n, m, k = 20, sigma = 50, t = 10, std_x = 20, std_y = 20, clf = clf):\n",
        "    \n",
        "    I = np.where(labels == n)[0] \n",
        "    J = np.where(labels == m)[0]\n",
        "    K = np.concatenate((I, J), 0)\n",
        "    \n",
        "    Min = np.min([np.min(Data[K][i], 0) for i in range(len(Data[K]))], 0)\n",
        "    Max = np.max([np.max(Data[K][i], 0) for i in range(len(Data[K]))], 0)\n",
        "    Mean = np.mean([np.mean(Data[K][i], 0) for i in range(len(Data[K]))], 0)\n",
        "    Std = np.std([np.std(Data[K][i], 0) for i in range(len(Data[K]))], 0)\n",
        "    \n",
        "    data_1 = Data[I]\n",
        "    data_2 = Data[J]\n",
        "    \n",
        "    Q = np.ones((k,2))\n",
        "    Q[:,0] = np.random.normal(Mean[0], Std[0] + std_x, k)\n",
        "    Q[:,1] = np.random.normal(Mean[1], Std[1] + std_y, k)\n",
        "    \n",
        "    for s in range(len(data_1[:5])):\n",
        "        plt.plot(data_1[s][:,0], data_1[s][:,1], color = \"steelblue\");\n",
        "    for s in range(len(data_2[:5])):\n",
        "        plt.plot(data_2[s][:,0], data_2[s][:,1], color = \"red\");\n",
        "    plt.scatter(Q[:,0], Q[:,1], s = 10, color= 'black');\n",
        "    plt.show()\n",
        "    \n",
        "    n_1 = len(data_1)\n",
        "    n_2 = len(data_2)\n",
        "    \n",
        "    # signed distance\n",
        "    projected_1 = [0] * n_1\n",
        "    projected_2 = [0] * n_2\n",
        "    for i in range(n_1):\n",
        "        projected_1[i] = np.concatenate((dist_signed_point_unclosed(Q,data_1[i],sigma),[1]), \n",
        "                                        axis = 0)\n",
        "    for i in range(n_2):\n",
        "        projected_2[i] = np.concatenate((dist_signed_point_unclosed(Q,data_2[i],sigma),[-1]), \n",
        "                                        axis = 0)\n",
        "    projected_1 = np.array(projected_1)\n",
        "    projected_2 = np.array(projected_2)\n",
        "    \n",
        "    # old distance\n",
        "    proj_1 = [0] * n_1 \n",
        "    proj_2 = [0] * n_2 \n",
        "    for i in range(n_1):\n",
        "        proj_1[i] = np.concatenate((old_dist(Q, data_1[i]),[1]), axis = 0)\n",
        "    for i in range(n_2):\n",
        "        proj_2[i] = np.concatenate((old_dist(Q, data_2[i]),[-1]), axis = 0)\n",
        "    proj_1 = np.array(proj_1)\n",
        "    proj_2 = np.array(proj_2)\n",
        "    \n",
        "    error_train = np.zeros((len(clf), t))\n",
        "    error_test = np.zeros((len(clf), t))\n",
        "    error_tr = np.zeros((len(clf), t))\n",
        "    error_ts = np.zeros((len(clf), t))\n",
        "    \n",
        "    for i in range(t): \n",
        "        R1 = random.sample(range(n_1), n_1//3)\n",
        "        R = np.sort(R1)\n",
        "        R_c = np.sort(list(set(range(n_1)) - set(R)))\n",
        "        S1 = random.sample(range(n_2), n_2//3)\n",
        "        S = np.sort(S1)\n",
        "        S_c = np.sort(list(set(range(n_2)) - set(S)))\n",
        "\n",
        "        data_train = np.insert(projected_1[R_c], len(R_c), projected_2[S_c], axis = 0)\n",
        "        data_test = np.insert(projected_1[R], len(R), projected_2[S], axis = 0)\n",
        "        data_tr = np.insert(proj_1[R_c], len(R_c), proj_2[S_c], axis = 0)\n",
        "        data_ts = np.insert(proj_1[R], len(R), proj_2[S], axis = 0)\n",
        "\n",
        "        random.shuffle(data_train)\n",
        "        random.shuffle(data_test)\n",
        "        random.shuffle(data_tr)\n",
        "        random.shuffle(data_ts)\n",
        "\n",
        "        for s in range(len(clf)):\n",
        "            model = clf[s]\n",
        "            \n",
        "            model.fit(data_train[:,:-1], data_train[:,-1])\n",
        "            y_pred = model.predict(data_test[:,:-1])\n",
        "            error_test[s][i] = 1 - metrics.accuracy_score(data_test[:,-1], y_pred)\n",
        "            x_pred = model.predict(data_train[:,:-1])\n",
        "            error_train[s][i] = 1 - metrics.accuracy_score(data_train[:,-1], x_pred)\n",
        "\n",
        "            model.fit(data_tr[:,:-1], data_tr[:,-1])\n",
        "            y_pre = model.predict(data_ts[:,:-1])\n",
        "            error_ts[s][i] = 1 - metrics.accuracy_score(data_ts[:,-1], y_pre)\n",
        "            x_pre = model.predict(data_tr[:,:-1])\n",
        "            error_tr[s][i] = 1 - metrics.accuracy_score(data_tr[:,-1], x_pre)\n",
        "\n",
        "    Dic = {}\n",
        "    models = [\"L SVM, C=1000\", \"G SVM, C=1\", #\"G SVM, C=2\", \"G SVM, C=10\", \n",
        "              \"P SVM, C=10\", \"DTree\", \"RForest, n=100\"]\n",
        "    for l in range(len(models)): \n",
        "        Dic[l+1] = [models[l], np.round(np.mean(error_train[l]), decimals = 4), \n",
        "                     np.round(np.mean(error_test[l]), decimals = 4),\n",
        "                     np.round(np.std(error_test[l]), decimals = 4),\n",
        "                     '|',\n",
        "                     np.round(np.mean(error_tr[l]), decimals = 4), \n",
        "                     np.round(np.mean(error_ts[l]), decimals = 4),\n",
        "                     np.round(np.std(error_ts[l]), decimals = 4)]\n",
        "    \n",
        "    print(\"n, m =\", (n, m))\n",
        "    \n",
        "    print(pd.DataFrame.from_dict(Dic, \n",
        "                                 orient='index', \n",
        "                                 columns=['Classifier', 'Train N', 'Test N', 'Std N', \n",
        "                                          '|','Train O', 'Test O', 'Std O']))\n",
        "    print(\"Q =\", Q)\n",
        "    return n, m, sigma, t, Q"
      ],
      "execution_count": 101,
      "outputs": []
    },
    {
      "cell_type": "code",
      "metadata": {
        "colab": {
          "base_uri": "https://localhost:8080/",
          "height": 1000
        },
        "id": "cmw2BvBz5FJN",
        "outputId": "f8faaf00-3aad-45ab-9e65-28d5aa313650"
      },
      "source": [
        "n = 12\n",
        "m = 14\n",
        "\n",
        "A = classify(n = n, m = m, k = 20, sigma = 1000,  t = 1000, std_x = 50, \n",
        "         std_y = 50, clf = clf)\n",
        "\n",
        "I = np.where(labels == n)[0] \n",
        "J = np.where(labels == m)[0]\n",
        "plt.plot(Data[I][0][:,0], Data[I][0][:,1], color = \"steelblue\")\n",
        "plt.show()\n",
        "plt.plot(Data[J][0][:,0], Data[J][0][:,1], color = \"steelblue\")\n",
        "plt.show()"
      ],
      "execution_count": 99,
      "outputs": [
        {
          "output_type": "display_data",
          "data": {
            "image/png": "[encoded data removed]",
            "text/plain": [
              "<Figure size 432x288 with 1 Axes>"
            ]
          },
          "metadata": {
            "tags": [],
            "needs_background": "light"
          }
        },
        {
          "output_type": "stream",
          "text": [
            "n, m = (12, 14)\n",
            "       Classifier  Train N  Test N   Std N  |  Train O  Test O   Std O\n",
            "1   L SVM, C=1000   0.0031  0.0176  0.0235  |   0.0000  0.0401  0.0356\n",
            "2      G SVM, C=1   0.0038  0.0124  0.0151  |   0.0091  0.0381  0.0268\n",
            "3     P SVM, C=10   0.0011  0.0281  0.0224  |   0.0070  0.0483  0.0345\n",
            "4           DTree   0.0000  0.0178  0.0284  |   0.0000  0.0737  0.0465\n",
            "5  RForest, n=100   0.0000  0.0100  0.0138  |   0.0000  0.0486  0.0330\n",
            "Q = [[-3.24902653e+01  4.60044218e+01]\n",
            " [-1.68353212e+01  4.43267019e+00]\n",
            " [-1.10587361e+02  2.59348076e+01]\n",
            " [ 2.92457830e+01 -3.99858732e+01]\n",
            " [ 1.17810639e+01 -7.79407977e+01]\n",
            " [ 3.53840384e+01 -1.25123595e-01]\n",
            " [ 1.26823738e+02 -1.99258348e+01]\n",
            " [ 5.42110442e+01  3.10153988e+01]\n",
            " [ 1.52758301e+00  3.62917151e+00]\n",
            " [-4.62751522e+01 -2.46585474e+00]\n",
            " [ 3.25632345e+01 -1.34574254e+01]\n",
            " [ 3.96964624e+00  6.12114622e+00]\n",
            " [-4.71061489e+01  1.78451989e+01]\n",
            " [ 3.30163320e+01  4.06856467e+00]\n",
            " [-3.91222051e+01 -4.19573723e+01]\n",
            " [-5.90871676e+01  6.29764287e+01]\n",
            " [ 3.21785601e+01  7.29091697e+01]\n",
            " [-4.83503786e+01  4.61095240e+01]\n",
            " [ 2.50696612e+01 -5.74618787e+01]\n",
            " [ 8.60611470e+00  3.69777691e+01]]\n"
          ],
          "name": "stdout"
        },
        {
          "output_type": "display_data",
          "data": {
            "image/png": "[encoded data removed]",
            "text/plain": [
              "<Figure size 432x288 with 1 Axes>"
            ]
          },
          "metadata": {
            "tags": [],
            "needs_background": "light"
          }
        },
        {
          "output_type": "display_data",
          "data": {
            "image/png": "[encoded data removed]",
            "text/plain": [
              "<Figure size 432x288 with 1 Axes>"
            ]
          },
          "metadata": {
            "tags": [],
            "needs_background": "light"
          }
        }
      ]
    },
    {
      "cell_type": "code",
      "metadata": {
        "colab": {
          "base_uri": "https://localhost:8080/"
        },
        "id": "YSIucH2wf5Lz",
        "outputId": "224e1859-d904-476b-ee22-950637e29218"
      },
      "source": [
        "A[-1]"
      ],
      "execution_count": 100,
      "outputs": [
        {
          "output_type": "execute_result",
          "data": {
            "text/plain": [
              "array([[-3.24902653e+01,  4.60044218e+01],\n",
              "       [-1.68353212e+01,  4.43267019e+00],\n",
              "       [-1.10587361e+02,  2.59348076e+01],\n",
              "       [ 2.92457830e+01, -3.99858732e+01],\n",
              "       [ 1.17810639e+01, -7.79407977e+01],\n",
              "       [ 3.53840384e+01, -1.25123595e-01],\n",
              "       [ 1.26823738e+02, -1.99258348e+01],\n",
              "       [ 5.42110442e+01,  3.10153988e+01],\n",
              "       [ 1.52758301e+00,  3.62917151e+00],\n",
              "       [-4.62751522e+01, -2.46585474e+00],\n",
              "       [ 3.25632345e+01, -1.34574254e+01],\n",
              "       [ 3.96964624e+00,  6.12114622e+00],\n",
              "       [-4.71061489e+01,  1.78451989e+01],\n",
              "       [ 3.30163320e+01,  4.06856467e+00],\n",
              "       [-3.91222051e+01, -4.19573723e+01],\n",
              "       [-5.90871676e+01,  6.29764287e+01],\n",
              "       [ 3.21785601e+01,  7.29091697e+01],\n",
              "       [-4.83503786e+01,  4.61095240e+01],\n",
              "       [ 2.50696612e+01, -5.74618787e+01],\n",
              "       [ 8.60611470e+00,  3.69777691e+01]])"
            ]
          },
          "metadata": {
            "tags": []
          },
          "execution_count": 100
        }
      ]
    },
    {
      "cell_type": "code",
      "metadata": {
        "id": "aghIndhWqgPS"
      },
      "source": [
        ""
      ],
      "execution_count": null,
      "outputs": []
    }
  ]
}