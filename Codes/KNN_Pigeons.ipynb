{
  "nbformat": 4,
  "nbformat_minor": 0,
  "metadata": {
    "kernelspec": {
      "display_name": "Python 3",
      "language": "python",
      "name": "python3"
    },
    "language_info": {
      "codemirror_mode": {
        "name": "ipython",
        "version": 3
      },
      "file_extension": ".py",
      "mimetype": "text/x-python",
      "name": "python",
      "nbconvert_exporter": "python",
      "pygments_lexer": "ipython3",
      "version": "3.7.4"
    },
    "colab": {
      "name": "KNN-Pigeons-Feb-21.ipynb",
      "provenance": [],
      "collapsed_sections": []
    }
  },
  "cells": [
    {
      "cell_type": "code",
      "metadata": {
        "colab": {
          "base_uri": "https://localhost:8080/"
        },
        "id": "1MYhMkG85GS_",
        "outputId": "17a90315-974f-4dc4-facd-9a3cd42c5bf4"
      },
      "source": [
        "pip install similaritymeasures"
      ],
      "execution_count": 1,
      "outputs": [
        {
          "output_type": "stream",
          "text": [
            "Collecting similaritymeasures\n",
            "\u001b[?25l  Downloading https://files.pythonhosted.org/packages/80/0c/419f521804ffd8c8eee07929f0f6d7820347887539e558f42b90fb02ff93/similaritymeasures-0.4.4.tar.gz (395kB)\n",
            "\r\u001b[K     |▉                               | 10kB 13.1MB/s eta 0:00:01\r\u001b[K     |█▋                              | 20kB 18.7MB/s eta 0:00:01\r\u001b[K     |██▌                             | 30kB 23.1MB/s eta 0:00:01\r\u001b[K     |███▎                            | 40kB 16.6MB/s eta 0:00:01\r\u001b[K     |████▏                           | 51kB 10.4MB/s eta 0:00:01\r\u001b[K     |█████                           | 61kB 11.0MB/s eta 0:00:01\r\u001b[K     |█████▉                          | 71kB 8.5MB/s eta 0:00:01\r\u001b[K     |██████▋                         | 81kB 9.3MB/s eta 0:00:01\r\u001b[K     |███████▌                        | 92kB 9.5MB/s eta 0:00:01\r\u001b[K     |████████▎                       | 102kB 8.4MB/s eta 0:00:01\r\u001b[K     |█████████▏                      | 112kB 8.4MB/s eta 0:00:01\r\u001b[K     |██████████                      | 122kB 8.4MB/s eta 0:00:01\r\u001b[K     |██████████▉                     | 133kB 8.4MB/s eta 0:00:01\r\u001b[K     |███████████▋                    | 143kB 8.4MB/s eta 0:00:01\r\u001b[K     |████████████▍                   | 153kB 8.4MB/s eta 0:00:01\r\u001b[K     |█████████████▎                  | 163kB 8.4MB/s eta 0:00:01\r\u001b[K     |██████████████                  | 174kB 8.4MB/s eta 0:00:01\r\u001b[K     |███████████████                 | 184kB 8.4MB/s eta 0:00:01\r\u001b[K     |███████████████▊                | 194kB 8.4MB/s eta 0:00:01\r\u001b[K     |████████████████▋               | 204kB 8.4MB/s eta 0:00:01\r\u001b[K     |█████████████████▍              | 215kB 8.4MB/s eta 0:00:01\r\u001b[K     |██████████████████▎             | 225kB 8.4MB/s eta 0:00:01\r\u001b[K     |███████████████████             | 235kB 8.4MB/s eta 0:00:01\r\u001b[K     |████████████████████            | 245kB 8.4MB/s eta 0:00:01\r\u001b[K     |████████████████████▊           | 256kB 8.4MB/s eta 0:00:01\r\u001b[K     |█████████████████████▋          | 266kB 8.4MB/s eta 0:00:01\r\u001b[K     |██████████████████████▍         | 276kB 8.4MB/s eta 0:00:01\r\u001b[K     |███████████████████████▏        | 286kB 8.4MB/s eta 0:00:01\r\u001b[K     |████████████████████████        | 296kB 8.4MB/s eta 0:00:01\r\u001b[K     |████████████████████████▉       | 307kB 8.4MB/s eta 0:00:01\r\u001b[K     |█████████████████████████▊      | 317kB 8.4MB/s eta 0:00:01\r\u001b[K     |██████████████████████████▌     | 327kB 8.4MB/s eta 0:00:01\r\u001b[K     |███████████████████████████▍    | 337kB 8.4MB/s eta 0:00:01\r\u001b[K     |████████████████████████████▏   | 348kB 8.4MB/s eta 0:00:01\r\u001b[K     |█████████████████████████████   | 358kB 8.4MB/s eta 0:00:01\r\u001b[K     |█████████████████████████████▉  | 368kB 8.4MB/s eta 0:00:01\r\u001b[K     |██████████████████████████████▊ | 378kB 8.4MB/s eta 0:00:01\r\u001b[K     |███████████████████████████████▌| 389kB 8.4MB/s eta 0:00:01\r\u001b[K     |████████████████████████████████| 399kB 8.4MB/s \n",
            "\u001b[?25hRequirement already satisfied: numpy>=1.14.0 in /usr/local/lib/python3.7/dist-packages (from similaritymeasures) (1.19.5)\n",
            "Requirement already satisfied: scipy>=0.19.0 in /usr/local/lib/python3.7/dist-packages (from similaritymeasures) (1.4.1)\n",
            "Building wheels for collected packages: similaritymeasures\n",
            "  Building wheel for similaritymeasures (setup.py) ... \u001b[?25l\u001b[?25hdone\n",
            "  Created wheel for similaritymeasures: filename=similaritymeasures-0.4.4-cp37-none-any.whl size=14548 sha256=237755243439874d14320a24d92b34723632870f4a0b1c9e88c7efdae81928a7\n",
            "  Stored in directory: /root/.cache/pip/wheels/c0/17/79/b1340175cf3a59d172b03cb9589b2e7933fd700a59d53ac598\n",
            "Successfully built similaritymeasures\n",
            "Installing collected packages: similaritymeasures\n",
            "Successfully installed similaritymeasures-0.4.4\n"
          ],
          "name": "stdout"
        }
      ]
    },
    {
      "cell_type": "code",
      "metadata": {
        "colab": {
          "base_uri": "https://localhost:8080/"
        },
        "id": "OJEdbnuDIKHb",
        "outputId": "46e07d6d-e43a-4002-9486-c38b8df3ddbe"
      },
      "source": [
        "pip install tslearn"
      ],
      "execution_count": 2,
      "outputs": [
        {
          "output_type": "stream",
          "text": [
            "Collecting tslearn\n",
            "\u001b[?25l  Downloading https://files.pythonhosted.org/packages/95/98/9a67e2869a8b1416eb6e6fd5e69c56f86869980403b18f30bdb5783ade9d/tslearn-0.5.0.5-cp37-cp37m-manylinux2010_x86_64.whl (790kB)\n",
            "\r\u001b[K     |▍                               | 10kB 12.8MB/s eta 0:00:01\r\u001b[K     |▉                               | 20kB 17.5MB/s eta 0:00:01\r\u001b[K     |█▎                              | 30kB 21.0MB/s eta 0:00:01\r\u001b[K     |█▋                              | 40kB 18.2MB/s eta 0:00:01\r\u001b[K     |██                              | 51kB 10.5MB/s eta 0:00:01\r\u001b[K     |██▌                             | 61kB 9.5MB/s eta 0:00:01\r\u001b[K     |███                             | 71kB 10.6MB/s eta 0:00:01\r\u001b[K     |███▎                            | 81kB 10.8MB/s eta 0:00:01\r\u001b[K     |███▊                            | 92kB 9.2MB/s eta 0:00:01\r\u001b[K     |████▏                           | 102kB 9.5MB/s eta 0:00:01\r\u001b[K     |████▋                           | 112kB 9.5MB/s eta 0:00:01\r\u001b[K     |█████                           | 122kB 9.5MB/s eta 0:00:01\r\u001b[K     |█████▍                          | 133kB 9.5MB/s eta 0:00:01\r\u001b[K     |█████▉                          | 143kB 9.5MB/s eta 0:00:01\r\u001b[K     |██████▏                         | 153kB 9.5MB/s eta 0:00:01\r\u001b[K     |██████▋                         | 163kB 9.5MB/s eta 0:00:01\r\u001b[K     |███████                         | 174kB 9.5MB/s eta 0:00:01\r\u001b[K     |███████▌                        | 184kB 9.5MB/s eta 0:00:01\r\u001b[K     |███████▉                        | 194kB 9.5MB/s eta 0:00:01\r\u001b[K     |████████▎                       | 204kB 9.5MB/s eta 0:00:01\r\u001b[K     |████████▊                       | 215kB 9.5MB/s eta 0:00:01\r\u001b[K     |█████████▏                      | 225kB 9.5MB/s eta 0:00:01\r\u001b[K     |█████████▌                      | 235kB 9.5MB/s eta 0:00:01\r\u001b[K     |██████████                      | 245kB 9.5MB/s eta 0:00:01\r\u001b[K     |██████████▍                     | 256kB 9.5MB/s eta 0:00:01\r\u001b[K     |██████████▊                     | 266kB 9.5MB/s eta 0:00:01\r\u001b[K     |███████████▏                    | 276kB 9.5MB/s eta 0:00:01\r\u001b[K     |███████████▋                    | 286kB 9.5MB/s eta 0:00:01\r\u001b[K     |████████████                    | 296kB 9.5MB/s eta 0:00:01\r\u001b[K     |████████████▍                   | 307kB 9.5MB/s eta 0:00:01\r\u001b[K     |████████████▉                   | 317kB 9.5MB/s eta 0:00:01\r\u001b[K     |█████████████▎                  | 327kB 9.5MB/s eta 0:00:01\r\u001b[K     |█████████████▊                  | 337kB 9.5MB/s eta 0:00:01\r\u001b[K     |██████████████                  | 348kB 9.5MB/s eta 0:00:01\r\u001b[K     |██████████████▌                 | 358kB 9.5MB/s eta 0:00:01\r\u001b[K     |███████████████                 | 368kB 9.5MB/s eta 0:00:01\r\u001b[K     |███████████████▍                | 378kB 9.5MB/s eta 0:00:01\r\u001b[K     |███████████████▊                | 389kB 9.5MB/s eta 0:00:01\r\u001b[K     |████████████████▏               | 399kB 9.5MB/s eta 0:00:01\r\u001b[K     |████████████████▋               | 409kB 9.5MB/s eta 0:00:01\r\u001b[K     |█████████████████               | 419kB 9.5MB/s eta 0:00:01\r\u001b[K     |█████████████████▍              | 430kB 9.5MB/s eta 0:00:01\r\u001b[K     |█████████████████▉              | 440kB 9.5MB/s eta 0:00:01\r\u001b[K     |██████████████████▎             | 450kB 9.5MB/s eta 0:00:01\r\u001b[K     |██████████████████▋             | 460kB 9.5MB/s eta 0:00:01\r\u001b[K     |███████████████████             | 471kB 9.5MB/s eta 0:00:01\r\u001b[K     |███████████████████▌            | 481kB 9.5MB/s eta 0:00:01\r\u001b[K     |████████████████████            | 491kB 9.5MB/s eta 0:00:01\r\u001b[K     |████████████████████▎           | 501kB 9.5MB/s eta 0:00:01\r\u001b[K     |████████████████████▊           | 512kB 9.5MB/s eta 0:00:01\r\u001b[K     |█████████████████████▏          | 522kB 9.5MB/s eta 0:00:01\r\u001b[K     |█████████████████████▌          | 532kB 9.5MB/s eta 0:00:01\r\u001b[K     |██████████████████████          | 542kB 9.5MB/s eta 0:00:01\r\u001b[K     |██████████████████████▍         | 552kB 9.5MB/s eta 0:00:01\r\u001b[K     |██████████████████████▉         | 563kB 9.5MB/s eta 0:00:01\r\u001b[K     |███████████████████████▏        | 573kB 9.5MB/s eta 0:00:01\r\u001b[K     |███████████████████████▋        | 583kB 9.5MB/s eta 0:00:01\r\u001b[K     |████████████████████████        | 593kB 9.5MB/s eta 0:00:01\r\u001b[K     |████████████████████████▌       | 604kB 9.5MB/s eta 0:00:01\r\u001b[K     |████████████████████████▉       | 614kB 9.5MB/s eta 0:00:01\r\u001b[K     |█████████████████████████▎      | 624kB 9.5MB/s eta 0:00:01\r\u001b[K     |█████████████████████████▊      | 634kB 9.5MB/s eta 0:00:01\r\u001b[K     |██████████████████████████▏     | 645kB 9.5MB/s eta 0:00:01\r\u001b[K     |██████████████████████████▌     | 655kB 9.5MB/s eta 0:00:01\r\u001b[K     |███████████████████████████     | 665kB 9.5MB/s eta 0:00:01\r\u001b[K     |███████████████████████████▍    | 675kB 9.5MB/s eta 0:00:01\r\u001b[K     |███████████████████████████▊    | 686kB 9.5MB/s eta 0:00:01\r\u001b[K     |████████████████████████████▏   | 696kB 9.5MB/s eta 0:00:01\r\u001b[K     |████████████████████████████▋   | 706kB 9.5MB/s eta 0:00:01\r\u001b[K     |█████████████████████████████   | 716kB 9.5MB/s eta 0:00:01\r\u001b[K     |█████████████████████████████▍  | 727kB 9.5MB/s eta 0:00:01\r\u001b[K     |█████████████████████████████▉  | 737kB 9.5MB/s eta 0:00:01\r\u001b[K     |██████████████████████████████▎ | 747kB 9.5MB/s eta 0:00:01\r\u001b[K     |██████████████████████████████▊ | 757kB 9.5MB/s eta 0:00:01\r\u001b[K     |███████████████████████████████ | 768kB 9.5MB/s eta 0:00:01\r\u001b[K     |███████████████████████████████▌| 778kB 9.5MB/s eta 0:00:01\r\u001b[K     |████████████████████████████████| 788kB 9.5MB/s eta 0:00:01\r\u001b[K     |████████████████████████████████| 798kB 9.5MB/s \n",
            "\u001b[?25hRequirement already satisfied: numpy in /usr/local/lib/python3.7/dist-packages (from tslearn) (1.19.5)\n",
            "Requirement already satisfied: joblib in /usr/local/lib/python3.7/dist-packages (from tslearn) (1.0.1)\n",
            "Requirement already satisfied: scikit-learn in /usr/local/lib/python3.7/dist-packages (from tslearn) (0.22.2.post1)\n",
            "Requirement already satisfied: scipy in /usr/local/lib/python3.7/dist-packages (from tslearn) (1.4.1)\n",
            "Requirement already satisfied: numba in /usr/local/lib/python3.7/dist-packages (from tslearn) (0.51.2)\n",
            "Requirement already satisfied: Cython in /usr/local/lib/python3.7/dist-packages (from tslearn) (0.29.22)\n",
            "Requirement already satisfied: setuptools in /usr/local/lib/python3.7/dist-packages (from numba->tslearn) (53.0.0)\n",
            "Requirement already satisfied: llvmlite<0.35,>=0.34.0.dev0 in /usr/local/lib/python3.7/dist-packages (from numba->tslearn) (0.34.0)\n",
            "Installing collected packages: tslearn\n",
            "Successfully installed tslearn-0.5.0.5\n"
          ],
          "name": "stdout"
        }
      ]
    },
    {
      "cell_type": "code",
      "metadata": {
        "id": "MZH7NCEv48Qg"
      },
      "source": [
        "import numpy as np\n",
        "import glob\n",
        "import math\n",
        "import time\n",
        "import random\n",
        "from scipy import linalg as LA\n",
        "import pandas as pd\n",
        "from sklearn.neighbors import KNeighborsClassifier\n",
        "from sklearn.model_selection import train_test_split\n",
        "from sklearn import metrics\n",
        "import similaritymeasures\n",
        "import tslearn\n",
        "from tslearn.metrics import dtw\n",
        "import matplotlib.pyplot as plt\n",
        "from scipy.spatial.distance import directed_hausdorff"
      ],
      "execution_count": 3,
      "outputs": []
    },
    {
      "cell_type": "code",
      "metadata": {
        "colab": {
          "base_uri": "https://localhost:8080/"
        },
        "id": "pXSk-bXx5CAi",
        "outputId": "fddde6b7-8dd3-4ffc-b1b0-57bca709d41d"
      },
      "source": [
        "from google.colab import drive\n",
        "drive.mount(\"/content/gdrive\")"
      ],
      "execution_count": 4,
      "outputs": [
        {
          "output_type": "stream",
          "text": [
            "Mounted at /content/gdrive\n"
          ],
          "name": "stdout"
        }
      ]
    },
    {
      "cell_type": "code",
      "metadata": {
        "id": "_1DBswla5aSq"
      },
      "source": [
        "J = glob.glob('/content/gdrive/My Drive/Research/Pigeons/Horspath/**/*.txt')"
      ],
      "execution_count": 5,
      "outputs": []
    },
    {
      "cell_type": "code",
      "metadata": {
        "id": "3mi8qJS748Ql",
        "colab": {
          "base_uri": "https://localhost:8080/"
        },
        "outputId": "0dec7ccc-321b-4d86-ffb8-dd912a9abe8f"
      },
      "source": [
        "def read_file(file_name): \n",
        "    Data = [0] * len(file_name)\n",
        "\n",
        "    for i in range(len(file_name)):\n",
        "        c = 0\n",
        "        with open(file_name[i], \"r\") as f:\n",
        "            Data[i] = []\n",
        "            for line in f:\n",
        "                if c > 0:\n",
        "                    item = line.strip().split(\"\\t\")\n",
        "                    Data[i].append([float(item[1]), float(item[0])])\n",
        "                else: \n",
        "                    c += 1\n",
        "        Data[i] = np.array(Data[i])\n",
        "    return np.array(Data)\n",
        "\n",
        "Data = read_file(J)\n",
        "Data.shape"
      ],
      "execution_count": 6,
      "outputs": [
        {
          "output_type": "stream",
          "text": [
            "/usr/local/lib/python3.7/dist-packages/ipykernel_launcher.py:15: VisibleDeprecationWarning: Creating an ndarray from ragged nested sequences (which is a list-or-tuple of lists-or-tuples-or ndarrays with different lengths or shapes) is deprecated. If you meant to do this, you must specify 'dtype=object' when creating the ndarray\n",
            "  from ipykernel import kernelapp as app\n"
          ],
          "name": "stderr"
        },
        {
          "output_type": "execute_result",
          "data": {
            "text/plain": [
              "(321,)"
            ]
          },
          "metadata": {
            "tags": []
          },
          "execution_count": 6
        }
      ]
    },
    {
      "cell_type": "code",
      "metadata": {
        "id": "Fpa1JA-C48Qn",
        "colab": {
          "base_uri": "https://localhost:8080/",
          "height": 265
        },
        "outputId": "ee699eff-7e8d-442b-f9ca-ab0876d5d093"
      },
      "source": [
        "for i in range(len(Data)):\n",
        "    plt.plot(Data[i][:,0], Data[i][:,1], linewidth = 1)\n",
        "plt.show()"
      ],
      "execution_count": 7,
      "outputs": [
        {
          "output_type": "display_data",
          "data": {
            "image/png": "[encoded data removed]",
            "text/plain": [
              "<Figure size 432x288 with 1 Axes>"
            ]
          },
          "metadata": {
            "tags": [],
            "needs_background": "light"
          }
        }
      ]
    },
    {
      "cell_type": "code",
      "metadata": {
        "id": "j4BhdGEo48Qn"
      },
      "source": [
        "def reverse1(gamma):\n",
        "    g = []\n",
        "    for i in range(len(gamma)):\n",
        "        g.append(gamma[len(gamma) - i - 1])\n",
        "    return np.array(g)\n",
        "\n",
        "def reverse(data):\n",
        "    g = [0] * len(data)\n",
        "    for i in range(len(data)):\n",
        "        g[i] = reverse1(data[i])\n",
        "    return np.array(g)"
      ],
      "execution_count": 8,
      "outputs": []
    },
    {
      "cell_type": "code",
      "metadata": {
        "id": "J8C1mfI648Qn",
        "colab": {
          "base_uri": "https://localhost:8080/"
        },
        "outputId": "a0699286-fa84-44fa-83fa-b5592db350bc"
      },
      "source": [
        "random.shuffle(Data)\n",
        "data_1 = Data[:len(Data)//2]\n",
        "data_2 = reverse(Data[len(Data)//2:])"
      ],
      "execution_count": 9,
      "outputs": [
        {
          "output_type": "stream",
          "text": [
            "/usr/local/lib/python3.7/dist-packages/ipykernel_launcher.py:11: VisibleDeprecationWarning: Creating an ndarray from ragged nested sequences (which is a list-or-tuple of lists-or-tuples-or ndarrays with different lengths or shapes) is deprecated. If you meant to do this, you must specify 'dtype=object' when creating the ndarray\n",
            "  # This is added back by InteractiveShellApp.init_path()\n"
          ],
          "name": "stderr"
        }
      ]
    },
    {
      "cell_type": "markdown",
      "metadata": {
        "id": "rwy2M9-f48Qo"
      },
      "source": [
        "# Distances with DTW"
      ]
    },
    {
      "cell_type": "code",
      "metadata": {
        "id": "FxuHmqSo48Qo"
      },
      "source": [
        "def func(A, B):\n",
        "    C = np.zeros((len(A), len(B)))\n",
        "    for i in range(len(A)):\n",
        "        for j in range(i+1, len(B)):\n",
        "            C[i][j] = tslearn.metrics.dtw(A[i], B[j])\n",
        "            C[j][i] = C[i][j]\n",
        "    return C\n",
        "\n",
        "def function(a, B):\n",
        "    C = np.zeros(len(B))\n",
        "    for i in range(len(B)):\n",
        "        C[i] = tslearn.metrics.dtw(a, B[i])\n",
        "    return C"
      ],
      "execution_count": 10,
      "outputs": []
    },
    {
      "cell_type": "code",
      "metadata": {
        "id": "u9VQ0kRS48Qo"
      },
      "source": [
        "def KNN_DTW(data_1, data_2):\n",
        "    \n",
        "    Start_time = time.time()\n",
        "\n",
        "    train_1, test_1, y_train_1, y_test_1 = train_test_split(data_1, np.ones(len(data_1)), \n",
        "                                                        test_size=0.3, random_state=109)\n",
        "    train_2, test_2, y_train_2, y_test_2 = train_test_split(data_2, np.ones(len(data_2)), \n",
        "                                                        test_size=0.3, random_state=109)\n",
        "\n",
        "    train_1_labeled = np.concatenate((train_1.reshape(len(train_1), 1), \n",
        "                                      np.array([[1]] * len(train_1))), axis =1)\n",
        "    test_1_labeled = np.concatenate((test_1.reshape(len(test_1), 1), \n",
        "                                     np.array([[1]]* len(test_1))), axis =1)\n",
        "    \n",
        "    train_2_labeled = np.concatenate((train_2.reshape(len(train_2), 1), \n",
        "                                      np.array([[0]] * len(train_2))), axis =1)\n",
        "    test_2_labeled = np.concatenate((test_2.reshape(len(test_2), 1), \n",
        "                                     np.array([[0]]* len(test_2))), axis =1)\n",
        "\n",
        " \n",
        "    train = np.insert(train_1_labeled, len(train_1_labeled), train_2_labeled, axis = 0)\n",
        "    train = list(train)\n",
        "    random.shuffle(train)\n",
        "    train = np.array(train)\n",
        "    final_train = train[:,0]\n",
        "    final_train_labels = train[:,1]\n",
        "    \n",
        "    test = np.insert(test_1_labeled, len(test_1_labeled), test_2_labeled, axis = 0)\n",
        "    test = list(test)\n",
        "    random.shuffle(test)\n",
        "    test = np.array(test)\n",
        "    final_test = test[:,0] \n",
        "    final_test_labels = test[:,1]\n",
        "\n",
        "    D_train = func(final_train, final_train)\n",
        "    \n",
        "    D_test = np.zeros((len(final_test), len(final_train)))\n",
        "    for i in range(len(final_test)):\n",
        "        D_test[i] = function(final_test[i], final_train)\n",
        "\n",
        "    clf = KNeighborsClassifier(n_neighbors=5, metric='precomputed')\n",
        "    \n",
        "    #Train the model using the training sets\n",
        "    clf.fit(D_train, list(final_train_labels))\n",
        "\n",
        "    #Predict the response for test dataset\n",
        "    y_pred = clf.predict(D_test)\n",
        "    test_error = 1 - metrics.accuracy_score(list(final_test_labels), y_pred)\n",
        "\n",
        "    x_pred = clf.predict(D_train)\n",
        "    train_error = 1 - metrics.accuracy_score(list(final_train_labels), x_pred)\n",
        "    \n",
        "    Dic = {}\n",
        "\n",
        "    Dic[1] = [\"KNN with Dynamic Time Wrapping distance\", np.round(train_error, decimals = 4),\n",
        "              np.round(test_error, decimals = 4)]\n",
        "\n",
        "    print(pd.DataFrame.from_dict(Dic, orient='index', columns=['Classifier','Train Error', \n",
        "                                                               'Test Error']))\n",
        "\n",
        "    print('total time =', time.time() - Start_time)\n",
        "    \n",
        "    return train_error, test_error"
      ],
      "execution_count": 11,
      "outputs": []
    },
    {
      "cell_type": "code",
      "metadata": {
        "colab": {
          "base_uri": "https://localhost:8080/"
        },
        "id": "6hrzU5NNJuGd",
        "outputId": "caea5678-b856-4108-ffbc-2e60b89caea3"
      },
      "source": [
        "train_error, test_error = KNN_DTW(data_1, data_2)\n",
        "train_error, test_error"
      ],
      "execution_count": 12,
      "outputs": [
        {
          "output_type": "stream",
          "text": [
            "                                Classifier  Train Error  Test Error\n",
            "1  KNN with Dynamic Time Wrapping distance       0.0045         0.0\n",
            "total time = 6251.175019264221\n"
          ],
          "name": "stdout"
        },
        {
          "output_type": "execute_result",
          "data": {
            "text/plain": [
              "(0.004464285714285698, 0.0)"
            ]
          },
          "metadata": {
            "tags": []
          },
          "execution_count": 12
        }
      ]
    },
    {
      "cell_type": "markdown",
      "metadata": {
        "id": "XC8cQJB4i_Xm"
      },
      "source": [
        "# Distances with Hausdorff distance"
      ]
    },
    {
      "cell_type": "code",
      "metadata": {
        "id": "-9DpfOg_jBZH"
      },
      "source": [
        "def Hausdorff(u, v):\n",
        "    a = max(directed_hausdorff(u, v)[0], directed_hausdorff(v, u)[0])\n",
        "    return a"
      ],
      "execution_count": 13,
      "outputs": []
    },
    {
      "cell_type": "code",
      "metadata": {
        "id": "XHqDWX2cjBLe"
      },
      "source": [
        "def fun_1(A, B):\n",
        "    C = np.zeros((len(A), len(B)))\n",
        "    for i in range(len(A)):\n",
        "        for j in range(i+1, len(B)):\n",
        "            C[i][j] = Hausdorff(A[i], B[j])\n",
        "            C[j][i] = C[i][j]\n",
        "    return C\n",
        "\n",
        "def fun_2(a, B):\n",
        "    C = np.zeros(len(B))\n",
        "    for i in range(len(B)):\n",
        "        C[i] = Hausdorff(a, B[i])\n",
        "    return C"
      ],
      "execution_count": 14,
      "outputs": []
    },
    {
      "cell_type": "code",
      "metadata": {
        "id": "PJr9v2sqjAs6"
      },
      "source": [
        "def KNN_Hausdorff(data_1, data_2):\n",
        "    \n",
        "    Start_time = time.time()\n",
        "\n",
        "    train_1, test_1, y_train_1, y_test_1 = train_test_split(data_1, np.ones(len(data_1)), \n",
        "                                                        test_size=0.3, random_state=109)\n",
        "    train_2, test_2, y_train_2, y_test_2 = train_test_split(data_2, np.ones(len(data_2)), \n",
        "                                                        test_size=0.3, random_state=109)\n",
        "\n",
        "    train_1_labeled = np.concatenate((train_1.reshape(len(train_1), 1), \n",
        "                                      np.array([[1]] * len(train_1))), axis =1)\n",
        "    test_1_labeled = np.concatenate((test_1.reshape(len(test_1), 1), \n",
        "                                     np.array([[1]]* len(test_1))), axis =1)\n",
        "    \n",
        "    train_2_labeled = np.concatenate((train_2.reshape(len(train_2), 1), \n",
        "                                      np.array([[0]] * len(train_2))), axis =1)\n",
        "    test_2_labeled = np.concatenate((test_2.reshape(len(test_2), 1), \n",
        "                                     np.array([[0]]* len(test_2))), axis =1)\n",
        "\n",
        " \n",
        "    train = np.insert(train_1_labeled, len(train_1_labeled), train_2_labeled, axis = 0)\n",
        "    train = list(train)\n",
        "    random.shuffle(train)\n",
        "    train = np.array(train)\n",
        "    final_train = train[:,0]\n",
        "    final_train_labels = train[:,1]\n",
        "    \n",
        "    test = np.insert(test_1_labeled, len(test_1_labeled), test_2_labeled, axis = 0)\n",
        "    test = list(test)\n",
        "    random.shuffle(test)\n",
        "    test = np.array(test)\n",
        "    final_test = test[:,0] \n",
        "    final_test_labels = test[:,1]\n",
        "\n",
        "    D_train = fun_1(final_train, final_train)\n",
        "    \n",
        "    D_test = np.zeros((len(final_test), len(final_train)))\n",
        "    for i in range(len(final_test)):\n",
        "        D_test[i] = fun_2(final_test[i], final_train)\n",
        "\n",
        "    clf = KNeighborsClassifier(n_neighbors=5, metric='precomputed')\n",
        "    \n",
        "    #Train the model using the training sets\n",
        "    clf.fit(D_train, list(final_train_labels))\n",
        "\n",
        "    #Predict the response for test dataset\n",
        "    y_pred = clf.predict(D_test)\n",
        "    test_error = 1 - metrics.accuracy_score(list(final_test_labels), y_pred)\n",
        "\n",
        "    x_pred = clf.predict(D_train)\n",
        "    train_error = 1 - metrics.accuracy_score(list(final_train_labels), x_pred)\n",
        "    \n",
        "    Dic = {}\n",
        "\n",
        "    Dic[1] = [\"KNN with discrete Frechet distance\", np.round(train_error, decimals = 4),\n",
        "              np.round(test_error, decimals = 4)]\n",
        "\n",
        "    print(pd.DataFrame.from_dict(Dic, orient='index', columns=['Classifier','Train Error', \n",
        "                                                               'Test Error']))\n",
        "\n",
        "    print('total time =', time.time() - Start_time)\n",
        "    \n",
        "    return train_error, test_error"
      ],
      "execution_count": 15,
      "outputs": []
    },
    {
      "cell_type": "code",
      "metadata": {
        "colab": {
          "base_uri": "https://localhost:8080/"
        },
        "id": "e8_S1n3rjAiS",
        "outputId": "152accfe-172d-4434-fb6e-9987130c02c2"
      },
      "source": [
        "train_error, test_error = KNN_Hausdorff(data_1, data_2)"
      ],
      "execution_count": 16,
      "outputs": [
        {
          "output_type": "stream",
          "text": [
            "                           Classifier  Train Error  Test Error\n",
            "1  KNN with discrete Frechet distance       0.3571      0.4227\n",
            "total time = 288.48404693603516\n"
          ],
          "name": "stdout"
        }
      ]
    },
    {
      "cell_type": "markdown",
      "metadata": {
        "id": "tMhp_bS548Qp"
      },
      "source": [
        "# Distances with Frechet distance"
      ]
    },
    {
      "cell_type": "code",
      "metadata": {
        "id": "PG167p-q48Qp",
        "colab": {
          "base_uri": "https://localhost:8080/"
        },
        "outputId": "0fe0564b-2855-4845-f30f-ea7fb2e7e2cc"
      },
      "source": [
        "Start_time = time.time()\n",
        "print(\"Frechet distance =\", similaritymeasures.frechet_dist(data_1[0], data_2[0]))\n",
        "print('total time =', time.time() - Start_time)"
      ],
      "execution_count": null,
      "outputs": [
        {
          "output_type": "stream",
          "text": [
            "Frechet distance = 0.1365872237436584\n",
            "total time = 176.19314575195312\n"
          ],
          "name": "stdout"
        }
      ]
    },
    {
      "cell_type": "code",
      "metadata": {
        "id": "2NHc6SQu48Qp"
      },
      "source": [
        "def fun1(A, B):\n",
        "    C = np.zeros((len(A), len(B)))\n",
        "    for i in range(len(A)):\n",
        "        for j in range(i+1, len(B)):\n",
        "            C[i][j] = similaritymeasures.frechet_dist(A[i], B[j])\n",
        "            C[j][i] = C[i][j]\n",
        "    return C\n",
        "\n",
        "def fun2(a, B):\n",
        "    C = np.zeros(len(B))\n",
        "    for i in range(len(B)):\n",
        "        C[i] = similaritymeasures.frechet_dist(a, B[i])\n",
        "    return C"
      ],
      "execution_count": null,
      "outputs": []
    },
    {
      "cell_type": "code",
      "metadata": {
        "id": "pgqFckFr48Qq"
      },
      "source": [
        "def KNN_discrete_Frechet(data_1, data_2):\n",
        "    \n",
        "    Start_time = time.time()\n",
        "\n",
        "    train_1, test_1, y_train_1, y_test_1 = train_test_split(data_1, np.ones(len(data_1)), \n",
        "                                                        test_size=0.3, random_state=109)\n",
        "    train_2, test_2, y_train_2, y_test_2 = train_test_split(data_2, np.ones(len(data_2)), \n",
        "                                                        test_size=0.3, random_state=109)\n",
        "\n",
        "    train_1_labeled = np.concatenate((train_1.reshape(len(train_1), 1), \n",
        "                                      np.array([[1]] * len(train_1))), axis =1)\n",
        "    test_1_labeled = np.concatenate((test_1.reshape(len(test_1), 1), \n",
        "                                     np.array([[1]]* len(test_1))), axis =1)\n",
        "    \n",
        "    train_2_labeled = np.concatenate((train_2.reshape(len(train_2), 1), \n",
        "                                      np.array([[0]] * len(train_2))), axis =1)\n",
        "    test_2_labeled = np.concatenate((test_2.reshape(len(test_2), 1), \n",
        "                                     np.array([[0]]* len(test_2))), axis =1)\n",
        "\n",
        " \n",
        "    train = np.insert(train_1_labeled, len(train_1_labeled), train_2_labeled, axis = 0)\n",
        "    train = list(train)\n",
        "    random.shuffle(train)\n",
        "    train = np.array(train)\n",
        "    final_train = train[:,0]\n",
        "    final_train_labels = train[:,1]\n",
        "    \n",
        "    test = np.insert(test_1_labeled, len(test_1_labeled), test_2_labeled, axis = 0)\n",
        "    test = list(test)\n",
        "    random.shuffle(test)\n",
        "    test = np.array(test)\n",
        "    final_test = test[:,0] \n",
        "    final_test_labels = test[:,1]\n",
        "\n",
        "    D_train = fun1(final_train, final_train)\n",
        "    \n",
        "    D_test = np.zeros((len(final_test), len(final_train)))\n",
        "    for i in range(len(final_test)):\n",
        "        D_test[i] = fun2(final_test[i], final_train)\n",
        "\n",
        "    clf = KNeighborsClassifier(n_neighbors=5, metric='precomputed')\n",
        "    \n",
        "    #Train the model using the training sets\n",
        "    clf.fit(D_train, list(final_train_labels))\n",
        "\n",
        "    #Predict the response for test dataset\n",
        "    y_pred = clf.predict(D_test)\n",
        "    test_error = 1 - metrics.accuracy_score(list(final_test_labels), y_pred)\n",
        "\n",
        "    x_pred = clf.predict(D_train)\n",
        "    train_error = 1 - metrics.accuracy_score(list(final_train_labels), x_pred)\n",
        "    \n",
        "    Dic = {}\n",
        "\n",
        "    Dic[1] = [\"KNN with discrete Frechet distance\", np.round(train_error, decimals = 4),\n",
        "              np.round(test_error, decimals = 4)]\n",
        "\n",
        "    print(pd.DataFrame.from_dict(Dic, orient='index', columns=['Classifier','Train Error', \n",
        "                                                               'Test Error']))\n",
        "\n",
        "    print('total time =', time.time() - Start_time)\n",
        "    \n",
        "    return train_error, test_error"
      ],
      "execution_count": 17,
      "outputs": []
    },
    {
      "cell_type": "code",
      "metadata": {
        "colab": {
          "base_uri": "https://localhost:8080/"
        },
        "id": "m7BWNngZdCHb",
        "outputId": "61370160-3c0f-47dd-cc4d-09d2d474787c"
      },
      "source": [
        "train_error, test_error = KNN_discrete_Frechet(data_1[:20], data_2[:20])"
      ],
      "execution_count": null,
      "outputs": [
        {
          "output_type": "stream",
          "text": [
            "                           Classifier  Train Error  Test Error\n",
            "1  KNN with discrete Frechet distance          0.0         0.0\n",
            "total time = 22939.385200977325\n"
          ],
          "name": "stdout"
        }
      ]
    },
    {
      "cell_type": "code",
      "metadata": {
        "id": "ZFrtESjy48Qs",
        "colab": {
          "base_uri": "https://localhost:8080/"
        },
        "outputId": "cf979c37-e5fd-4338-e69c-81a160e38b4e"
      },
      "source": [
        "train_error, test_error = KNN_discrete_Frechet(data_1[:10], data_2[:10])"
      ],
      "execution_count": null,
      "outputs": [
        {
          "output_type": "stream",
          "text": [
            "                           Classifier  Train Error  Test Error\n",
            "1  KNN with discrete Frechet distance          0.0         0.0\n",
            "total time = 6197.074152231216\n"
          ],
          "name": "stdout"
        }
      ]
    },
    {
      "cell_type": "markdown",
      "metadata": {
        "id": "PHGOMHWa48Qv"
      },
      "source": [
        "# KNN with $d_Q^{\\sigma}$"
      ]
    },
    {
      "cell_type": "markdown",
      "metadata": {
        "id": "66OEQL3f48Qv"
      },
      "source": [
        "### Feature Mapping"
      ]
    },
    {
      "cell_type": "code",
      "metadata": {
        "id": "smjL0IOf48Qw"
      },
      "source": [
        "def dist_signed_point_closed(Q, gamma, sigma): \n",
        "    \n",
        "    p1 = gamma[:-1]\n",
        "    p2 = gamma[1:]\n",
        "    L = np.sqrt(((p2-p1)*(p2-p1)).sum(axis =1))\n",
        "    II = np.where(L > 10e-6)[0]\n",
        "    p1 = p1[II]\n",
        "    p2 = p2[II]\n",
        "    gamma = np.array(list(p1) + [p2[-1]])\n",
        "    L = np.sqrt(((p2-p1)*(p2-p1)).sum(axis =1)) + 10e-6\n",
        "    \n",
        "    w = (p1-p2)*(-1,1)/(L * np.ones((2,1))).T\n",
        "    w[:,[0, 1]] = w[:,[1, 0]]\n",
        "    \n",
        "# signed distance to the extended lines of segments\n",
        "    dist_signed = np.sum(w * (Q.reshape(len(Q),1,2) - p1), axis=2)\n",
        "    x = abs(dist_signed.copy())\n",
        "    R = (L**2).reshape(-1,1)\n",
        "# u = argmin points on the extended lines of segments\n",
        "    u = p1 + ((((np.sum(((Q.reshape(len(Q),1,2) - p1) * (p2 - p1)),axis=2).reshape(len(Q)\n",
        "                ,-1,1,1) * (p2-p1).reshape(len(p2-p1),1,2))).reshape(len(Q),len(p1),2))/R)\n",
        "\n",
        "    G = np.sqrt(np.sum((u-p1)*(u-p1), axis=2))\n",
        "    H = np.sqrt(np.sum((u-p2)*(u-p2), axis=2))\n",
        "# d1 = distance to start points\n",
        "    d1 = np.sqrt(np.sum((Q.reshape(len(Q),1,2)-p1)*(Q.reshape(len(Q),1,2)-p1), axis=2))\n",
        "# d2 = distance to end points\n",
        "    d2 = np.sqrt(np.sum((Q.reshape(len(Q),1,2)-p2)*(Q.reshape(len(Q),1,2)-p2), axis=2))\n",
        "    d = np.where(d1 < d2, d1, d2)\n",
        "    dist_segment = np.where(abs(G + H - L) < np.ones(len(L)) * (10e-6), dist_signed, d)\n",
        "    \n",
        "    J2 = [0] * len(Q)\n",
        "    for i in range(len(Q)): \n",
        "        J2[i] = np.where(abs(G + H - L)[i] > 10e-6)[0]\n",
        "    J2 = np.array(J2)\n",
        "\n",
        "    dist_segment_copy = dist_segment.copy()\n",
        "    dist = abs(dist_segment_copy)\n",
        "\n",
        "\n",
        "    j = np.argmin(dist, axis =1)\n",
        "\n",
        "    sign = np.ones(len(Q))\n",
        "    for k in range(len(Q)): \n",
        "        if j[k] in J2[k]:\n",
        "            if j[k] == 0 and LA.norm(Q[k] - gamma[0]) < LA.norm(Q[k] - gamma[1]):\n",
        "                \n",
        "                y = LA.norm(gamma[0]-gamma[1]) - LA.norm(gamma[-1] - gamma[-2])\n",
        "                if y < 0:\n",
        "                    x = gamma[0] + 0.1 * LA.norm(gamma[0]-gamma[1])*(gamma[-2]-gamma[-1])/LA.norm(gamma[-2]-gamma[-1])\n",
        "                    z = gamma[0] + 0.1 * LA.norm(gamma[0]-gamma[1])*(gamma[1]-gamma[0])/LA.norm(gamma[1]-gamma[0])\n",
        "                    q = 2 * gamma[0] - (x + z)/2\n",
        "                else: \n",
        "                    x = gamma[0] + 0.1 * LA.norm(gamma[-1]-gamma[-2])*(gamma[1]-gamma[0])\n",
        "                    z = gamma[0] + 0.1 * LA.norm(gamma[-1]-gamma[-2])*(gamma[-2]-gamma[-1])\n",
        "                    q = 2 * gamma[0] - (x + z)/2\n",
        "                sign[k] = np.sign((q-gamma[-1]).dot(w[-1] + w[0]))\n",
        "                \n",
        "            elif j[k] == len(gamma)-2 and LA.norm(Q[k] - gamma[-1]) < LA.norm(Q[k] - gamma[-2]):\n",
        "                s = w[-1].dot((Q[k] - gamma[-1])/ LA.norm(Q[k] - gamma[-1]) + 10e-6)\n",
        "                sign[k] = np.sign(s)\n",
        "            \n",
        "            elif LA.norm(Q[k] - gamma[j[k]]) < LA.norm(Q[k] - gamma[j[k]+1]):  \n",
        "                q = 2 * gamma[j[k]] - (gamma[j[k]-1] + gamma[j[k]+1])/2\n",
        "                sign[k] = np.sign((q-gamma[j[k]]).dot(w[j[k]-1] + w[j[k]]))\n",
        "                    \n",
        "            elif LA.norm(Q[k] - gamma[j[k]+1]) <= LA.norm(Q[k] - gamma[j[k]]):\n",
        "                q = 2 * gamma[j[k]+1] - (gamma[j[k]] + gamma[j[k]+2])/2\n",
        "                sign[k] = np.sign((q-gamma[j[k]+1]).dot(w[j[k]] + w[j[k]+1]))\n",
        "\n",
        "    E = dist_segment[np.arange(len(dist_segment)),j] \n",
        "    F = dist[np.arange(len(dist)),j] \n",
        "    dist_weighted = sign * (1/sigma) * (E.reshape(-1,1) * np.exp(-(F/sigma)**2).reshape(-1,1)).reshape(1,-1)\n",
        "  \n",
        "    return dist_weighted.reshape(len(Q))"
      ],
      "execution_count": null,
      "outputs": []
    },
    {
      "cell_type": "code",
      "metadata": {
        "id": "v_j_GLYB48Qw"
      },
      "source": [
        "def dist_signed_point_unclosed(Q, gamma, sigma): \n",
        "    \n",
        "    h = 10e-8\n",
        "    p1 = gamma[:-1]\n",
        "    p2 = gamma[1:]\n",
        "    L = np.sqrt(((p2-p1)*(p2-p1)).sum(axis =1))\n",
        "    II = np.where(L > h)[0]\n",
        "    p1 = p1[II]\n",
        "    p2 = p2[II]\n",
        "    gamma = np.array(list(p1) + [p2[-1]]) \n",
        "    L = np.sqrt(((p2-p1)*(p2-p1)).sum(axis =1)) \n",
        "    w = (p1-p2)*(-1,1)/(L * np.ones((2,1))).T\n",
        "    w[:,[0, 1]] = w[:,[1, 0]]\n",
        "    \n",
        "# signed distance to the extended lines of segments\n",
        "    dist_signed = np.sum(w * (Q.reshape(len(Q),1,2) - p1), axis=2)\n",
        "    b = dist_signed + 0\n",
        "    x = abs(b)\n",
        "    R = (L**2).reshape(-1,1)\n",
        "\n",
        "# u = argmin points on the extended lines of segments\n",
        "    u = p1 + ((((np.sum(((Q.reshape(len(Q),1,2) - p1) * (p2 - p1)),axis=2).reshape(len(Q)\n",
        "                ,-1,1,1) * (p2-p1).reshape(len(p2-p1),1,2))).reshape(len(Q),len(p1),2))/R)\n",
        "\n",
        "    G = np.sqrt(np.sum((u-p1)*(u-p1), axis=2))\n",
        "    H = np.sqrt(np.sum((u-p2)*(u-p2), axis=2))\n",
        "# d1 = distance to start points\n",
        "    d1 = np.sqrt(np.sum((Q.reshape(len(Q),1,2)-p1)*(Q.reshape(len(Q),1,2)-p1), axis=2))\n",
        "# d2 = distance to end points\n",
        "    d2 = np.sqrt(np.sum((Q.reshape(len(Q),1,2)-p2)*(Q.reshape(len(Q),1,2)-p2), axis=2))\n",
        "    d = np.where(d1 < d2, d1, d2)\n",
        "\n",
        "    dist_segment = np.where(abs(G + H - L) < np.ones(len(L)) * 2*h, dist_signed, d)\n",
        "\n",
        "    J2 = [0] * len(Q)\n",
        "    for i in range(len(Q)): \n",
        "        J2[i] = np.where(abs(G + H - L)[i] > 2 * h)[0]\n",
        "    J2 = np.array(J2, dtype = 'object')\n",
        "    \n",
        "    dist_segment_copy = dist_segment + 0\n",
        "    dist = abs(dist_segment_copy)\n",
        "    \n",
        "    dist_from_start_1 = np.sqrt(((Q -p1[0])*(Q -p1[0])).sum(axis =1))\n",
        "    ds_1 = ((Q -p1[0])*w[0]).sum(axis =1)\n",
        "    dist_from_start = ds_1 * np.maximum(abs(ds_1), np.sqrt(dist_from_start_1**2 - ds_1**2 + \n",
        "                                                        h))/ (dist_from_start_1 + h)\n",
        "\n",
        "    dist_from_end_1 = np.sqrt(((Q -p2[-1])*(Q -p2[-1])).sum(axis =1))\n",
        "    de_1 = ((Q -p2[-1])* w[-1]).sum(axis =1)\n",
        "    dist_from_end = de_1 * np.maximum(abs(de_1), np.sqrt(dist_from_end_1**2 - \n",
        "                                                de_1**2 + h))/ (dist_from_end_1+ h)\n",
        "    \n",
        "    dist_segment[:,0] = np.where(abs(dist[:,0]- dist_from_start_1)< h**2, \n",
        "                                 dist_from_start, dist_segment[:,0]) \n",
        "    \n",
        "    dist_segment[:,-1] = np.where(abs(dist[:,-1]- dist_from_end_1)< h**2, \n",
        "                                  dist_from_end, dist_segment[:,-1]) \n",
        "\n",
        "    j = np.argmin(dist, axis =1)\n",
        "    sign = np.ones(len(Q))\n",
        "    for k in range(len(Q)): \n",
        "        if j[k] in J2[k]: \n",
        "            if j[k] == 0 and LA.norm(Q[k] - gamma[0]) < LA.norm(Q[k] - gamma[1]):\n",
        "                sign[k] = 1\n",
        "                \n",
        "            elif j[k] == len(gamma)-2 and LA.norm(Q[k] - gamma[j[k]+1]) < LA.norm(Q[k] - \n",
        "                                                                            gamma[j[k]]):\n",
        "                sign[k] = 1\n",
        "            elif LA.norm(Q[k] - gamma[j[k]]) < LA.norm(Q[k] - gamma[j[k]+1]):  \n",
        "                q = 2 * gamma[j[k]] - (gamma[j[k]-1] + gamma[j[k]+1])/2\n",
        "                sign[k] = np.sign((q-gamma[j[k]]).dot(w[j[k]-1] + w[j[k]]))\n",
        "            elif LA.norm(Q[k] - gamma[j[k]+1]) <= LA.norm(Q[k] - gamma[j[k]]):\n",
        "                q = 2 * gamma[j[k]+1] - (gamma[j[k]] + gamma[j[k]+2])/2\n",
        "                sign[k] = np.sign((q-gamma[j[k]+1]).dot(w[j[k]] + w[j[k]+1]))\n",
        "    E = dist_segment[np.arange(len(dist_segment)),j] \n",
        "    F = dist[np.arange(len(dist)),j] \n",
        "    dist_weighted = (1/sigma) * sign * (E.reshape(-1,1) *\n",
        "                        np.exp(-(F/sigma)**2).reshape(-1,1)).reshape(1,-1)\n",
        "\n",
        "    return dist_weighted.reshape(len(Q))"
      ],
      "execution_count": null,
      "outputs": []
    },
    {
      "cell_type": "code",
      "metadata": {
        "id": "hgO-GTu048Qx"
      },
      "source": [
        "def dist_signed_point(Q, gamma, sigma):\n",
        "    \n",
        "    if LA.norm(gamma[0]-gamma[-1]) > 10e-6:\n",
        "        A = dist_signed_point_unclosed(Q, gamma, sigma)\n",
        "    else: \n",
        "        A = dist_signed_point_closed(Q, gamma, sigma)\n",
        "        \n",
        "    return A"
      ],
      "execution_count": null,
      "outputs": []
    },
    {
      "cell_type": "markdown",
      "metadata": {
        "id": "5R0nWxLT48Qx"
      },
      "source": [
        "### Choosing Q"
      ]
    },
    {
      "cell_type": "code",
      "metadata": {
        "id": "DRI4k2DX48Qx",
        "colab": {
          "base_uri": "https://localhost:8080/"
        },
        "outputId": "6922d697-69c2-4a34-f687-62033bd1b070"
      },
      "source": [
        "Min1 = np.min([np.min(Data[i], 0) for i in range(len(Data))], 0)\n",
        "Max1 = np.max([np.max(Data[i], 0) for i in range(len(Data))], 0)\n",
        "Mean1 = np.mean([np.mean(Data[i], 0) for i in range(len(Data))], 0)\n",
        "Std1 = np.std([np.std(Data[i], 0) for i in range(len(Data))], 0)\n",
        "Min1, Mean1, Max1, Std1"
      ],
      "execution_count": null,
      "outputs": [
        {
          "output_type": "execute_result",
          "data": {
            "text/plain": [
              "(array([51.660634, -1.357207]),\n",
              " array([51.75877014, -1.26048495]),\n",
              " array([51.85453 , -1.091612]),\n",
              " array([0.00402572, 0.00775313]))"
            ]
          },
          "metadata": {
            "tags": []
          },
          "execution_count": 19
        }
      ]
    },
    {
      "cell_type": "code",
      "metadata": {
        "id": "F7qqTM0-48Qx"
      },
      "source": [
        "m = 20\n",
        "Q = np.ones((m,2))\n",
        "\n",
        "Q[:,0] = np.random.normal(Mean1[0], Std1[0] + 0.05, m)\n",
        "Q[:,1] = np.random.normal(Mean1[1], Std1[1] + 0.05, m)"
      ],
      "execution_count": null,
      "outputs": []
    },
    {
      "cell_type": "code",
      "metadata": {
        "colab": {
          "base_uri": "https://localhost:8080/"
        },
        "id": "SFvBKynqon8p",
        "outputId": "71d9d704-74cd-4903-8458-7b9cd472268b"
      },
      "source": [
        "Q"
      ],
      "execution_count": null,
      "outputs": [
        {
          "output_type": "execute_result",
          "data": {
            "text/plain": [
              "array([[51.72377814, -1.30083642],\n",
              "       [51.77808011, -1.18899927],\n",
              "       [51.7293857 , -1.24060251],\n",
              "       [51.77063292, -1.14817929],\n",
              "       [51.85409386, -1.3028558 ],\n",
              "       [51.78059919, -1.17727764],\n",
              "       [51.74860977, -1.21681008],\n",
              "       [51.7407426 , -1.22840782],\n",
              "       [51.78071234, -1.22307595],\n",
              "       [51.79154189, -1.26676416],\n",
              "       [51.77872268, -1.28560155],\n",
              "       [51.79905955, -1.29784853],\n",
              "       [51.79390346, -1.34792866],\n",
              "       [51.7205583 , -1.20816314],\n",
              "       [51.81941174, -1.20422731],\n",
              "       [51.78815595, -1.32470344],\n",
              "       [51.66240785, -1.21008624],\n",
              "       [51.70971713, -1.1612971 ],\n",
              "       [51.75749994, -1.30273927],\n",
              "       [51.74287363, -1.32341859]])"
            ]
          },
          "metadata": {
            "tags": []
          },
          "execution_count": 24
        }
      ]
    },
    {
      "cell_type": "code",
      "metadata": {
        "id": "9wQQqbF948Qy",
        "colab": {
          "base_uri": "https://localhost:8080/",
          "height": 265
        },
        "outputId": "df6bf003-f43d-481b-f3ae-e8d4248f3283"
      },
      "source": [
        "for k in range(len(data_1)):\n",
        "    plt.plot(data_1[k][:,0], data_1[k][:,1], color = \"steelblue\");\n",
        "    \n",
        "for k in range(len(data_2)):\n",
        "    plt.plot(data_2[k][:,0], data_2[k][:,1], color = \"red\");\n",
        "\n",
        "plt.scatter(Q[:,0], Q[:,1], s=10, color= 'black');\n",
        "plt.show()"
      ],
      "execution_count": null,
      "outputs": [
        {
          "output_type": "display_data",
          "data": {
            "image/png": "[encoded data removed]",
            "text/plain": [
              "<Figure size 432x288 with 1 Axes>"
            ]
          },
          "metadata": {
            "tags": [],
            "needs_background": "light"
          }
        }
      ]
    },
    {
      "cell_type": "code",
      "metadata": {
        "id": "z1uBC0xC48Qy",
        "colab": {
          "base_uri": "https://localhost:8080/"
        },
        "outputId": "6c7d749d-c787-4804-faea-126f14b0d748"
      },
      "source": [
        "len(data_1), len(data_2)"
      ],
      "execution_count": null,
      "outputs": [
        {
          "output_type": "execute_result",
          "data": {
            "text/plain": [
              "(160, 161)"
            ]
          },
          "metadata": {
            "tags": []
          },
          "execution_count": 26
        }
      ]
    },
    {
      "cell_type": "code",
      "metadata": {
        "id": "S8AeQUk648Qy"
      },
      "source": [
        "def KNN(data_1, data_2, num_iter=10):\n",
        "    \n",
        "    Start_time = time.time()\n",
        "    train_error = np.zeros(num_iter)\n",
        "    test_error = np.zeros(num_iter)\n",
        "    \n",
        "    sigma = 0.05\n",
        "    projected_1 = [0] * len(data_1) \n",
        "    projected_2 = [0] * len(data_2)\n",
        "\n",
        "    for i in range(len(data_1)):\n",
        "        projected_1[i] = np.concatenate((dist_signed_point_unclosed(Q,data_1[i],sigma),[1]), \n",
        "                                        axis = 0)\n",
        "    for i in range(len(data_2)):\n",
        "        projected_2[i] = np.concatenate((dist_signed_point_unclosed(Q,data_2[i],sigma),[-1]), \n",
        "                                        axis = 0)\n",
        "\n",
        "    projected_1 = np.array(projected_1)\n",
        "    projected_2 = np.array(projected_2)\n",
        "\n",
        "    for i in range(num_iter): \n",
        "\n",
        "        R1 = random.sample(range(len(projected_1)), int(0.3 * len(projected_1)))\n",
        "        R = np.sort(R1)\n",
        "        R_c = np.sort(list(set(range(len(projected_1))) - set(R)))\n",
        "\n",
        "        S1 = random.sample(range(len(projected_2)), int(0.3 * len(projected_2)))\n",
        "        S = np.sort(S1)\n",
        "        S_c = np.sort(list(set(range(len(projected_2))) - set(S)))\n",
        "\n",
        "        data_train = np.insert(projected_1[R_c], len(projected_1[R_c]), projected_2[S_c], \n",
        "                               axis = 0)\n",
        "        data_test = np.insert(projected_1[R], len(projected_1[R]), projected_2[S], axis = 0)\n",
        "        data_train = list(data_train)\n",
        "        data_test = list(data_test)\n",
        "        random.shuffle(data_train)\n",
        "        random.shuffle(data_test)\n",
        "        data_train = np.array(data_train)\n",
        "        data_test = np.array(data_test)\n",
        "\n",
        "        D = np.zeros((len(data_train),len(data_train)))\n",
        "\n",
        "        for j in range(len(data_train)-1):\n",
        "            for k in range(j+1, len(data_train)):\n",
        "                D[j][k] = LA.norm(data_train[j][:-1] - data_train[k][:-1])/math.sqrt(len(Q))\n",
        "                D[k][j] = D[j][k]\n",
        "\n",
        "        D_test = np.zeros((len(data_test),len(data_train))) \n",
        "\n",
        "        for j in range(len(data_train)):\n",
        "            for k in range(len(data_test)):\n",
        "                D_test[k][j] = LA.norm(data_train[j][:-1] - data_test[k][:-1])/math.sqrt(len(Q))\n",
        "\n",
        "        model = KNeighborsClassifier(n_neighbors=5, metric='precomputed')\n",
        "        #Train the model using the training sets\n",
        "\n",
        "        model.fit(D, data_train[:,-1])\n",
        "\n",
        "        #Predict the response for test dataset\n",
        "        y_pred = model.predict(D_test)\n",
        "        test_error[i] = 1 - metrics.accuracy_score(data_test[:,-1], y_pred)\n",
        "\n",
        "        x_pred = model.predict(D)\n",
        "        train_error[i] = 1 - metrics.accuracy_score(data_train[:,-1], x_pred)\n",
        "        \n",
        "    Dic = {}\n",
        "\n",
        "    Dic[1] = [\"KNN\", np.round(np.mean(train_error), decimals = 4), \n",
        "                    np.round(np.mean(test_error), decimals = 4),\n",
        "                   np.round(np.std(test_error), decimals = 4)]\n",
        "\n",
        "    print(pd.DataFrame.from_dict(Dic, orient='index', columns=['Classifier','Train Error', \n",
        "                                                         'Test Error', 'Std Error']))\n",
        "    print('total time to compute =', time.time() - Start_time)\n",
        "    \n",
        "    return np.mean(train_error), np.mean(test_error), np.std(test_error)"
      ],
      "execution_count": null,
      "outputs": []
    },
    {
      "cell_type": "code",
      "metadata": {
        "colab": {
          "base_uri": "https://localhost:8080/"
        },
        "id": "j0M9neYEotBa",
        "outputId": "cc9beb90-1176-4f81-c002-c5c956b24278"
      },
      "source": [
        "train_error, test_error, std = KNN(data_1, data_2, num_iter=100)"
      ],
      "execution_count": null,
      "outputs": [
        {
          "output_type": "stream",
          "text": [
            "  Classifier  Train Error  Test Error  Std Error\n",
            "1        KNN       0.0133      0.0141     0.0106\n",
            "total time to compute = 41.73910212516785\n"
          ],
          "name": "stdout"
        }
      ]
    },
    {
      "cell_type": "markdown",
      "metadata": {
        "id": "QzW55zScoZe3"
      },
      "source": [
        "# KNN with $d_Q$"
      ]
    },
    {
      "cell_type": "code",
      "metadata": {
        "id": "R3Aq8nlF48Qz"
      },
      "source": [
        "def old_dist(Q, gamma):\n",
        "    \n",
        "    p2 = gamma[1:]\n",
        "    p1 = gamma[:-1]\n",
        "    L = np.sqrt(((p2-p1)*(p2-p1)).sum(axis =1))\n",
        "    II = np.where(L>10e-8)[0]\n",
        "    L = L[II]\n",
        "    p1 = p1[II]\n",
        "    p2 = p2[II]\n",
        "    w = (p1-p2)*(-1,1)/(L*np.ones((2,1))).T\n",
        "    w[:,[0, 1]] = w[:,[1, 0]]\n",
        "    \n",
        "    dist_dot = np.sum(w * (Q.reshape(len(Q),1,2) - p1), axis=2)\n",
        "    \n",
        "    x = abs(dist_dot.copy())\n",
        "    R = (L**2).reshape(-1,1)\n",
        "    u = p1 + ((((np.sum(((Q.reshape(len(Q),1,2) - p1) * (p2 - p1)),axis=2).reshape(len(Q)\n",
        "                ,-1,1,1) * (p2-p1).reshape(len(p2-p1),1,2))).reshape(len(Q),len(p1),2))/R)\n",
        "    \n",
        "    G = np.sqrt(np.sum((u-p1)*(u-p1), axis=2))\n",
        "    H = np.sqrt(np.sum((u-p2)*(u-p2), axis=2))\n",
        "    d1 = np.sqrt(np.sum((Q.reshape(len(Q),1,2)-p1)*(Q.reshape(len(Q),1,2)-p1), axis=2))\n",
        "    d2 = np.sqrt(np.sum((Q.reshape(len(Q),1,2)-p2)*(Q.reshape(len(Q),1,2)-p2), axis=2))\n",
        "\n",
        "    dist = np.where(abs(G + H - L) < np.ones(len(L)) * (10e-8), x, np.minimum(d1, d2))\n",
        "\n",
        "    j = np.argmin(dist, axis =1)\n",
        "    dist_weighted = dist[np.arange(len(dist)),j] \n",
        "    \n",
        "    return dist_weighted.reshape(len(Q)) "
      ],
      "execution_count": null,
      "outputs": []
    },
    {
      "cell_type": "code",
      "metadata": {
        "id": "k4OMNVSu48Qz"
      },
      "source": [
        "def KNN_old_dist(data_1, data_2, num_iter=10):\n",
        "    \n",
        "    Start_time = time.time()\n",
        "    train_error = np.zeros(num_iter)\n",
        "    test_error = np.zeros(num_iter)\n",
        "    \n",
        "    proj_1 = [0] * len(data_1) \n",
        "    proj_2 = [0] * len(data_2)\n",
        "\n",
        "    for i in range(len(data_1)):\n",
        "        proj_1[i] = np.concatenate((old_dist(Q,data_1[i]),[1]), axis = 0)\n",
        "    for i in range(len(data_2)):\n",
        "        proj_2[i] = np.concatenate((old_dist(Q,data_2[i]),[-1]), axis = 0)\n",
        "\n",
        "    proj_1 = np.array(proj_1)\n",
        "    proj_2 = np.array(proj_2)\n",
        "\n",
        "    for i in range(num_iter): \n",
        "\n",
        "        R1 = random.sample(range(len(proj_1)), int(0.3 * len(proj_1)))\n",
        "        R = np.sort(R1)\n",
        "        R_c = np.sort(list(set(range(len(proj_1))) - set(R)))\n",
        "\n",
        "        S1 = random.sample(range(len(proj_2)), int(0.3 * len(proj_2)))\n",
        "        S = np.sort(S1)\n",
        "        S_c = np.sort(list(set(range(len(proj_2))) - set(S)))\n",
        "\n",
        "        data_train = np.insert(proj_1[R_c], len(proj_1[R_c]), proj_2[S_c], \n",
        "                               axis = 0)\n",
        "        data_test = np.insert(proj_1[R], len(proj_1[R]), proj_2[S], axis = 0)\n",
        "        data_train = list(data_train)\n",
        "        data_test = list(data_test)\n",
        "        random.shuffle(data_train)\n",
        "        random.shuffle(data_test)\n",
        "        data_train = np.array(data_train)\n",
        "        data_test = np.array(data_test)\n",
        "\n",
        "        D = np.zeros((len(data_train),len(data_train)))\n",
        "\n",
        "        for j in range(len(data_train)-1):\n",
        "            for k in range(j+1, len(data_train)):\n",
        "                D[j][k] = LA.norm(data_train[j][:-1] - data_train[k][:-1])/math.sqrt(len(Q))\n",
        "                D[k][j] = D[j][k]\n",
        "\n",
        "        D_test = np.zeros((len(data_test),len(data_train))) \n",
        "\n",
        "        for j in range(len(data_train)):\n",
        "            for k in range(len(data_test)):\n",
        "                D_test[k][j] = LA.norm(data_train[j][:-1] - data_test[k][:-1])/math.sqrt(len(Q))\n",
        "\n",
        "        model = KNeighborsClassifier(n_neighbors=5, metric='precomputed')\n",
        "        #Train the model using the training sets\n",
        "\n",
        "        model.fit(D, data_train[:,-1])\n",
        "\n",
        "        #Predict the response for test dataset\n",
        "        y_pred = model.predict(D_test)\n",
        "        test_error[i] = 1 - metrics.accuracy_score(data_test[:,-1], y_pred)\n",
        "\n",
        "        x_pred = model.predict(D)\n",
        "        train_error[i] = 1 - metrics.accuracy_score(data_train[:,-1], x_pred)\n",
        "        \n",
        "    Dic = {}\n",
        "\n",
        "    Dic[1] = [\"KNN with d_Q\", np.round(np.mean(train_error), decimals = 4), \n",
        "                    np.round(np.mean(test_error), decimals = 4),\n",
        "                   np.round(np.std(test_error), decimals = 4)]\n",
        "\n",
        "    print(pd.DataFrame.from_dict(Dic, orient='index', columns=['Classifier','Train Error', \n",
        "                                                         'Test Error', 'Std Error']))\n",
        "    print('total time to compute =', time.time() - Start_time)\n",
        "    \n",
        "    return np.mean(train_error), np.mean(test_error), np.std(test_error)"
      ],
      "execution_count": null,
      "outputs": []
    },
    {
      "cell_type": "code",
      "metadata": {
        "id": "BvKRMxOt48Qz",
        "colab": {
          "base_uri": "https://localhost:8080/"
        },
        "outputId": "0774341f-2500-45f5-a214-c45d7a33fa4f"
      },
      "source": [
        "train_error, test_error, std = KNN_old_dist(data_1, data_2, num_iter=100)"
      ],
      "execution_count": null,
      "outputs": [
        {
          "output_type": "stream",
          "text": [
            "     Classifier  Train Error  Test Error  Std Error\n",
            "1  KNN with d_Q        0.303      0.4658     0.0461\n",
            "total time to compute = 40.400362491607666\n"
          ],
          "name": "stdout"
        }
      ]
    },
    {
      "cell_type": "code",
      "metadata": {
        "id": "x1vfw4TCojAp"
      },
      "source": [
        ""
      ],
      "execution_count": null,
      "outputs": []
    }
  ]
}