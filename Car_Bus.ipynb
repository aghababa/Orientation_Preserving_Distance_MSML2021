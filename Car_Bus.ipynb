{
  "nbformat": 4,
  "nbformat_minor": 0,
  "metadata": {
    "kernelspec": {
      "display_name": "Python 3",
      "language": "python",
      "name": "python3"
    },
    "language_info": {
      "codemirror_mode": {
        "name": "ipython",
        "version": 3
      },
      "file_extension": ".py",
      "mimetype": "text/x-python",
      "name": "python",
      "nbconvert_exporter": "python",
      "pygments_lexer": "ipython3",
      "version": "3.7.4"
    },
    "colab": {
      "name": "Car-Bus-20-Nov-24-Final-Appearing-on-the-Paper.ipynb",
      "provenance": [],
      "collapsed_sections": []
    }
  },
  "cells": [
    {
      "cell_type": "code",
      "metadata": {
        "scrolled": true,
        "id": "b5BXAvdNQw5t",
        "colab": {
          "base_uri": "https://localhost:8080/"
        },
        "outputId": "67702d7c-8a2b-40fc-ac8d-cade8b5948ab"
      },
      "source": [
        "import glob\n",
        "import numpy as np \n",
        "import time\n",
        "import math\n",
        "import random\n",
        "from scipy import linalg as LA\n",
        "import pandas as pd\n",
        "from sklearn.pipeline import make_pipeline\n",
        "from sklearn.preprocessing import StandardScaler\n",
        "from sklearn import svm\n",
        "from sklearn.svm import NuSVC\n",
        "from sklearn.model_selection import train_test_split\n",
        "from sklearn import metrics\n",
        "from sklearn.ensemble import AdaBoostClassifier\n",
        "from sklearn.svm import SVC\n",
        "from sklearn.ensemble import RandomForestClassifier\n",
        "from sklearn.tree import DecisionTreeClassifier\n",
        "from sklearn.neighbors import KNeighborsClassifier\n",
        "import statsmodels.api as sm"
      ],
      "execution_count": null,
      "outputs": [
        {
          "output_type": "stream",
          "text": [
            "/usr/local/lib/python3.6/dist-packages/statsmodels/tools/_testing.py:19: FutureWarning: pandas.util.testing is deprecated. Use the functions in the public API at pandas.testing instead.\n",
            "  import pandas.util.testing as tm\n"
          ],
          "name": "stderr"
        }
      ]
    },
    {
      "cell_type": "markdown",
      "metadata": {
        "id": "I--6GGVERJbB"
      },
      "source": [
        "# Importing files from google drive\n",
        "\n",
        "---"
      ]
    },
    {
      "cell_type": "code",
      "metadata": {
        "id": "21g9nlO8Q_T2",
        "colab": {
          "base_uri": "https://localhost:8080/"
        },
        "outputId": "355663e8-ed49-4df4-bb8e-68782eba41c6"
      },
      "source": [
        "from google.colab import drive\n",
        "drive.mount(\"/content/gdrive\")"
      ],
      "execution_count": null,
      "outputs": [
        {
          "output_type": "stream",
          "text": [
            "Mounted at /content/gdrive\n"
          ],
          "name": "stdout"
        }
      ]
    },
    {
      "cell_type": "code",
      "metadata": {
        "id": "bBbBMGyjQ_96",
        "colab": {
          "base_uri": "https://localhost:8080/",
          "height": 195
        },
        "outputId": "670b4714-4d98-44b0-fbd9-3bb702b926bd"
      },
      "source": [
        "pd.read_csv('/content/gdrive/My Drive/Colab Notebooks/go_track_tracks.csv')[:5]"
      ],
      "execution_count": null,
      "outputs": [
        {
          "output_type": "execute_result",
          "data": {
            "text/html": [
              "<div>\n",
              "<style scoped>\n",
              "    .dataframe tbody tr th:only-of-type {\n",
              "        vertical-align: middle;\n",
              "    }\n",
              "\n",
              "    .dataframe tbody tr th {\n",
              "        vertical-align: top;\n",
              "    }\n",
              "\n",
              "    .dataframe thead th {\n",
              "        text-align: right;\n",
              "    }\n",
              "</style>\n",
              "<table border=\"1\" class=\"dataframe\">\n",
              "  <thead>\n",
              "    <tr style=\"text-align: right;\">\n",
              "      <th></th>\n",
              "      <th>id</th>\n",
              "      <th>id_android</th>\n",
              "      <th>speed</th>\n",
              "      <th>time</th>\n",
              "      <th>distance</th>\n",
              "      <th>rating</th>\n",
              "      <th>rating_bus</th>\n",
              "      <th>rating_weather</th>\n",
              "      <th>car_or_bus</th>\n",
              "      <th>linha</th>\n",
              "    </tr>\n",
              "  </thead>\n",
              "  <tbody>\n",
              "    <tr>\n",
              "      <th>0</th>\n",
              "      <td>1</td>\n",
              "      <td>0</td>\n",
              "      <td>19.210586</td>\n",
              "      <td>0.138049</td>\n",
              "      <td>2.652</td>\n",
              "      <td>3</td>\n",
              "      <td>0</td>\n",
              "      <td>0</td>\n",
              "      <td>1</td>\n",
              "      <td>NaN</td>\n",
              "    </tr>\n",
              "    <tr>\n",
              "      <th>1</th>\n",
              "      <td>2</td>\n",
              "      <td>0</td>\n",
              "      <td>30.848229</td>\n",
              "      <td>0.171485</td>\n",
              "      <td>5.290</td>\n",
              "      <td>3</td>\n",
              "      <td>0</td>\n",
              "      <td>0</td>\n",
              "      <td>1</td>\n",
              "      <td>NaN</td>\n",
              "    </tr>\n",
              "    <tr>\n",
              "      <th>2</th>\n",
              "      <td>3</td>\n",
              "      <td>1</td>\n",
              "      <td>13.560101</td>\n",
              "      <td>0.067699</td>\n",
              "      <td>0.918</td>\n",
              "      <td>3</td>\n",
              "      <td>0</td>\n",
              "      <td>0</td>\n",
              "      <td>2</td>\n",
              "      <td>NaN</td>\n",
              "    </tr>\n",
              "    <tr>\n",
              "      <th>3</th>\n",
              "      <td>4</td>\n",
              "      <td>1</td>\n",
              "      <td>19.766679</td>\n",
              "      <td>0.389544</td>\n",
              "      <td>7.700</td>\n",
              "      <td>3</td>\n",
              "      <td>0</td>\n",
              "      <td>0</td>\n",
              "      <td>2</td>\n",
              "      <td>NaN</td>\n",
              "    </tr>\n",
              "    <tr>\n",
              "      <th>4</th>\n",
              "      <td>8</td>\n",
              "      <td>0</td>\n",
              "      <td>25.807401</td>\n",
              "      <td>0.154801</td>\n",
              "      <td>3.995</td>\n",
              "      <td>2</td>\n",
              "      <td>0</td>\n",
              "      <td>0</td>\n",
              "      <td>1</td>\n",
              "      <td>NaN</td>\n",
              "    </tr>\n",
              "  </tbody>\n",
              "</table>\n",
              "</div>"
            ],
            "text/plain": [
              "   id  id_android      speed  ...  rating_weather  car_or_bus  linha\n",
              "0   1           0  19.210586  ...               0           1    NaN\n",
              "1   2           0  30.848229  ...               0           1    NaN\n",
              "2   3           1  13.560101  ...               0           2    NaN\n",
              "3   4           1  19.766679  ...               0           2    NaN\n",
              "4   8           0  25.807401  ...               0           1    NaN\n",
              "\n",
              "[5 rows x 10 columns]"
            ]
          },
          "metadata": {
            "tags": []
          },
          "execution_count": 5
        }
      ]
    },
    {
      "cell_type": "markdown",
      "metadata": {
        "id": "bsX8KWNFRjxj"
      },
      "source": [
        "# Importing data from my computer"
      ]
    },
    {
      "cell_type": "code",
      "metadata": {
        "id": "5TYsMvR3Q-sM",
        "colab": {
          "resources": {
            "http://localhost:8080/nbextensions/google.colab/files.js": {
              "data": "Ly8gQ29weXJpZ2h0IDIwMTcgR29vZ2xlIExMQwovLwovLyBMaWNlbnNlZCB1bmRlciB0aGUgQXBhY2hlIExpY2Vuc2UsIFZlcnNpb24gMi4wICh0aGUgIkxpY2Vuc2UiKTsKLy8geW91IG1heSBub3QgdXNlIHRoaXMgZmlsZSBleGNlcHQgaW4gY29tcGxpYW5jZSB3aXRoIHRoZSBMaWNlbnNlLgovLyBZb3UgbWF5IG9idGFpbiBhIGNvcHkgb2YgdGhlIExpY2Vuc2UgYXQKLy8KLy8gICAgICBodHRwOi8vd3d3LmFwYWNoZS5vcmcvbGljZW5zZXMvTElDRU5TRS0yLjAKLy8KLy8gVW5sZXNzIHJlcXVpcmVkIGJ5IGFwcGxpY2FibGUgbGF3IG9yIGFncmVlZCB0byBpbiB3cml0aW5nLCBzb2Z0d2FyZQovLyBkaXN0cmlidXRlZCB1bmRlciB0aGUgTGljZW5zZSBpcyBkaXN0cmlidXRlZCBvbiBhbiAiQVMgSVMiIEJBU0lTLAovLyBXSVRIT1VUIFdBUlJBTlRJRVMgT1IgQ09ORElUSU9OUyBPRiBBTlkgS0lORCwgZWl0aGVyIGV4cHJlc3Mgb3IgaW1wbGllZC4KLy8gU2VlIHRoZSBMaWNlbnNlIGZvciB0aGUgc3BlY2lmaWMgbGFuZ3VhZ2UgZ292ZXJuaW5nIHBlcm1pc3Npb25zIGFuZAovLyBsaW1pdGF0aW9ucyB1bmRlciB0aGUgTGljZW5zZS4KCi8qKgogKiBAZmlsZW92ZXJ2aWV3IEhlbHBlcnMgZm9yIGdvb2dsZS5jb2xhYiBQeXRob24gbW9kdWxlLgogKi8KKGZ1bmN0aW9uKHNjb3BlKSB7CmZ1bmN0aW9uIHNwYW4odGV4dCwgc3R5bGVBdHRyaWJ1dGVzID0ge30pIHsKICBjb25zdCBlbGVtZW50ID0gZG9jdW1lbnQuY3JlYXRlRWxlbWVudCgnc3BhbicpOwogIGVsZW1lbnQudGV4dENvbnRlbnQgPSB0ZXh0OwogIGZvciAoY29uc3Qga2V5IG9mIE9iamVjdC5rZXlzKHN0eWxlQXR0cmlidXRlcykpIHsKICAgIGVsZW1lbnQuc3R5bGVba2V5XSA9IHN0eWxlQXR0cmlidXRlc1trZXldOwogIH0KICByZXR1cm4gZWxlbWVudDsKfQoKLy8gTWF4IG51bWJlciBvZiBieXRlcyB3aGljaCB3aWxsIGJlIHVwbG9hZGVkIGF0IGEgdGltZS4KY29uc3QgTUFYX1BBWUxPQURfU0laRSA9IDEwMCAqIDEwMjQ7CgpmdW5jdGlvbiBfdXBsb2FkRmlsZXMoaW5wdXRJZCwgb3V0cHV0SWQpIHsKICBjb25zdCBzdGVwcyA9IHVwbG9hZEZpbGVzU3RlcChpbnB1dElkLCBvdXRwdXRJZCk7CiAgY29uc3Qgb3V0cHV0RWxlbWVudCA9IGRvY3VtZW50LmdldEVsZW1lbnRCeUlkKG91dHB1dElkKTsKICAvLyBDYWNoZSBzdGVwcyBvbiB0aGUgb3V0cHV0RWxlbWVudCB0byBtYWtlIGl0IGF2YWlsYWJsZSBmb3IgdGhlIG5leHQgY2FsbAogIC8vIHRvIHVwbG9hZEZpbGVzQ29udGludWUgZnJvbSBQeXRob24uCiAgb3V0cHV0RWxlbWVudC5zdGVwcyA9IHN0ZXBzOwoKICByZXR1cm4gX3VwbG9hZEZpbGVzQ29udGludWUob3V0cHV0SWQpOwp9CgovLyBUaGlzIGlzIHJvdWdobHkgYW4gYXN5bmMgZ2VuZXJhdG9yIChub3Qgc3VwcG9ydGVkIGluIHRoZSBicm93c2VyIHlldCksCi8vIHdoZXJlIHRoZXJlIGFyZSBtdWx0aXBsZSBhc3luY2hyb25vdXMgc3RlcHMgYW5kIHRoZSBQeXRob24gc2lkZSBpcyBnb2luZwovLyB0byBwb2xsIGZvciBjb21wbGV0aW9uIG9mIGVhY2ggc3RlcC4KLy8gVGhpcyB1c2VzIGEgUHJvbWlzZSB0byBibG9jayB0aGUgcHl0aG9uIHNpZGUgb24gY29tcGxldGlvbiBvZiBlYWNoIHN0ZXAsCi8vIHRoZW4gcGFzc2VzIHRoZSByZXN1bHQgb2YgdGhlIHByZXZpb3VzIHN0ZXAgYXMgdGhlIGlucHV0IHRvIHRoZSBuZXh0IHN0ZXAuCmZ1bmN0aW9uIF91cGxvYWRGaWxlc0NvbnRpbnVlKG91dHB1dElkKSB7CiAgY29uc3Qgb3V0cHV0RWxlbWVudCA9IGRvY3VtZW50LmdldEVsZW1lbnRCeUlkKG91dHB1dElkKTsKICBjb25zdCBzdGVwcyA9IG91dHB1dEVsZW1lbnQuc3RlcHM7CgogIGNvbnN0IG5leHQgPSBzdGVwcy5uZXh0KG91dHB1dEVsZW1lbnQubGFzdFByb21pc2VWYWx1ZSk7CiAgcmV0dXJuIFByb21pc2UucmVzb2x2ZShuZXh0LnZhbHVlLnByb21pc2UpLnRoZW4oKHZhbHVlKSA9PiB7CiAgICAvLyBDYWNoZSB0aGUgbGFzdCBwcm9taXNlIHZhbHVlIHRvIG1ha2UgaXQgYXZhaWxhYmxlIHRvIHRoZSBuZXh0CiAgICAvLyBzdGVwIG9mIHRoZSBnZW5lcmF0b3IuCiAgICBvdXRwdXRFbGVtZW50Lmxhc3RQcm9taXNlVmFsdWUgPSB2YWx1ZTsKICAgIHJldHVybiBuZXh0LnZhbHVlLnJlc3BvbnNlOwogIH0pOwp9CgovKioKICogR2VuZXJhdG9yIGZ1bmN0aW9uIHdoaWNoIGlzIGNhbGxlZCBiZXR3ZWVuIGVhY2ggYXN5bmMgc3RlcCBvZiB0aGUgdXBsb2FkCiAqIHByb2Nlc3MuCiAqIEBwYXJhbSB7c3RyaW5nfSBpbnB1dElkIEVsZW1lbnQgSUQgb2YgdGhlIGlucHV0IGZpbGUgcGlja2VyIGVsZW1lbnQuCiAqIEBwYXJhbSB7c3RyaW5nfSBvdXRwdXRJZCBFbGVtZW50IElEIG9mIHRoZSBvdXRwdXQgZGlzcGxheS4KICogQHJldHVybiB7IUl0ZXJhYmxlPCFPYmplY3Q+fSBJdGVyYWJsZSBvZiBuZXh0IHN0ZXBzLgogKi8KZnVuY3Rpb24qIHVwbG9hZEZpbGVzU3RlcChpbnB1dElkLCBvdXRwdXRJZCkgewogIGNvbnN0IGlucHV0RWxlbWVudCA9IGRvY3VtZW50LmdldEVsZW1lbnRCeUlkKGlucHV0SWQpOwogIGlucHV0RWxlbWVudC5kaXNhYmxlZCA9IGZhbHNlOwoKICBjb25zdCBvdXRwdXRFbGVtZW50ID0gZG9jdW1lbnQuZ2V0RWxlbWVudEJ5SWQob3V0cHV0SWQpOwogIG91dHB1dEVsZW1lbnQuaW5uZXJIVE1MID0gJyc7CgogIGNvbnN0IHBpY2tlZFByb21pc2UgPSBuZXcgUHJvbWlzZSgocmVzb2x2ZSkgPT4gewogICAgaW5wdXRFbGVtZW50LmFkZEV2ZW50TGlzdGVuZXIoJ2NoYW5nZScsIChlKSA9PiB7CiAgICAgIHJlc29sdmUoZS50YXJnZXQuZmlsZXMpOwogICAgfSk7CiAgfSk7CgogIGNvbnN0IGNhbmNlbCA9IGRvY3VtZW50LmNyZWF0ZUVsZW1lbnQoJ2J1dHRvbicpOwogIGlucHV0RWxlbWVudC5wYXJlbnRFbGVtZW50LmFwcGVuZENoaWxkKGNhbmNlbCk7CiAgY2FuY2VsLnRleHRDb250ZW50ID0gJ0NhbmNlbCB1cGxvYWQnOwogIGNvbnN0IGNhbmNlbFByb21pc2UgPSBuZXcgUHJvbWlzZSgocmVzb2x2ZSkgPT4gewogICAgY2FuY2VsLm9uY2xpY2sgPSAoKSA9PiB7CiAgICAgIHJlc29sdmUobnVsbCk7CiAgICB9OwogIH0pOwoKICAvLyBXYWl0IGZvciB0aGUgdXNlciB0byBwaWNrIHRoZSBmaWxlcy4KICBjb25zdCBmaWxlcyA9IHlpZWxkIHsKICAgIHByb21pc2U6IFByb21pc2UucmFjZShbcGlja2VkUHJvbWlzZSwgY2FuY2VsUHJvbWlzZV0pLAogICAgcmVzcG9uc2U6IHsKICAgICAgYWN0aW9uOiAnc3RhcnRpbmcnLAogICAgfQogIH07CgogIGNhbmNlbC5yZW1vdmUoKTsKCiAgLy8gRGlzYWJsZSB0aGUgaW5wdXQgZWxlbWVudCBzaW5jZSBmdXJ0aGVyIHBpY2tzIGFyZSBub3QgYWxsb3dlZC4KICBpbnB1dEVsZW1lbnQuZGlzYWJsZWQgPSB0cnVlOwoKICBpZiAoIWZpbGVzKSB7CiAgICByZXR1cm4gewogICAgICByZXNwb25zZTogewogICAgICAgIGFjdGlvbjogJ2NvbXBsZXRlJywKICAgICAgfQogICAgfTsKICB9CgogIGZvciAoY29uc3QgZmlsZSBvZiBmaWxlcykgewogICAgY29uc3QgbGkgPSBkb2N1bWVudC5jcmVhdGVFbGVtZW50KCdsaScpOwogICAgbGkuYXBwZW5kKHNwYW4oZmlsZS5uYW1lLCB7Zm9udFdlaWdodDogJ2JvbGQnfSkpOwogICAgbGkuYXBwZW5kKHNwYW4oCiAgICAgICAgYCgke2ZpbGUudHlwZSB8fCAnbi9hJ30pIC0gJHtmaWxlLnNpemV9IGJ5dGVzLCBgICsKICAgICAgICBgbGFzdCBtb2RpZmllZDogJHsKICAgICAgICAgICAgZmlsZS5sYXN0TW9kaWZpZWREYXRlID8gZmlsZS5sYXN0TW9kaWZpZWREYXRlLnRvTG9jYWxlRGF0ZVN0cmluZygpIDoKICAgICAgICAgICAgICAgICAgICAgICAgICAgICAgICAgICAgJ24vYSd9IC0gYCkpOwogICAgY29uc3QgcGVyY2VudCA9IHNwYW4oJzAlIGRvbmUnKTsKICAgIGxpLmFwcGVuZENoaWxkKHBlcmNlbnQpOwoKICAgIG91dHB1dEVsZW1lbnQuYXBwZW5kQ2hpbGQobGkpOwoKICAgIGNvbnN0IGZpbGVEYXRhUHJvbWlzZSA9IG5ldyBQcm9taXNlKChyZXNvbHZlKSA9PiB7CiAgICAgIGNvbnN0IHJlYWRlciA9IG5ldyBGaWxlUmVhZGVyKCk7CiAgICAgIHJlYWRlci5vbmxvYWQgPSAoZSkgPT4gewogICAgICAgIHJlc29sdmUoZS50YXJnZXQucmVzdWx0KTsKICAgICAgfTsKICAgICAgcmVhZGVyLnJlYWRBc0FycmF5QnVmZmVyKGZpbGUpOwogICAgfSk7CiAgICAvLyBXYWl0IGZvciB0aGUgZGF0YSB0byBiZSByZWFkeS4KICAgIGxldCBmaWxlRGF0YSA9IHlpZWxkIHsKICAgICAgcHJvbWlzZTogZmlsZURhdGFQcm9taXNlLAogICAgICByZXNwb25zZTogewogICAgICAgIGFjdGlvbjogJ2NvbnRpbnVlJywKICAgICAgfQogICAgfTsKCiAgICAvLyBVc2UgYSBjaHVua2VkIHNlbmRpbmcgdG8gYXZvaWQgbWVzc2FnZSBzaXplIGxpbWl0cy4gU2VlIGIvNjIxMTU2NjAuCiAgICBsZXQgcG9zaXRpb24gPSAwOwogICAgd2hpbGUgKHBvc2l0aW9uIDwgZmlsZURhdGEuYnl0ZUxlbmd0aCkgewogICAgICBjb25zdCBsZW5ndGggPSBNYXRoLm1pbihmaWxlRGF0YS5ieXRlTGVuZ3RoIC0gcG9zaXRpb24sIE1BWF9QQVlMT0FEX1NJWkUpOwogICAgICBjb25zdCBjaHVuayA9IG5ldyBVaW50OEFycmF5KGZpbGVEYXRhLCBwb3NpdGlvbiwgbGVuZ3RoKTsKICAgICAgcG9zaXRpb24gKz0gbGVuZ3RoOwoKICAgICAgY29uc3QgYmFzZTY0ID0gYnRvYShTdHJpbmcuZnJvbUNoYXJDb2RlLmFwcGx5KG51bGwsIGNodW5rKSk7CiAgICAgIHlpZWxkIHsKICAgICAgICByZXNwb25zZTogewogICAgICAgICAgYWN0aW9uOiAnYXBwZW5kJywKICAgICAgICAgIGZpbGU6IGZpbGUubmFtZSwKICAgICAgICAgIGRhdGE6IGJhc2U2NCwKICAgICAgICB9LAogICAgICB9OwogICAgICBwZXJjZW50LnRleHRDb250ZW50ID0KICAgICAgICAgIGAke01hdGgucm91bmQoKHBvc2l0aW9uIC8gZmlsZURhdGEuYnl0ZUxlbmd0aCkgKiAxMDApfSUgZG9uZWA7CiAgICB9CiAgfQoKICAvLyBBbGwgZG9uZS4KICB5aWVsZCB7CiAgICByZXNwb25zZTogewogICAgICBhY3Rpb246ICdjb21wbGV0ZScsCiAgICB9CiAgfTsKfQoKc2NvcGUuZ29vZ2xlID0gc2NvcGUuZ29vZ2xlIHx8IHt9OwpzY29wZS5nb29nbGUuY29sYWIgPSBzY29wZS5nb29nbGUuY29sYWIgfHwge307CnNjb3BlLmdvb2dsZS5jb2xhYi5fZmlsZXMgPSB7CiAgX3VwbG9hZEZpbGVzLAogIF91cGxvYWRGaWxlc0NvbnRpbnVlLAp9Owp9KShzZWxmKTsK",
              "ok": true,
              "headers": [
                [
                  "content-type",
                  "application/javascript"
                ]
              ],
              "status": 200,
              "status_text": ""
            }
          },
          "base_uri": "https://localhost:8080/",
          "height": 106
        },
        "outputId": "fbfcc11f-4ab5-4c22-ca9b-96636f48bc4c"
      },
      "source": [
        "from google.colab import files\n",
        "uploaded = files.upload()"
      ],
      "execution_count": null,
      "outputs": [
        {
          "output_type": "display_data",
          "data": {
            "text/html": [
              "\n",
              "     <input type=\"file\" id=\"files-d9b7f1c9-2ff6-4a77-8131-47e985ff7336\" name=\"files[]\" multiple disabled\n",
              "        style=\"border:none\" />\n",
              "     <output id=\"result-d9b7f1c9-2ff6-4a77-8131-47e985ff7336\">\n",
              "      Upload widget is only available when the cell has been executed in the\n",
              "      current browser session. Please rerun this cell to enable.\n",
              "      </output>\n",
              "      <script src=\"/nbextensions/google.colab/files.js\"></script> "
            ],
            "text/plain": [
              "<IPython.core.display.HTML object>"
            ]
          },
          "metadata": {
            "tags": []
          }
        },
        {
          "output_type": "stream",
          "text": [
            "Saving go_track_tracks.csv to go_track_tracks.csv\n",
            "Saving go_track_trackspoints.csv to go_track_trackspoints.csv\n"
          ],
          "name": "stdout"
        }
      ]
    },
    {
      "cell_type": "code",
      "metadata": {
        "id": "W2MQGIFHRsyg",
        "colab": {
          "base_uri": "https://localhost:8080/",
          "height": 195
        },
        "outputId": "4013b9a0-55ef-4cbc-b0e8-35c9c13f0db7"
      },
      "source": [
        "pd.read_csv(\"go_track_trackspoints.csv\")[:5]"
      ],
      "execution_count": null,
      "outputs": [
        {
          "output_type": "execute_result",
          "data": {
            "text/html": [
              "<div>\n",
              "<style scoped>\n",
              "    .dataframe tbody tr th:only-of-type {\n",
              "        vertical-align: middle;\n",
              "    }\n",
              "\n",
              "    .dataframe tbody tr th {\n",
              "        vertical-align: top;\n",
              "    }\n",
              "\n",
              "    .dataframe thead th {\n",
              "        text-align: right;\n",
              "    }\n",
              "</style>\n",
              "<table border=\"1\" class=\"dataframe\">\n",
              "  <thead>\n",
              "    <tr style=\"text-align: right;\">\n",
              "      <th></th>\n",
              "      <th>id</th>\n",
              "      <th>latitude</th>\n",
              "      <th>longitude</th>\n",
              "      <th>track_id</th>\n",
              "      <th>time</th>\n",
              "    </tr>\n",
              "  </thead>\n",
              "  <tbody>\n",
              "    <tr>\n",
              "      <th>0</th>\n",
              "      <td>1</td>\n",
              "      <td>-10.939341</td>\n",
              "      <td>-37.062742</td>\n",
              "      <td>1</td>\n",
              "      <td>2014-09-13 07:24:32</td>\n",
              "    </tr>\n",
              "    <tr>\n",
              "      <th>1</th>\n",
              "      <td>2</td>\n",
              "      <td>-10.939341</td>\n",
              "      <td>-37.062742</td>\n",
              "      <td>1</td>\n",
              "      <td>2014-09-13 07:24:37</td>\n",
              "    </tr>\n",
              "    <tr>\n",
              "      <th>2</th>\n",
              "      <td>3</td>\n",
              "      <td>-10.939324</td>\n",
              "      <td>-37.062765</td>\n",
              "      <td>1</td>\n",
              "      <td>2014-09-13 07:24:42</td>\n",
              "    </tr>\n",
              "    <tr>\n",
              "      <th>3</th>\n",
              "      <td>4</td>\n",
              "      <td>-10.939211</td>\n",
              "      <td>-37.062843</td>\n",
              "      <td>1</td>\n",
              "      <td>2014-09-13 07:24:47</td>\n",
              "    </tr>\n",
              "    <tr>\n",
              "      <th>4</th>\n",
              "      <td>5</td>\n",
              "      <td>-10.938939</td>\n",
              "      <td>-37.062879</td>\n",
              "      <td>1</td>\n",
              "      <td>2014-09-13 07:24:53</td>\n",
              "    </tr>\n",
              "  </tbody>\n",
              "</table>\n",
              "</div>"
            ],
            "text/plain": [
              "   id   latitude  longitude  track_id                 time\n",
              "0   1 -10.939341 -37.062742         1  2014-09-13 07:24:32\n",
              "1   2 -10.939341 -37.062742         1  2014-09-13 07:24:37\n",
              "2   3 -10.939324 -37.062765         1  2014-09-13 07:24:42\n",
              "3   4 -10.939211 -37.062843         1  2014-09-13 07:24:47\n",
              "4   5 -10.938939 -37.062879         1  2014-09-13 07:24:53"
            ]
          },
          "metadata": {
            "tags": []
          },
          "execution_count": 9
        }
      ]
    },
    {
      "cell_type": "markdown",
      "metadata": {
        "id": "tsGwDC6pSRVp"
      },
      "source": [
        "# Start of my code"
      ]
    },
    {
      "cell_type": "code",
      "metadata": {
        "id": "CrORjFNjQw5w"
      },
      "source": [
        "def read_file(file_name):\n",
        "    data = []\n",
        "    with open(file_name, \"r\") as f:\n",
        "        for line in f:\n",
        "            item = line.strip().split(\",\")\n",
        "            data.append(np.array(item))\n",
        "    return np.array(data)"
      ],
      "execution_count": null,
      "outputs": []
    },
    {
      "cell_type": "code",
      "metadata": {
        "id": "YpaC5Yw8Qw5y"
      },
      "source": [
        "data1 = read_file('go_track_tracks.csv')[1:,:-1]\n",
        "data2 = read_file('go_track_trackspoints.csv')[1:,1:4]"
      ],
      "execution_count": null,
      "outputs": []
    },
    {
      "cell_type": "code",
      "metadata": {
        "id": "pnWq-DGRQw50"
      },
      "source": [
        "float1 = np.vectorize(float)\n",
        "int1 = np.vectorize(int)\n",
        "track_id = int1(data1[:,0])\n",
        "labels = np.where(int1(data1[:,-1]) < 1.5, int1(data1[:,-1]), -1) \n",
        "traj = float1(data2)"
      ],
      "execution_count": null,
      "outputs": []
    },
    {
      "cell_type": "code",
      "metadata": {
        "id": "o9PYd0r3Qw55"
      },
      "source": [
        "trajec = [0] * 163\n",
        "\n",
        "for i in range(163):\n",
        "    trajec[i] = []\n",
        "    I = np.where(traj[:,2] == track_id[i])\n",
        "    trajec[i] = np.array([labels[i], traj[I]])\n",
        "\n",
        "trajec = np.array(trajec)"
      ],
      "execution_count": null,
      "outputs": []
    },
    {
      "cell_type": "code",
      "metadata": {
        "id": "2U8DkMefQw57"
      },
      "source": [
        "trajectory = [0] * 163\n",
        "trajectory_label_id = [0] * 163\n",
        "\n",
        "for i in range(163):\n",
        "    trajectory[i] = trajec[i][1][:,:2]\n",
        "    trajectory_label_id[i] = np.array([trajec[i][1][:,:2], trajec[i][0], trajec[i][1][:,2][0]])\n",
        "    \n",
        "trajectory_label_id = np.array(trajectory_label_id)\n",
        "trajectory = np.array(trajectory)"
      ],
      "execution_count": null,
      "outputs": []
    },
    {
      "cell_type": "code",
      "metadata": {
        "id": "-ChKrav1Qw5-",
        "colab": {
          "base_uri": "https://localhost:8080/"
        },
        "outputId": "1f3e1242-7430-46e6-f120-75c15ae66e7a"
      },
      "source": [
        "min_length = 10\n",
        "max_length = 1000 \n",
        "l = 0\n",
        "index = [] \n",
        "for i in range(163):\n",
        "    if len(trajectory[i]) < min_length or len(trajectory[i]) > max_length:\n",
        "        l = l + 1\n",
        "    else:\n",
        "        index.append(i)\n",
        "        \n",
        "l, 163-l"
      ],
      "execution_count": null,
      "outputs": [
        {
          "output_type": "execute_result",
          "data": {
            "text/plain": [
              "(40, 123)"
            ]
          },
          "metadata": {
            "tags": []
          },
          "execution_count": 16
        }
      ]
    },
    {
      "cell_type": "code",
      "metadata": {
        "id": "skYHE61eQw6A"
      },
      "source": [
        "trajectories = [0] * (163-l)\n",
        "trajectories_label_id = [0] * (163-l)\n",
        "\n",
        "j = 0\n",
        "for i in range(163):\n",
        "    if len(trajectory[i]) >= min_length and len(trajectory[i]) <= max_length:\n",
        "        trajectories[j] = np.array(trajectory[i])\n",
        "        trajectories_label_id[j] = trajectory_label_id[i]\n",
        "        j = j + 1\n",
        "\n",
        "trajectories_label_id = np.array(trajectories_label_id)\n",
        "trajectories = np.array(trajectories)"
      ],
      "execution_count": null,
      "outputs": []
    },
    {
      "cell_type": "code",
      "metadata": {
        "id": "C8e9ZeZsQw6D"
      },
      "source": [
        "cars = trajectories_label_id[np.where(trajectories_label_id[:,1] == 1)][:,:2]\n",
        "buses = trajectories_label_id[np.where(trajectories_label_id[:,1] == -1)][:,:2]"
      ],
      "execution_count": null,
      "outputs": []
    },
    {
      "cell_type": "code",
      "metadata": {
        "id": "Q8t33Ma_Qw6H"
      },
      "source": [
        "num_cars = len(cars)\n",
        "num_buses = len(buses)\n",
        "num_cars_third = int(num_cars/3)\n",
        "num_buses_third = int(num_buses/3)\n",
        "\n",
        "R1 = random.sample(range(num_cars), num_cars_third)\n",
        "R = np.sort(R1)\n",
        "R_c = np.sort(list(set(range(num_cars)) - set(R)))\n",
        "    \n",
        "S1 = random.sample(range(num_buses), num_buses_third)\n",
        "S = np.sort(S1)\n",
        "S_c = np.sort(list(set(range(num_buses)) - set(S)))\n",
        "    \n",
        "train = np.insert(cars[R_c], len(cars[R_c]), buses[S_c], axis = 0)\n",
        "test = np.insert(cars[R], len(cars[R]), buses[S], axis = 0)\n",
        "\n",
        "train = list(train)\n",
        "test = list(test)\n",
        "random.shuffle(train)\n",
        "random.shuffle(test)\n",
        "train = np.array(train)\n",
        "test = np.array(test)"
      ],
      "execution_count": null,
      "outputs": []
    },
    {
      "cell_type": "code",
      "metadata": {
        "id": "bBt0_SodQw6L",
        "colab": {
          "base_uri": "https://localhost:8080/"
        },
        "outputId": "5f39074e-30b9-46ee-b2bd-b6c9841be795"
      },
      "source": [
        "# creating box boundaries for landmark points for whole dataset\n",
        "\n",
        "a1 = min([min(trajectories[i][:,0]) for i in range(len(trajectories))])\n",
        "b1 = max([max(trajectories[i][:,0]) for i in range(len(trajectories))])\n",
        "a2 = min([min(trajectories[i][:,1]) for i in range(len(trajectories))])\n",
        "b2 = max([max(trajectories[i][:,1]) for i in range(len(trajectories))])\n",
        "\n",
        "I = [np.mean(trajectories[i][:,0]) for i in range(len(trajectories))]\n",
        "J = [np.mean(trajectories[i][:,1]) for i in range(len(trajectories))]\n",
        "m1 = np.mean(I)\n",
        "m2 = np.mean(J)\n",
        "M1 = np.median(I)\n",
        "M2 = np.median(J)\n",
        "V1 = np.var(I)\n",
        "V2 = np.var(J)\n",
        "std_x = np.std(I)\n",
        "std_y = np.std(J)\n",
        "\n",
        "print(\"x-coordinate minimum is: \", a1)\n",
        "print(\"x-coordinate maximum is: \", b1) \n",
        "print(\"x-coordinate mean is: \", m1)\n",
        "print(\"x-coordinate median is: \", M1)\n",
        "print(\"x-coordinate variance is: \", V1)\n",
        "print(\"x-coordinate standard deviation is: \", std_x, '\\n')\n",
        "\n",
        "print(\"y-coordinate minimum is: \", a2) \n",
        "print(\"y-coordinate maximun is: \", b2)\n",
        "print(\"y-coordinate mean is: \", m2)\n",
        "print(\"y-coordinate median is: \", M2)\n",
        "print(\"y-coordinate variance is: \", V2)\n",
        "print(\"y-coordinate standard deviation is: \", std_y)"
      ],
      "execution_count": null,
      "outputs": [
        {
          "output_type": "stream",
          "text": [
            "x-coordinate minimum is:  -27.34482954\n",
            "x-coordinate maximum is:  -10.34829445\n",
            "x-coordinate mean is:  -11.186044740676428\n",
            "x-coordinate median is:  -10.922770832754491\n",
            "x-coordinate variance is:  4.304589737933851\n",
            "x-coordinate standard deviation is:  2.074750524264026 \n",
            "\n",
            "y-coordinate minimum is:  -48.63291841\n",
            "y-coordinate maximun is:  -36.49335713\n",
            "y-coordinate mean is:  -37.24448358617738\n",
            "y-coordinate median is:  -37.06077748113637\n",
            "y-coordinate variance is:  2.1450068941275773\n",
            "y-coordinate standard deviation is:  1.4645842052021376\n"
          ],
          "name": "stdout"
        }
      ]
    },
    {
      "cell_type": "markdown",
      "metadata": {
        "id": "uKuqPlGcxS9P"
      },
      "source": [
        "# Creating m random landmarks"
      ]
    },
    {
      "cell_type": "code",
      "metadata": {
        "id": "XL3_QLuzQw6P"
      },
      "source": [
        "m = 20\n",
        "Q = np.ones((m,2))\n",
        "\n",
        "mu_x = -11.186\n",
        "sigma_x = 2.1\n",
        "Q[:,0] = np.random.normal(mu_x, sigma_x, m)\n",
        "\n",
        "mu_y = -37.244\n",
        "sigma_y = 1.46\n",
        "Q[:,1] = np.random.normal(mu_y, sigma_y, m)"
      ],
      "execution_count": null,
      "outputs": []
    },
    {
      "cell_type": "code",
      "metadata": {
        "id": "TF5X-9KnQw6R"
      },
      "source": [
        "df = pd.DataFrame(data={\"col1\": Q[:,0], \"col2\": Q[:,1]})\n",
        "df.to_csv(\"Q.csv\", sep=',',index=False)\n",
        "np.savetxt('/content/gdrive/My Drive/Research/Car-Bus/Q_Nov_23.csv', Q, delimiter=',')"
      ],
      "execution_count": null,
      "outputs": []
    },
    {
      "cell_type": "code",
      "metadata": {
        "id": "8ZB-FF0ryCBK"
      },
      "source": [
        "# Random Q of size 20 on November 23\n",
        "Q = np.array([[-11.51839252, -36.00167761],\n",
        "       [-13.82387038, -41.06091863],\n",
        "       [ -5.52315713, -37.39424807],\n",
        "       [-11.307905  , -37.68847429],\n",
        "       [-13.34456129, -36.62837387],\n",
        "       [-11.25127849, -38.96427889],\n",
        "       [ -9.70920127, -37.70032869],\n",
        "       [-10.84289516, -36.12955072],\n",
        "       [-13.29665413, -37.43363195],\n",
        "       [ -9.06848519, -37.87890405],\n",
        "       [-11.1337595 , -36.73167919],\n",
        "       [-11.15004646, -37.94099833],\n",
        "       [-11.76909718, -33.96734203],\n",
        "       [-11.29377414, -40.15240307],\n",
        "       [-11.38400841, -37.02645598],\n",
        "       [-10.64689404, -37.77147543],\n",
        "       [-11.20407876, -36.41339879],\n",
        "       [ -9.16302112, -37.81380282],\n",
        "       [-12.87662174, -38.41711695],\n",
        "       [-12.27654292, -38.37274434]])"
      ],
      "execution_count": null,
      "outputs": []
    },
    {
      "cell_type": "markdown",
      "metadata": {
        "id": "P4_zt-hNyEPn"
      },
      "source": [
        "# Our Feature Map"
      ]
    },
    {
      "cell_type": "code",
      "metadata": {
        "id": "hIIMDlKYQw6S"
      },
      "source": [
        "def fun(x):\n",
        "    if x >= 1: \n",
        "        y = 0\n",
        "    elif x <= -1:\n",
        "        y = math.pi\n",
        "    else: \n",
        "        y = np.arccos(x)\n",
        "    return y"
      ],
      "execution_count": null,
      "outputs": []
    },
    {
      "cell_type": "code",
      "metadata": {
        "id": "AGxkoxRRQw6V"
      },
      "source": [
        "def dist_signed_point_closed(Q, gamma, sigma): \n",
        "    \n",
        "    h = 10e-8\n",
        "    p1 = gamma[:-1]\n",
        "    p2 = gamma[1:]\n",
        "    L = np.sqrt(((p2-p1)*(p2-p1)).sum(axis =1))\n",
        "    II = np.where(L > h)[0]\n",
        "    p1 = p1[II]\n",
        "    p2 = p2[II]\n",
        "    gamma = np.array(list(p1) + [p2[-1]])\n",
        "    L = np.sqrt(((p2-p1)*(p2-p1)).sum(axis =1)) + h\n",
        "    \n",
        "    w = (p1-p2)*(-1,1)/(L * np.ones((2,1))).T\n",
        "    w[:,[0, 1]] = w[:,[1, 0]]\n",
        "    \n",
        "# signed distance to the extended lines of segments\n",
        "    dist_signed = np.sum(w * (Q.reshape(len(Q),1,2) - p1), axis=2)\n",
        "    x = dist_signed + 0\n",
        "    R = (L**2).reshape(-1,1)\n",
        "# u = argmin points on the extended lines of segments\n",
        "    u = p1 + ((((np.sum(((Q.reshape(len(Q),1,2) - p1) * (p2 - p1)),axis=2).reshape(len(Q)\n",
        "                ,-1,1,1) * (p2-p1).reshape(len(p2-p1),1,2))).reshape(len(Q),len(p1),2))/R)\n",
        "\n",
        "    G = np.sqrt(np.sum((u-p1)*(u-p1), axis=2))\n",
        "    H = np.sqrt(np.sum((u-p2)*(u-p2), axis=2))\n",
        "# d1 = distance to start points\n",
        "    d1 = np.sqrt(np.sum((Q.reshape(len(Q),1,2)-p1)*(Q.reshape(len(Q),1,2)-p1), axis=2))\n",
        "# d2 = distance to end points\n",
        "    d2 = np.sqrt(np.sum((Q.reshape(len(Q),1,2)-p2)*(Q.reshape(len(Q),1,2)-p2), axis=2))\n",
        "    d = np.where(d1 < d2, d1, d2)\n",
        "    dist_segment = np.where(abs(G + H - L) < np.ones(len(L)) * h, dist_signed, d)\n",
        "    \n",
        "    J2 = [0] * len(Q)\n",
        "    for i in range(len(Q)): \n",
        "        J2[i] = np.where(abs(G + H - L)[i] > h)[0]\n",
        "    J2 = np.array(J2)\n",
        "\n",
        "    dist_segment_copy = dist_segment.copy()\n",
        "    dist = abs(dist_segment_copy)\n",
        "\n",
        "\n",
        "    j = np.argmin(dist, axis =1)\n",
        "\n",
        "    sign = np.ones(len(Q))\n",
        "    for k in range(len(Q)): \n",
        "        if j[k] in J2[k]:\n",
        "            if j[k] == 0 and LA.norm(Q[k] - gamma[0]) < LA.norm(Q[k] - gamma[1]):\n",
        "                \n",
        "                y = LA.norm(gamma[0]-gamma[1]) - LA.norm(gamma[-1] - gamma[-2])\n",
        "                if y < 0:\n",
        "                    x = gamma[0] + 0.1 * LA.norm(gamma[0]-gamma[1])*(gamma[-2]-gamma[-1])/LA.norm(gamma[-2]-gamma[-1])\n",
        "                    z = gamma[0] + 0.1 * LA.norm(gamma[0]-gamma[1])*(gamma[1]-gamma[0])/LA.norm(gamma[1]-gamma[0])\n",
        "                    q = 2 * gamma[0] - (x + z)/2\n",
        "                else: \n",
        "                    x = gamma[0] + 0.1 * LA.norm(gamma[-1]-gamma[-2])*(gamma[1]-gamma[0])\n",
        "                    z = gamma[0] + 0.1 * LA.norm(gamma[-1]-gamma[-2])*(gamma[-2]-gamma[-1])\n",
        "                    q = 2 * gamma[0] - (x + z)/2\n",
        "                sign[k] = np.sign((q-gamma[-1]).dot(w[-1] + w[0]))\n",
        "                \n",
        "            elif j[k] == len(gamma)-2 and LA.norm(Q[k] - gamma[-1]) < LA.norm(Q[k] - gamma[-2]):\n",
        "                s = w[-1].dot((Q[k] - gamma[-1])/ LA.norm(Q[k] - gamma[-1]) + h)\n",
        "                sign[k] = np.sign(s)\n",
        "            \n",
        "            elif LA.norm(Q[k] - gamma[j[k]]) < LA.norm(Q[k] - gamma[j[k]+1]):  \n",
        "                q = 2 * gamma[j[k]] - (gamma[j[k]-1] + gamma[j[k]+1])/2\n",
        "                sign[k] = np.sign((q-gamma[j[k]]).dot(w[j[k]-1] + w[j[k]]))\n",
        "                    \n",
        "            elif LA.norm(Q[k] - gamma[j[k]+1]) <= LA.norm(Q[k] - gamma[j[k]]):\n",
        "                q = 2 * gamma[j[k]+1] - (gamma[j[k]] + gamma[j[k]+2])/2\n",
        "                sign[k] = np.sign((q-gamma[j[k]+1]).dot(w[j[k]] + w[j[k]+1]))\n",
        "\n",
        "    E = dist_segment[np.arange(len(dist_segment)),j] \n",
        "    F = dist[np.arange(len(dist)),j] \n",
        "    dist_weighted = (1/sigma) * sign * (E.reshape(-1,1) * np.exp(-(F/sigma)**2).reshape(-1,1)).reshape(1,-1)\n",
        "\n",
        "    \n",
        "    u1 = u[np.arange(len(u)),j]\n",
        "    p11 = p1[j]\n",
        "    p22 = p2[j]\n",
        "    \n",
        "    L1 = np.sqrt(((p22-p11)*(p22-p11)).sum(axis =1)) + h\n",
        "    G1 = np.sqrt(np.sum((u1-p11)*(u1-p11), axis=1))\n",
        "    H1 = np.sqrt(np.sum((u1-p22)*(u1-p22), axis=1))\n",
        "    I1 = np.where(abs(G1 + H1 - L1) < np.ones(len(L1)) * h)[0]\n",
        "\n",
        "# d11 = distance to start points\n",
        "    d11 = np.sqrt(np.sum((Q-p11)*(Q-p11), axis=1)) #np.sqrt(np.sum((Q.reshape(len(Q),1,2)-p11)*(Q.reshape(len(Q),1,2)-p11), axis=2))\n",
        "# d22 = distance to end points\n",
        "    d22 = np.sqrt(np.sum((Q-p22)*(Q-p22), axis=1)) #np.sqrt(np.sum((Q.reshape(len(Q),1,2)-p22)*(Q.reshape(len(Q),1,2)-p22), axis=2))\n",
        "    dd = np.where(d11 < d22)[0]\n",
        "\n",
        "    u_argmin = [0] * len(Q)\n",
        "    for i in range(len(Q)):\n",
        "        if len(I1)>0: \n",
        "            if i in I1:\n",
        "                u_argmin[i] = u1[i]\n",
        "        elif len(dd)>0: \n",
        "            if i in dd:\n",
        "                u_argmin[i] = p1[i]\n",
        "        else:\n",
        "            u_argmin[i] = p2[i]\n",
        "            \n",
        "    u_argmin = np.array(u_argmin)\n",
        "    sign_correct = np.where(np.sign(dist_weighted) == 0, 1, np.sign(dist_weighted))\n",
        "\n",
        "    L2 = (np.sqrt(((Q - u_argmin)*(Q - u_argmin)).sum(axis =1)) + h).reshape(-1,1)\n",
        "    n_p_q = sign_correct.reshape(-1,1) * (Q - u_argmin)/L2\n",
        "    dot_n_p_q = (sign_correct.reshape(-1,1) * L2).reshape(len(Q))\n",
        "    dot_n_p_q_times_q_p = ((n_p_q * (Q - u_argmin)).sum(axis=1)).reshape(-1,1) * (Q -u_argmin)\n",
        "\n",
        "    return dist_weighted.reshape(len(Q)), n_p_q, dot_n_p_q_times_q_p, L2.reshape(len(Q))\n"
      ],
      "execution_count": null,
      "outputs": []
    },
    {
      "cell_type": "code",
      "metadata": {
        "id": "0_aTgmDPQw6W"
      },
      "source": [
        "def dist_signed_point_unclosed(Q, gamma, sigma): \n",
        "    \n",
        "    h = 10e-8\n",
        "    p1 = gamma[:-1]\n",
        "    p2 = gamma[1:]\n",
        "    L = np.sqrt(((p2-p1)*(p2-p1)).sum(axis =1)) \n",
        "    II = np.where(L > h)[0]\n",
        "    p1 = p1[II]\n",
        "    p2 = p2[II]\n",
        "    gamma = np.array(list(p1) + [p2[-1]]) # or use concatination \n",
        "    L = np.sqrt(((p2-p1)*(p2-p1)).sum(axis =1)) + h\n",
        "    w = (p1-p2)*(-1,1)/(L * np.ones((2,1))).T\n",
        "    w[:,[0, 1]] = w[:,[1, 0]]\n",
        "    \n",
        "# signed distance to the extended lines of segments\n",
        "    dist_signed = np.sum(w * (Q.reshape(len(Q),1,2) - p1), axis=2)\n",
        "    b = dist_signed + 0\n",
        "    x = abs(b)\n",
        "    R = (L**2).reshape(-1,1)\n",
        "\n",
        "# u = argmin points on the extended lines of segments\n",
        "    u = p1 + ((((np.sum(((Q.reshape(len(Q),1,2) - p1) * (p2 - p1)),axis=2).reshape(len(Q)\n",
        "                ,-1,1,1) * (p2-p1).reshape(len(p2-p1),1,2))).reshape(len(Q),len(p1),2))/R)\n",
        "\n",
        "    G = np.sqrt(np.sum((u-p1)*(u-p1), axis=2))\n",
        "    H = np.sqrt(np.sum((u-p2)*(u-p2), axis=2))\n",
        "# d1 = distance to start points\n",
        "    d1 = np.sqrt(np.sum((Q.reshape(len(Q),1,2)-p1)*(Q.reshape(len(Q),1,2)-p1), axis=2))\n",
        "# d2 = distance to end points\n",
        "    d2 = np.sqrt(np.sum((Q.reshape(len(Q),1,2)-p2)*(Q.reshape(len(Q),1,2)-p2), axis=2))\n",
        "    d = np.where(d1 < d2, d1, d2)\n",
        "\n",
        "    dist_segment = np.where(abs(G + H - L) < np.ones(len(L)) * 2*h, dist_signed, d)\n",
        "\n",
        "    J2 = [0] * len(Q)\n",
        "    for i in range(len(Q)): \n",
        "        J2[i] = np.where(abs(G + H - L)[i] > 2 * h)[0]\n",
        "    J2 = np.array(J2)\n",
        "    \n",
        "    dist_segment_copy = dist_segment + 0\n",
        "    dist = abs(dist_segment_copy)\n",
        "    \n",
        "    dist_from_start_1 = np.sqrt(((Q -p1[0])*(Q -p1[0])).sum(axis =1))\n",
        "    ds_1 = ((Q -p1[0])*w[0]).sum(axis =1)\n",
        "    dist_from_start = ds_1 * np.maximum(abs(ds_1), np.sqrt(dist_from_start_1**2 - ds_1**2 + \n",
        "                                                        h))/ (dist_from_start_1 + h)\n",
        "\n",
        "    dist_from_end_1 = np.sqrt(((Q -p2[-1])*(Q -p2[-1])).sum(axis =1))\n",
        "    de_1 = ((Q -p2[-1])* w[-1]).sum(axis =1)\n",
        "    dist_from_end = de_1 * np.maximum(abs(de_1), np.sqrt(dist_from_end_1**2 - \n",
        "                                                de_1**2 + h))/ (dist_from_end_1+ h)\n",
        "\n",
        "    dist_segment[:,0] = np.where(abs(dist[:,0]- dist_from_start_1)< h, \n",
        "                                 dist_from_start, dist_segment[:,0]) \n",
        "\n",
        "    dist_segment[:,-1] = np.where(abs(dist[:,-1]- dist_from_end_1)< h, \n",
        "                                  dist_from_end, dist_segment[:,-1]) \n",
        "\n",
        "    j = np.argmin(dist, axis =1)\n",
        "\n",
        "    sign = np.ones(len(Q))\n",
        "    for k in range(len(Q)): \n",
        "        if j[k] in J2[k]: \n",
        "            if j[k] == 0 and LA.norm(Q[k] - gamma[0]) < LA.norm(Q[k] - gamma[1]):\n",
        "                sign[k] = 1\n",
        "                \n",
        "            elif j[k] == len(gamma)-2 and LA.norm(Q[k] - gamma[j[k]+1]) < LA.norm(Q[k] - \n",
        "                                                                            gamma[j[k]]):\n",
        "                sign[k] = 1\n",
        "            \n",
        "            elif LA.norm(Q[k] - gamma[j[k]]) < LA.norm(Q[k] - gamma[j[k]+1]):  \n",
        "                q = 2 * gamma[j[k]] - (gamma[j[k]-1] + gamma[j[k]+1])/2\n",
        "                sign[k] = np.sign((q-gamma[j[k]]).dot(w[j[k]-1] + w[j[k]]))\n",
        "                    \n",
        "            elif LA.norm(Q[k] - gamma[j[k]+1]) <= LA.norm(Q[k] - gamma[j[k]]):\n",
        "                q = 2 * gamma[j[k]+1] - (gamma[j[k]] + gamma[j[k]+2])/2\n",
        "                sign[k] = np.sign((q-gamma[j[k]+1]).dot(w[j[k]] + w[j[k]+1]))\n",
        "    \n",
        "    E = dist_segment[np.arange(len(dist_segment)),j] \n",
        "    F = dist[np.arange(len(dist)),j] \n",
        "    dist_weighted = (1/sigma) * sign * (E.reshape(-1,1) *\n",
        "                        np.exp(-(F/sigma)**2).reshape(-1,1)).reshape(1,-1)\n",
        "\n",
        "    p11 = p1[j]\n",
        "    p22 = p2[j]\n",
        "    u1 = u[np.arange(len(u)),j]\n",
        "    \n",
        "    L1 = np.sqrt(((p22-p11)*(p22-p11)).sum(axis =1)) + h\n",
        "    G1 = np.sqrt(np.sum((u1-p11)*(u1-p11), axis=1))\n",
        "    H1 = np.sqrt(np.sum((u1-p22)*(u1-p22), axis=1))\n",
        "    I1 = np.where(abs(G1 + H1 - L1) < np.ones(len(L1)) * h)[0]\n",
        "\n",
        "# d11 = distance to start points\n",
        "    d11 = np.sqrt(np.sum((Q-p11)*(Q-p11), axis=1)) \n",
        "    d22 = np.sqrt(np.sum((Q-p22)*(Q-p22), axis=1)) \n",
        "    dd = np.where(d11 < d22)[0]\n",
        "    \n",
        "    u_argmin = [0] * len(Q)\n",
        "\n",
        "    for i in range(len(Q)):\n",
        "        if len(I1)>0: \n",
        "            if i in I1:\n",
        "                u_argmin[i] = u1[i]\n",
        "            elif len(dd)>0: \n",
        "                if i in dd:\n",
        "                    u_argmin[i] = p11[i]\n",
        "                else:\n",
        "                    u_argmin[i] = p22[i]\n",
        "            else:\n",
        "                u_argmin[i] = p22[i]    \n",
        "                \n",
        "        elif len(dd)>0: \n",
        "            if i in dd:\n",
        "                u_argmin[i] = p11[i]\n",
        "            else:\n",
        "                u_argmin[i] = p22[i]\n",
        "        else:\n",
        "            u_argmin[i] = p22[i]\n",
        "\n",
        "    u_argmin = np.array(u_argmin)\n",
        "    \n",
        "    sign_correct = np.where(np.sign(dist_weighted) == 0, 1, np.sign(dist_weighted))\n",
        "\n",
        "    L2 = (np.sqrt(((Q - u_argmin)*(Q - u_argmin)).sum(axis =1)) + h).reshape(-1,1)\n",
        "    n_p_q = sign_correct.reshape(-1,1) * (Q - u_argmin)/L2\n",
        "\n",
        "    dot_n_p_q_times_q_p = (sign_correct.reshape(-1,1) * L2) * (Q - u_argmin)\n",
        "\n",
        "    return dist_weighted.reshape(len(Q)), n_p_q, dot_n_p_q_times_q_p, L2.reshape(len(Q))"
      ],
      "execution_count": null,
      "outputs": []
    },
    {
      "cell_type": "code",
      "metadata": {
        "id": "yM5F7MVyQw6c"
      },
      "source": [
        "def dist_signed_point(Q, gamma, sigma):\n",
        "    \n",
        "    if LA.norm(gamma[0]-gamma[-1]) > 10e-6:\n",
        "        A = dist_signed_point_unclosed(Q, gamma, sigma)\n",
        "    else: \n",
        "        A = dist_signed_point_closed(Q, gamma, sigma)\n",
        "        \n",
        "    return A"
      ],
      "execution_count": null,
      "outputs": []
    },
    {
      "cell_type": "code",
      "metadata": {
        "id": "SdYsSHC7n8Id"
      },
      "source": [
        "sigma = 0.1 #1000"
      ],
      "execution_count": null,
      "outputs": []
    },
    {
      "cell_type": "code",
      "metadata": {
        "scrolled": true,
        "id": "JYqLVhdsQw6p",
        "colab": {
          "base_uri": "https://localhost:8080/"
        },
        "outputId": "d82a4544-8352-44c5-dfea-3a4f33ebbec7"
      },
      "source": [
        "projected_cars = [0] * num_cars # in R^20\n",
        "projected_buses = [0] * num_buses # in R^20\n",
        "\n",
        "Start_time = time.time()\n",
        "\n",
        "for i in range(num_cars):\n",
        "    projected_cars[i] = np.concatenate((dist_signed_point(Q,cars[i][0],sigma)[0],[1]), axis = 0)\n",
        "\n",
        "for i in range(num_buses):\n",
        "    projected_buses[i] = np.concatenate((dist_signed_point(Q,buses[i][0],sigma)[0],[-1]), axis = 0)\n",
        "    \n",
        "projected_cars = np.array(projected_cars)\n",
        "projected_buses = np.array(projected_buses)\n",
        "\n",
        "print('total time =', time.time() - Start_time)"
      ],
      "execution_count": null,
      "outputs": [
        {
          "output_type": "stream",
          "text": [
            "total time = 0.4367692470550537\n"
          ],
          "name": "stdout"
        }
      ]
    },
    {
      "cell_type": "code",
      "metadata": {
        "id": "WFV3Z2eWQw6q",
        "colab": {
          "base_uri": "https://localhost:8080/",
          "height": 278
        },
        "outputId": "707f2209-d6d4-49b1-e011-f29ab44bc6ed"
      },
      "source": [
        "x = projected_cars[:,0]\n",
        "y = projected_cars[:,1]\n",
        "\n",
        "u = projected_buses[:,0]\n",
        "v = projected_buses[:,1]\n",
        "\n",
        "plt.scatter(x, y, color= 'red')\n",
        "plt.scatter(u, v, color= 'blue')\n",
        "plt.show()"
      ],
      "execution_count": null,
      "outputs": [
        {
          "output_type": "display_data",
          "data": {
            "image/png": "[encoded data removed]",
            "text/plain": [
              "<Figure size 432x288 with 1 Axes>"
            ]
          },
          "metadata": {
            "tags": [],
            "needs_background": "light"
          }
        }
      ]
    },
    {
      "cell_type": "markdown",
      "metadata": {
        "id": "PrCf0hjQyS2O"
      },
      "source": [
        "# Classifiers"
      ]
    },
    {
      "cell_type": "code",
      "metadata": {
        "id": "KG-_oFajaw6w"
      },
      "source": [
        "clf0 = KNeighborsClassifier(n_neighbors=5)\n",
        "clf1 = svm.SVC(kernel='linear')\n",
        "clf2 = make_pipeline(StandardScaler(), svm.SVC(C= 10000, kernel = 'rbf', gamma= 'auto', max_iter = 200000))\n",
        "clf3 = make_pipeline(StandardScaler(), svm.SVC(C= 1000, kernel = 'rbf', gamma= 'auto', max_iter = 200000))\n",
        "clf4 = make_pipeline(StandardScaler(), svm.SVC(C= 100, kernel = 'rbf', gamma= 'auto', max_iter = 200000))\n",
        "clf5 = make_pipeline(StandardScaler(), svm.SVC(C=10000, kernel = 'poly', degree =3, max_iter = 400000))\n",
        "clf6 = make_pipeline(StandardScaler(), svm.SVC(C=10000, kernel = 'poly', degree =2, max_iter = 400000))\n",
        "clf7 = DecisionTreeClassifier()\n",
        "clf8 = DecisionTreeClassifier(max_depth= 4)\n",
        "clf9 = DecisionTreeClassifier(max_depth= 5)\n",
        "clf10 = RandomForestClassifier(n_estimators=100)\n",
        "clf11 = RandomForestClassifier(n_estimators=100, max_depth=5)\n",
        "clf12 = RandomForestClassifier(n_estimators=100, max_depth=6)\n",
        "clf13 = RandomForestClassifier(n_estimators=100, max_depth=7)\n",
        "clf14 = RandomForestClassifier(n_estimators=100, criterion='entropy')\n",
        "clf15 = RandomForestClassifier(n_estimators=100, criterion='entropy', max_depth=5)\n",
        "clf16 = RandomForestClassifier(n_estimators=100, criterion='entropy', max_depth=6)\n",
        "clf17 = RandomForestClassifier(n_estimators=100, criterion='entropy', max_depth=7)\n",
        "clf18 = AdaBoostClassifier(n_estimators= 100)\n",
        "clf19 = AdaBoostClassifier(n_estimators= 100,learning_rate=0.8)\n",
        "clf20 = AdaBoostClassifier(n_estimators= 100,learning_rate=1.1)\n",
        "\n",
        "clf = [clf0,clf1,clf2,clf3,clf4,clf5,clf6,clf7,clf8,clf9,clf10,clf11,clf12,\n",
        "       clf13,clf14,clf15,clf16,clf17,clf18,clf19,clf20]"
      ],
      "execution_count": null,
      "outputs": []
    },
    {
      "cell_type": "code",
      "metadata": {
        "id": "Eft4Tph-cH97",
        "colab": {
          "base_uri": "https://localhost:8080/"
        },
        "outputId": "4318b7c2-7950-42a4-ea9f-3d2aa13e8ecd"
      },
      "source": [
        "Start_time = time.time()\n",
        "\n",
        "X_1 = projected_cars\n",
        "X_2 = projected_buses\n",
        "\n",
        "t = 1000\n",
        "\n",
        "error_train = np.zeros((len(clf), t))\n",
        "error_test = np.zeros((len(clf), t))\n",
        "\n",
        "for i in range(t): \n",
        "\n",
        "    R1 = random.sample(range(78), 23)\n",
        "    R = np.sort(R1)\n",
        "    R_c = np.sort(list(set(range(78)) - set(R)))\n",
        "    \n",
        "    S1 = random.sample(range(45), 13)\n",
        "    S = np.sort(S1)\n",
        "    S_c = np.sort(list(set(range(45)) - set(S)))\n",
        "    \n",
        "    data_train = np.insert(X_1[R_c], len(X_1[R_c]), X_2[S_c], axis = 0)\n",
        "    data_test = np.insert(X_1[R], len(X_1[R]), X_2[S], axis = 0)    \n",
        "    \n",
        "    data_train = list(data_train)\n",
        "    data_test = list(data_test)\n",
        "    random.shuffle(data_train)\n",
        "    random.shuffle(data_test)\n",
        "    data_train = np.array(data_train)\n",
        "    data_test = np.array(data_test)\n",
        "    \n",
        "    for k in range(len(clf)):\n",
        "        \n",
        "        model = clf[k]\n",
        "        #Train the model using the training sets\n",
        "        model.fit(data_train[:,:-1], data_train[:,-1])\n",
        "\n",
        "        #Predict the response for test dataset\n",
        "        y_pred = model.predict(data_test[:,:-1])\n",
        "        error_test[k][i] = 1 - metrics.accuracy_score(data_test[:,-1], y_pred)\n",
        "        \n",
        "        x_pred = model.predict(data_train[:,:-1])\n",
        "        error_train[k][i] = 1 - metrics.accuracy_score(data_train[:,-1], x_pred)\n",
        "    if i in [100,200,300,400,500,600,700,800,900]:\n",
        "      print(i, \"passed\")    \n",
        "print('total time =', time.time() - Start_time)"
      ],
      "execution_count": null,
      "outputs": [
        {
          "output_type": "stream",
          "text": [
            "100 passed\n",
            "200 passed\n",
            "300 passed\n",
            "400 passed\n",
            "500 passed\n",
            "600 passed\n",
            "700 passed\n",
            "800 passed\n",
            "900 passed\n",
            "total time = 31.458988428115845\n"
          ],
          "name": "stdout"
        }
      ]
    },
    {
      "cell_type": "code",
      "metadata": {
        "colab": {
          "base_uri": "https://localhost:8080/",
          "height": 212
        },
        "id": "nxw5wwbAr8RK",
        "outputId": "956568f6-00d6-446c-e136-880bd6c060b4"
      },
      "source": [
        "print(\"November 23,\", '|Q|=20,', 'New distance,', 'sigma=', sigma,',', \"t=\", t)\n",
        "\n",
        "Dic = {}\n",
        "\n",
        "models = [\"Gaussian SVM, C=1, gamma= auto\", \n",
        "          \"Gaussian SVM, C = 10, gamma = auto\", \"Gaussian SVM, C = 100, gamma = auto\",\n",
        "          \"Poly kernel SVM, deg=3\", \"Poly kernel SVM, deg=2, C=100\"]\n",
        "\n",
        "for k in range(len(models)): \n",
        "    Dic[k+1] = [models[k], np.round(np.mean(error_train[k]), decimals = 4), \n",
        "                np.round(np.mean(error_test[k]), decimals = 4),\n",
        "               np.round(np.std(error_test[k]), decimals = 4)]\n",
        "    \n",
        "pd.DataFrame.from_dict(Dic, orient='index', columns=['Classifier','Train Error', 'Test Error', \n",
        "                                                     'Standard Deviation'])"
      ],
      "execution_count": null,
      "outputs": [
        {
          "output_type": "stream",
          "text": [
            "November 23, |Q|=20, New distance, sigma= 0.1 , t= 1000\n"
          ],
          "name": "stdout"
        },
        {
          "output_type": "execute_result",
          "data": {
            "text/html": [
              "<div>\n",
              "<style scoped>\n",
              "    .dataframe tbody tr th:only-of-type {\n",
              "        vertical-align: middle;\n",
              "    }\n",
              "\n",
              "    .dataframe tbody tr th {\n",
              "        vertical-align: top;\n",
              "    }\n",
              "\n",
              "    .dataframe thead th {\n",
              "        text-align: right;\n",
              "    }\n",
              "</style>\n",
              "<table border=\"1\" class=\"dataframe\">\n",
              "  <thead>\n",
              "    <tr style=\"text-align: right;\">\n",
              "      <th></th>\n",
              "      <th>Classifier</th>\n",
              "      <th>Train Error</th>\n",
              "      <th>Test Error</th>\n",
              "      <th>Standard Deviation</th>\n",
              "    </tr>\n",
              "  </thead>\n",
              "  <tbody>\n",
              "    <tr>\n",
              "      <th>1</th>\n",
              "      <td>Gaussian SVM, C=1, gamma= auto</td>\n",
              "      <td>0.1039</td>\n",
              "      <td>0.2246</td>\n",
              "      <td>0.0588</td>\n",
              "    </tr>\n",
              "    <tr>\n",
              "      <th>2</th>\n",
              "      <td>Gaussian SVM, C = 10, gamma = auto</td>\n",
              "      <td>0.1306</td>\n",
              "      <td>0.2301</td>\n",
              "      <td>0.0567</td>\n",
              "    </tr>\n",
              "    <tr>\n",
              "      <th>3</th>\n",
              "      <td>Gaussian SVM, C = 100, gamma = auto</td>\n",
              "      <td>0.1432</td>\n",
              "      <td>0.2439</td>\n",
              "      <td>0.0565</td>\n",
              "    </tr>\n",
              "    <tr>\n",
              "      <th>4</th>\n",
              "      <td>Poly kernel SVM, deg=3</td>\n",
              "      <td>0.1170</td>\n",
              "      <td>0.2453</td>\n",
              "      <td>0.0554</td>\n",
              "    </tr>\n",
              "    <tr>\n",
              "      <th>5</th>\n",
              "      <td>Poly kernel SVM, deg=2, C=100</td>\n",
              "      <td>0.1197</td>\n",
              "      <td>0.2317</td>\n",
              "      <td>0.0587</td>\n",
              "    </tr>\n",
              "  </tbody>\n",
              "</table>\n",
              "</div>"
            ],
            "text/plain": [
              "                            Classifier  ...  Standard Deviation\n",
              "1       Gaussian SVM, C=1, gamma= auto  ...              0.0588\n",
              "2   Gaussian SVM, C = 10, gamma = auto  ...              0.0567\n",
              "3  Gaussian SVM, C = 100, gamma = auto  ...              0.0565\n",
              "4               Poly kernel SVM, deg=3  ...              0.0554\n",
              "5        Poly kernel SVM, deg=2, C=100  ...              0.0587\n",
              "\n",
              "[5 rows x 4 columns]"
            ]
          },
          "metadata": {
            "tags": []
          },
          "execution_count": 217
        }
      ]
    },
    {
      "cell_type": "code",
      "metadata": {
        "colab": {
          "base_uri": "https://localhost:8080/",
          "height": 686
        },
        "id": "_RuJZs-Ij0bt",
        "outputId": "1a88ad43-c44d-42b5-f4f9-43549e628c26"
      },
      "source": [
        "print(\"November 23,\", '|Q|=20,', 'New distance,', 'sigma=', sigma,',', \"t=\", t)\n",
        "\n",
        "Dic = {}\n",
        "\n",
        "models = [\"KNN\", \"Linear kernel SVM\", \"Gaussian SVM, C=1, gamma= auto\", \n",
        "          \"Gaussian SVM, C = 10, gamma = auto\", \"Gaussian SVM, C = 100, gamma = auto\",\n",
        "          \"Poly kernel SVM, deg=3\", \"Poly kernel SVM, deg=2, C=100\", \n",
        "          \"Decision Tree\", \"Decision Tree, depth=4\", \"Decision Tree, depth=5\",\n",
        "          'RF, gini, 100 estimators', \n",
        "          'RF, gini, max_depth=5, 100 estimators',\n",
        "          'RF, gini, max_depth=6, 100 estimators',\n",
        "          'RF, gini, max_depth=7, 100 estimators', \n",
        "          'RF, entropy, 100 estimators',\n",
        "          'RF, entropy, max_depth=5, 100 estimators',\n",
        "          'RF, entropy, max_depth=6, 100 estimators', \n",
        "          'RF, entropy, max_depth=7, 100 estimators', \n",
        "          'AdaBoost, 100 estimators',\n",
        "          'AdaBoost, learning rate=0.8, 100 estimators',\n",
        "          'AdaBoost, learning rate=1.1, 100 estimators']\n",
        "\n",
        "for k in range(len(models)): \n",
        "    Dic[k+1] = [models[k], np.round(np.mean(error_train[k]), decimals = 4), \n",
        "                np.round(np.mean(error_test[k]), decimals = 4),\n",
        "               np.round(np.std(error_test[k]), decimals = 4)]\n",
        "    \n",
        "pd.DataFrame.from_dict(Dic, orient='index', columns=['Classifier','Train Error', 'Test Error', \n",
        "                                                     'Standard Deviation'])"
      ],
      "execution_count": null,
      "outputs": [
        {
          "output_type": "stream",
          "text": [
            "November 23, |Q|=20, New distance, sigma= 1000 , t= 1000\n"
          ],
          "name": "stdout"
        },
        {
          "output_type": "execute_result",
          "data": {
            "text/html": [
              "<div>\n",
              "<style scoped>\n",
              "    .dataframe tbody tr th:only-of-type {\n",
              "        vertical-align: middle;\n",
              "    }\n",
              "\n",
              "    .dataframe tbody tr th {\n",
              "        vertical-align: top;\n",
              "    }\n",
              "\n",
              "    .dataframe thead th {\n",
              "        text-align: right;\n",
              "    }\n",
              "</style>\n",
              "<table border=\"1\" class=\"dataframe\">\n",
              "  <thead>\n",
              "    <tr style=\"text-align: right;\">\n",
              "      <th></th>\n",
              "      <th>Classifier</th>\n",
              "      <th>Train Error</th>\n",
              "      <th>Test Error</th>\n",
              "      <th>Standard Deviation</th>\n",
              "    </tr>\n",
              "  </thead>\n",
              "  <tbody>\n",
              "    <tr>\n",
              "      <th>1</th>\n",
              "      <td>KNN</td>\n",
              "      <td>0.2553</td>\n",
              "      <td>0.3866</td>\n",
              "      <td>0.0688</td>\n",
              "    </tr>\n",
              "    <tr>\n",
              "      <th>2</th>\n",
              "      <td>Linear kernel SVM</td>\n",
              "      <td>0.3678</td>\n",
              "      <td>0.3611</td>\n",
              "      <td>0.0000</td>\n",
              "    </tr>\n",
              "    <tr>\n",
              "      <th>3</th>\n",
              "      <td>Gaussian SVM, C=1, gamma= auto</td>\n",
              "      <td>0.0000</td>\n",
              "      <td>0.2764</td>\n",
              "      <td>0.0732</td>\n",
              "    </tr>\n",
              "    <tr>\n",
              "      <th>4</th>\n",
              "      <td>Gaussian SVM, C = 10, gamma = auto</td>\n",
              "      <td>0.0025</td>\n",
              "      <td>0.2827</td>\n",
              "      <td>0.0721</td>\n",
              "    </tr>\n",
              "    <tr>\n",
              "      <th>5</th>\n",
              "      <td>Gaussian SVM, C = 100, gamma = auto</td>\n",
              "      <td>0.0372</td>\n",
              "      <td>0.2894</td>\n",
              "      <td>0.0719</td>\n",
              "    </tr>\n",
              "    <tr>\n",
              "      <th>6</th>\n",
              "      <td>Poly kernel SVM, deg=3</td>\n",
              "      <td>0.0002</td>\n",
              "      <td>0.3994</td>\n",
              "      <td>0.0779</td>\n",
              "    </tr>\n",
              "    <tr>\n",
              "      <th>7</th>\n",
              "      <td>Poly kernel SVM, deg=2, C=100</td>\n",
              "      <td>0.0004</td>\n",
              "      <td>0.3083</td>\n",
              "      <td>0.0751</td>\n",
              "    </tr>\n",
              "    <tr>\n",
              "      <th>8</th>\n",
              "      <td>Decision Tree</td>\n",
              "      <td>0.0000</td>\n",
              "      <td>0.2299</td>\n",
              "      <td>0.0715</td>\n",
              "    </tr>\n",
              "    <tr>\n",
              "      <th>9</th>\n",
              "      <td>Decision Tree, depth=4</td>\n",
              "      <td>0.0829</td>\n",
              "      <td>0.2702</td>\n",
              "      <td>0.0697</td>\n",
              "    </tr>\n",
              "    <tr>\n",
              "      <th>10</th>\n",
              "      <td>Decision Tree, depth=5</td>\n",
              "      <td>0.0443</td>\n",
              "      <td>0.2502</td>\n",
              "      <td>0.0706</td>\n",
              "    </tr>\n",
              "    <tr>\n",
              "      <th>11</th>\n",
              "      <td>RF, gini, 100 estimators</td>\n",
              "      <td>0.0000</td>\n",
              "      <td>0.1635</td>\n",
              "      <td>0.0582</td>\n",
              "    </tr>\n",
              "    <tr>\n",
              "      <th>12</th>\n",
              "      <td>RF, gini, max_depth=5, 100 estimators</td>\n",
              "      <td>0.0154</td>\n",
              "      <td>0.1624</td>\n",
              "      <td>0.0593</td>\n",
              "    </tr>\n",
              "    <tr>\n",
              "      <th>13</th>\n",
              "      <td>RF, gini, max_depth=6, 100 estimators</td>\n",
              "      <td>0.0088</td>\n",
              "      <td>0.1620</td>\n",
              "      <td>0.0577</td>\n",
              "    </tr>\n",
              "    <tr>\n",
              "      <th>14</th>\n",
              "      <td>RF, gini, max_depth=7, 100 estimators</td>\n",
              "      <td>0.0011</td>\n",
              "      <td>0.1641</td>\n",
              "      <td>0.0579</td>\n",
              "    </tr>\n",
              "    <tr>\n",
              "      <th>15</th>\n",
              "      <td>RF, entropy, 100 estimators</td>\n",
              "      <td>0.0000</td>\n",
              "      <td>0.1603</td>\n",
              "      <td>0.0570</td>\n",
              "    </tr>\n",
              "    <tr>\n",
              "      <th>16</th>\n",
              "      <td>RF, entropy, max_depth=5, 100 estimators</td>\n",
              "      <td>0.0177</td>\n",
              "      <td>0.1588</td>\n",
              "      <td>0.0571</td>\n",
              "    </tr>\n",
              "    <tr>\n",
              "      <th>17</th>\n",
              "      <td>RF, entropy, max_depth=6, 100 estimators</td>\n",
              "      <td>0.0107</td>\n",
              "      <td>0.1575</td>\n",
              "      <td>0.0570</td>\n",
              "    </tr>\n",
              "    <tr>\n",
              "      <th>18</th>\n",
              "      <td>RF, entropy, max_depth=7, 100 estimators</td>\n",
              "      <td>0.0022</td>\n",
              "      <td>0.1567</td>\n",
              "      <td>0.0559</td>\n",
              "    </tr>\n",
              "    <tr>\n",
              "      <th>19</th>\n",
              "      <td>AdaBoost, 100 estimators</td>\n",
              "      <td>0.0000</td>\n",
              "      <td>0.1855</td>\n",
              "      <td>0.0621</td>\n",
              "    </tr>\n",
              "    <tr>\n",
              "      <th>20</th>\n",
              "      <td>AdaBoost, learning rate=0.8, 100 estimators</td>\n",
              "      <td>0.0000</td>\n",
              "      <td>0.1875</td>\n",
              "      <td>0.0603</td>\n",
              "    </tr>\n",
              "    <tr>\n",
              "      <th>21</th>\n",
              "      <td>AdaBoost, learning rate=1.1, 100 estimators</td>\n",
              "      <td>0.0000</td>\n",
              "      <td>0.1810</td>\n",
              "      <td>0.0618</td>\n",
              "    </tr>\n",
              "  </tbody>\n",
              "</table>\n",
              "</div>"
            ],
            "text/plain": [
              "                                     Classifier  ...  Standard Deviation\n",
              "1                                           KNN  ...              0.0688\n",
              "2                             Linear kernel SVM  ...              0.0000\n",
              "3                Gaussian SVM, C=1, gamma= auto  ...              0.0732\n",
              "4            Gaussian SVM, C = 10, gamma = auto  ...              0.0721\n",
              "5           Gaussian SVM, C = 100, gamma = auto  ...              0.0719\n",
              "6                        Poly kernel SVM, deg=3  ...              0.0779\n",
              "7                 Poly kernel SVM, deg=2, C=100  ...              0.0751\n",
              "8                                 Decision Tree  ...              0.0715\n",
              "9                        Decision Tree, depth=4  ...              0.0697\n",
              "10                       Decision Tree, depth=5  ...              0.0706\n",
              "11                     RF, gini, 100 estimators  ...              0.0582\n",
              "12        RF, gini, max_depth=5, 100 estimators  ...              0.0593\n",
              "13        RF, gini, max_depth=6, 100 estimators  ...              0.0577\n",
              "14        RF, gini, max_depth=7, 100 estimators  ...              0.0579\n",
              "15                  RF, entropy, 100 estimators  ...              0.0570\n",
              "16     RF, entropy, max_depth=5, 100 estimators  ...              0.0571\n",
              "17     RF, entropy, max_depth=6, 100 estimators  ...              0.0570\n",
              "18     RF, entropy, max_depth=7, 100 estimators  ...              0.0559\n",
              "19                     AdaBoost, 100 estimators  ...              0.0621\n",
              "20  AdaBoost, learning rate=0.8, 100 estimators  ...              0.0603\n",
              "21  AdaBoost, learning rate=1.1, 100 estimators  ...              0.0618\n",
              "\n",
              "[21 rows x 4 columns]"
            ]
          },
          "metadata": {
            "tags": []
          },
          "execution_count": 201
        }
      ]
    },
    {
      "cell_type": "markdown",
      "metadata": {
        "id": "LK-zLQRmGCnz"
      },
      "source": [
        "#Old Distance"
      ]
    },
    {
      "cell_type": "code",
      "metadata": {
        "id": "qwPmYYMZuyRN"
      },
      "source": [
        "def old_dist(Q, gamma):\n",
        "    \n",
        "    p2 = gamma[1:]\n",
        "    p1 = gamma[:-1]\n",
        "    L = np.sqrt(((p2-p1)*(p2-p1)).sum(axis =1))\n",
        "    II = np.where(L>10e-8)[0]\n",
        "    L = L[II]\n",
        "    p1 = p1[II]\n",
        "    p2 = p2[II]\n",
        "    w = (p1-p2)*(-1,1)/(L*np.ones((2,1))).T\n",
        "    w[:,[0, 1]] = w[:,[1, 0]]\n",
        "    \n",
        "    dist_dot = np.sum(w * (Q.reshape(len(Q),1,2) - p1), axis=2)\n",
        "    \n",
        "    x = abs(dist_dot.copy())\n",
        "    R = (L**2).reshape(-1,1)\n",
        "    u = p1 + ((((np.sum(((Q.reshape(len(Q),1,2) - p1) * (p2 - p1)),axis=2).reshape(len(Q)\n",
        "                ,-1,1,1) * (p2-p1).reshape(len(p2-p1),1,2))).reshape(len(Q),len(p1),2))/R)\n",
        "    \n",
        "    G = np.sqrt(np.sum((u-p1)*(u-p1), axis=2))\n",
        "    H = np.sqrt(np.sum((u-p2)*(u-p2), axis=2))\n",
        "    d1 = np.sqrt(np.sum((Q.reshape(len(Q),1,2)-p1)*(Q.reshape(len(Q),1,2)-p1), axis=2))\n",
        "    d2 = np.sqrt(np.sum((Q.reshape(len(Q),1,2)-p2)*(Q.reshape(len(Q),1,2)-p2), axis=2))\n",
        "\n",
        "    dist = np.where(abs(G + H - L) < np.ones(len(L)) * (10e-8), x, np.minimum(d1, d2))\n",
        "\n",
        "    j = np.argmin(dist, axis =1)\n",
        "    dist_weighted = dist[np.arange(len(dist)),j]\n",
        "    \n",
        "    return dist_weighted.reshape(len(Q)) "
      ],
      "execution_count": null,
      "outputs": []
    },
    {
      "cell_type": "code",
      "metadata": {
        "id": "jTVtr7yTu0Vm",
        "colab": {
          "base_uri": "https://localhost:8080/"
        },
        "outputId": "10e22bd8-6d49-4306-e038-816e15b77826"
      },
      "source": [
        "projected_cars_old = [0] * num_cars # in R^20\n",
        "projected_buses_old = [0] * num_buses # in R^20\n",
        "\n",
        "Start_time = time.time()\n",
        "\n",
        "for i in range(num_cars):\n",
        "    projected_cars_old[i] = np.concatenate((old_dist(Q,cars[i][0]),[1]), axis = 0)\n",
        "\n",
        "for i in range(num_buses):\n",
        "    projected_buses_old[i] = np.concatenate((old_dist(Q,buses[i][0]),[-1]), axis = 0)\n",
        "    \n",
        "projected_cars_old = np.array(projected_cars)\n",
        "projected_buses_old = np.array(projected_buses)\n",
        "\n",
        "print('total time =', time.time() - Start_time)"
      ],
      "execution_count": null,
      "outputs": [
        {
          "output_type": "stream",
          "text": [
            "total time = 0.11919474601745605\n"
          ],
          "name": "stdout"
        }
      ]
    },
    {
      "cell_type": "code",
      "metadata": {
        "colab": {
          "base_uri": "https://localhost:8080/",
          "height": 265
        },
        "id": "60ygy4d3J_0K",
        "outputId": "63e07d17-34a4-4966-fa85-1d68e5674293"
      },
      "source": [
        "x = projected_cars_old[:,0]\n",
        "y = projected_cars_old[:,1]\n",
        "\n",
        "u = projected_buses_old[:,0]\n",
        "v = projected_buses_old[:,1]\n",
        "\n",
        "plt.scatter(x, y, color= 'red')\n",
        "plt.scatter(u, v, color= 'blue')\n",
        "plt.show()"
      ],
      "execution_count": null,
      "outputs": [
        {
          "output_type": "display_data",
          "data": {
            "image/png": "[encoded data removed]",
            "text/plain": [
              "<Figure size 432x288 with 1 Axes>"
            ]
          },
          "metadata": {
            "tags": [],
            "needs_background": "light"
          }
        }
      ]
    },
    {
      "cell_type": "code",
      "metadata": {
        "id": "VC-iXkuYu0xU",
        "colab": {
          "base_uri": "https://localhost:8080/"
        },
        "outputId": "7d7170ae-4c42-48b4-a109-30f948a35550"
      },
      "source": [
        "X_11 = projected_cars_old\n",
        "X_22 = projected_buses_old\n",
        "\n",
        "Start_time = time.time()\n",
        "\n",
        "t = 1000\n",
        "\n",
        "error_train = np.zeros((len(clf), t))\n",
        "error_test = np.zeros((len(clf), t))\n",
        "\n",
        "for i in range(t): \n",
        "\n",
        "    R1 = random.sample(range(78), 23)\n",
        "    R = np.sort(R1)\n",
        "    R_c = np.sort(list(set(range(78)) - set(R)))\n",
        "    \n",
        "    S1 = random.sample(range(45), 13)\n",
        "    S = np.sort(S1)\n",
        "    S_c = np.sort(list(set(range(45)) - set(S)))\n",
        "    \n",
        "    data_train = np.insert(X_11[R_c], len(X_11[R_c]), X_22[S_c], axis = 0)\n",
        "    data_test = np.insert(X_11[R], len(X_11[R]), X_22[S], axis = 0)    \n",
        "    \n",
        "    data_train = list(data_train)\n",
        "    data_test = list(data_test)\n",
        "    random.shuffle(data_train)\n",
        "    random.shuffle(data_test)\n",
        "    data_train = np.array(data_train)\n",
        "    data_test = np.array(data_test)\n",
        "    \n",
        "    for k in range(len(clf)):\n",
        "        \n",
        "        model = clf[k]\n",
        "        #Train the model using the training sets\n",
        "        model.fit(data_train[:,:-1], data_train[:,-1])\n",
        "\n",
        "        #Predict the response for test dataset\n",
        "        y_pred = model.predict(data_test[:,:-1])\n",
        "        error_test[k][i] = 1 - metrics.accuracy_score(data_test[:,-1], y_pred)\n",
        "        \n",
        "        x_pred = model.predict(data_train[:,:-1])\n",
        "        error_train[k][i] = 1 - metrics.accuracy_score(data_train[:,-1], x_pred)\n",
        "        \n",
        "print('total time =', time.time() - Start_time)"
      ],
      "execution_count": null,
      "outputs": [
        {
          "output_type": "stream",
          "text": [
            "/usr/local/lib/python3.6/dist-packages/sklearn/svm/_base.py:231: ConvergenceWarning: Solver terminated early (max_iter=400000).  Consider pre-processing your data with StandardScaler or MinMaxScaler.\n",
            "  % self.max_iter, ConvergenceWarning)\n"
          ],
          "name": "stderr"
        },
        {
          "output_type": "stream",
          "text": [
            "total time = 13.54808759689331\n"
          ],
          "name": "stdout"
        }
      ]
    },
    {
      "cell_type": "code",
      "metadata": {
        "colab": {
          "base_uri": "https://localhost:8080/",
          "height": 686
        },
        "id": "i36R7YS8Yw9O",
        "outputId": "95e1cd91-f83d-429d-d9b8-cf7680b4dc8c"
      },
      "source": [
        "print(\"November 23,\", '|Q|=20,', 'Old Distance,', \"t=\", t)\n",
        "\n",
        "Dic = {}\n",
        "\n",
        "models = [\"KNN\", \"Linear kernel SVM\", \"Gaussian SVM, C=10000, gamma= auto\", \n",
        "          \"Gaussian SVM, C = 1000, gamma = auto\", \"Gaussian SVM, C = 100, gamma = auto\",\n",
        "          \"Poly kernel SVM, deg=3, C=10000\", \"Poly kernel SVM, deg=2, C=10000\", \n",
        "          \"Decision Tree\", \"Decision Tree, depth=4\", \"Decision Tree, depth=5\",\n",
        "          'RF, gini, 100 estimators', \n",
        "          'RF, gini, max_depth=5, 100 estimators',\n",
        "          'RF, gini, max_depth=6, 100 estimators',\n",
        "          'RF, gini, max_depth=7, 100 estimators', \n",
        "          'RF, entropy, 100 estimators',\n",
        "          'RF, entropy, max_depth=5, 100 estimators',\n",
        "          'RF, entropy, max_depth=6, 100 estimators', \n",
        "          'RF, entropy, max_depth=7, 100 estimators', \n",
        "          'AdaBoost, 100 estimators',\n",
        "          'AdaBoost, learning rate=0.8, 100 estimators',\n",
        "          'AdaBoost, learning rate=1.1, 100 estimators']\n",
        "\n",
        "for k in range(len(models)): \n",
        "    Dic[k+1] = [models[k], np.round(np.mean(error_train[k]), decimals = 4), \n",
        "                np.round(np.mean(error_test[k]), decimals = 4),\n",
        "               np.round(np.std(error_test[k]), decimals = 4)]\n",
        "    \n",
        "pd.DataFrame.from_dict(Dic, orient='index', columns=['Classifier','Train Error', 'Test Error', \n",
        "                                                     'Standard Deviation'])"
      ],
      "execution_count": null,
      "outputs": [
        {
          "output_type": "stream",
          "text": [
            "November 23, |Q|=20, Old Distance, t= 1000\n"
          ],
          "name": "stdout"
        },
        {
          "output_type": "execute_result",
          "data": {
            "text/html": [
              "<div>\n",
              "<style scoped>\n",
              "    .dataframe tbody tr th:only-of-type {\n",
              "        vertical-align: middle;\n",
              "    }\n",
              "\n",
              "    .dataframe tbody tr th {\n",
              "        vertical-align: top;\n",
              "    }\n",
              "\n",
              "    .dataframe thead th {\n",
              "        text-align: right;\n",
              "    }\n",
              "</style>\n",
              "<table border=\"1\" class=\"dataframe\">\n",
              "  <thead>\n",
              "    <tr style=\"text-align: right;\">\n",
              "      <th></th>\n",
              "      <th>Classifier</th>\n",
              "      <th>Train Error</th>\n",
              "      <th>Test Error</th>\n",
              "      <th>Standard Deviation</th>\n",
              "    </tr>\n",
              "  </thead>\n",
              "  <tbody>\n",
              "    <tr>\n",
              "      <th>1</th>\n",
              "      <td>KNN</td>\n",
              "      <td>0.2392</td>\n",
              "      <td>0.3443</td>\n",
              "      <td>0.0667</td>\n",
              "    </tr>\n",
              "    <tr>\n",
              "      <th>2</th>\n",
              "      <td>Linear kernel SVM</td>\n",
              "      <td>0.3678</td>\n",
              "      <td>0.3611</td>\n",
              "      <td>0.0000</td>\n",
              "    </tr>\n",
              "    <tr>\n",
              "      <th>3</th>\n",
              "      <td>Gaussian SVM, C=10000, gamma= auto</td>\n",
              "      <td>0.0934</td>\n",
              "      <td>0.3017</td>\n",
              "      <td>0.0640</td>\n",
              "    </tr>\n",
              "    <tr>\n",
              "      <th>4</th>\n",
              "      <td>Gaussian SVM, C = 1000, gamma = auto</td>\n",
              "      <td>0.1410</td>\n",
              "      <td>0.3021</td>\n",
              "      <td>0.0669</td>\n",
              "    </tr>\n",
              "    <tr>\n",
              "      <th>5</th>\n",
              "      <td>Gaussian SVM, C = 100, gamma = auto</td>\n",
              "      <td>0.1804</td>\n",
              "      <td>0.2993</td>\n",
              "      <td>0.0688</td>\n",
              "    </tr>\n",
              "    <tr>\n",
              "      <th>6</th>\n",
              "      <td>Poly kernel SVM, deg=3, C=10000</td>\n",
              "      <td>0.1534</td>\n",
              "      <td>0.2880</td>\n",
              "      <td>0.0663</td>\n",
              "    </tr>\n",
              "    <tr>\n",
              "      <th>7</th>\n",
              "      <td>Poly kernel SVM, deg=2, C=10000</td>\n",
              "      <td>0.2146</td>\n",
              "      <td>0.3361</td>\n",
              "      <td>0.0778</td>\n",
              "    </tr>\n",
              "    <tr>\n",
              "      <th>8</th>\n",
              "      <td>Decision Tree</td>\n",
              "      <td>0.0000</td>\n",
              "      <td>0.2123</td>\n",
              "      <td>0.0687</td>\n",
              "    </tr>\n",
              "    <tr>\n",
              "      <th>9</th>\n",
              "      <td>Decision Tree, depth=4</td>\n",
              "      <td>0.0778</td>\n",
              "      <td>0.2290</td>\n",
              "      <td>0.0742</td>\n",
              "    </tr>\n",
              "    <tr>\n",
              "      <th>10</th>\n",
              "      <td>Decision Tree, depth=5</td>\n",
              "      <td>0.0384</td>\n",
              "      <td>0.2179</td>\n",
              "      <td>0.0719</td>\n",
              "    </tr>\n",
              "    <tr>\n",
              "      <th>11</th>\n",
              "      <td>RF, gini, 100 estimators</td>\n",
              "      <td>0.0000</td>\n",
              "      <td>0.1850</td>\n",
              "      <td>0.0623</td>\n",
              "    </tr>\n",
              "    <tr>\n",
              "      <th>12</th>\n",
              "      <td>RF, gini, max_depth=5, 100 estimators</td>\n",
              "      <td>0.0190</td>\n",
              "      <td>0.1851</td>\n",
              "      <td>0.0615</td>\n",
              "    </tr>\n",
              "    <tr>\n",
              "      <th>13</th>\n",
              "      <td>RF, gini, max_depth=6, 100 estimators</td>\n",
              "      <td>0.0071</td>\n",
              "      <td>0.1835</td>\n",
              "      <td>0.0602</td>\n",
              "    </tr>\n",
              "    <tr>\n",
              "      <th>14</th>\n",
              "      <td>RF, gini, max_depth=7, 100 estimators</td>\n",
              "      <td>0.0007</td>\n",
              "      <td>0.1843</td>\n",
              "      <td>0.0617</td>\n",
              "    </tr>\n",
              "    <tr>\n",
              "      <th>15</th>\n",
              "      <td>RF, entropy, 100 estimators</td>\n",
              "      <td>0.0000</td>\n",
              "      <td>0.1853</td>\n",
              "      <td>0.0616</td>\n",
              "    </tr>\n",
              "    <tr>\n",
              "      <th>16</th>\n",
              "      <td>RF, entropy, max_depth=5, 100 estimators</td>\n",
              "      <td>0.0227</td>\n",
              "      <td>0.1844</td>\n",
              "      <td>0.0605</td>\n",
              "    </tr>\n",
              "    <tr>\n",
              "      <th>17</th>\n",
              "      <td>RF, entropy, max_depth=6, 100 estimators</td>\n",
              "      <td>0.0116</td>\n",
              "      <td>0.1828</td>\n",
              "      <td>0.0599</td>\n",
              "    </tr>\n",
              "    <tr>\n",
              "      <th>18</th>\n",
              "      <td>RF, entropy, max_depth=7, 100 estimators</td>\n",
              "      <td>0.0026</td>\n",
              "      <td>0.1830</td>\n",
              "      <td>0.0620</td>\n",
              "    </tr>\n",
              "    <tr>\n",
              "      <th>19</th>\n",
              "      <td>AdaBoost, 100 estimators</td>\n",
              "      <td>0.0000</td>\n",
              "      <td>0.1719</td>\n",
              "      <td>0.0617</td>\n",
              "    </tr>\n",
              "    <tr>\n",
              "      <th>20</th>\n",
              "      <td>AdaBoost, learning rate=0.8, 100 estimators</td>\n",
              "      <td>0.0000</td>\n",
              "      <td>0.1697</td>\n",
              "      <td>0.0611</td>\n",
              "    </tr>\n",
              "    <tr>\n",
              "      <th>21</th>\n",
              "      <td>AdaBoost, learning rate=1.1, 100 estimators</td>\n",
              "      <td>0.0000</td>\n",
              "      <td>0.1714</td>\n",
              "      <td>0.0610</td>\n",
              "    </tr>\n",
              "  </tbody>\n",
              "</table>\n",
              "</div>"
            ],
            "text/plain": [
              "                                     Classifier  ...  Standard Deviation\n",
              "1                                           KNN  ...              0.0667\n",
              "2                             Linear kernel SVM  ...              0.0000\n",
              "3            Gaussian SVM, C=10000, gamma= auto  ...              0.0640\n",
              "4          Gaussian SVM, C = 1000, gamma = auto  ...              0.0669\n",
              "5           Gaussian SVM, C = 100, gamma = auto  ...              0.0688\n",
              "6               Poly kernel SVM, deg=3, C=10000  ...              0.0663\n",
              "7               Poly kernel SVM, deg=2, C=10000  ...              0.0778\n",
              "8                                 Decision Tree  ...              0.0687\n",
              "9                        Decision Tree, depth=4  ...              0.0742\n",
              "10                       Decision Tree, depth=5  ...              0.0719\n",
              "11                     RF, gini, 100 estimators  ...              0.0623\n",
              "12        RF, gini, max_depth=5, 100 estimators  ...              0.0615\n",
              "13        RF, gini, max_depth=6, 100 estimators  ...              0.0602\n",
              "14        RF, gini, max_depth=7, 100 estimators  ...              0.0617\n",
              "15                  RF, entropy, 100 estimators  ...              0.0616\n",
              "16     RF, entropy, max_depth=5, 100 estimators  ...              0.0605\n",
              "17     RF, entropy, max_depth=6, 100 estimators  ...              0.0599\n",
              "18     RF, entropy, max_depth=7, 100 estimators  ...              0.0620\n",
              "19                     AdaBoost, 100 estimators  ...              0.0617\n",
              "20  AdaBoost, learning rate=0.8, 100 estimators  ...              0.0611\n",
              "21  AdaBoost, learning rate=1.1, 100 estimators  ...              0.0610\n",
              "\n",
              "[21 rows x 4 columns]"
            ]
          },
          "metadata": {
            "tags": []
          },
          "execution_count": 186
        }
      ]
    }
  ]
}